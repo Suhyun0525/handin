{
 "cells": [
  {
   "cell_type": "markdown",
   "metadata": {},
   "source": [
    "# Midterm project Fall 2021 - Due 10.7.2021"
   ]
  },
  {
   "cell_type": "code",
   "execution_count": null,
   "metadata": {},
   "outputs": [],
   "source": []
  },
  {
   "cell_type": "code",
   "execution_count": null,
   "metadata": {},
   "outputs": [],
   "source": []
  },
  {
   "cell_type": "markdown",
   "metadata": {},
   "source": [
    "## We start by importing all neccessary libraries"
   ]
  },
  {
   "cell_type": "code",
   "execution_count": 2,
   "metadata": {},
   "outputs": [],
   "source": [
    "import numpy as np"
   ]
  },
  {
   "cell_type": "code",
   "execution_count": null,
   "metadata": {},
   "outputs": [],
   "source": []
  },
  {
   "cell_type": "code",
   "execution_count": null,
   "metadata": {},
   "outputs": [],
   "source": []
  },
  {
   "cell_type": "markdown",
   "metadata": {},
   "source": [
    "## This project aims to create a simple code that tells you the distance between two cities that you want to travel to/from; and using the average speed of the car tells you in how much time you are going from A to B"
   ]
  },
  {
   "cell_type": "markdown",
   "metadata": {},
   "source": [
    "## then we start creating the necessary variables"
   ]
  },
  {
   "cell_type": "code",
   "execution_count": 2,
   "metadata": {},
   "outputs": [
    {
     "name": "stdout",
     "output_type": "stream",
     "text": [
      "Problem 2:\n",
      "\n"
     ]
    }
   ],
   "source": [
    "print( 'Problem 2:\\n')"
   ]
  },
  {
   "cell_type": "code",
   "execution_count": 3,
   "metadata": {},
   "outputs": [
    {
     "name": "stdout",
     "output_type": "stream",
     "text": [
      "Welcome traveler! Can you let me know where you want to start from and where you want to go?  Available cities are:\n",
      "Atlanta, Baltimore, Boston, Charlotte, Dallas, Denver, Miami, Minneapolis, Orlando,  Sacramento, Tampa and Washington\n",
      " \n",
      "What is the city you start from?Orlando\n",
      "Which city is your destination?Tampa\n"
     ]
    }
   ],
   "source": [
    "#print a statement that welcomes the driver and offers him available cities to travel from/to:\n",
    "print(\"Welcome traveler! Can you let me know where you want to start from and where you want to go?\", \\\n",
    "      \" Available cities are:\")\n",
    "print(\"Atlanta, Baltimore, Boston, Charlotte, Dallas, Denver, Miami, Minneapolis, Orlando,\", \\\n",
    "      \" Sacramento, Tampa and Washington\")\n",
    "print(\" \")\n",
    "# ask for starting point\n",
    "start_city = input(\"What is the city you start from?\") \n",
    "\n",
    "# ask for the ending point\n",
    "target_city = input(\"Which city is your destination?\")"
   ]
  },
  {
   "cell_type": "code",
   "execution_count": 4,
   "metadata": {},
   "outputs": [],
   "source": [
    "#make the list of the available cities\n",
    "cities_list=[\"Atlanta\", \"Baltimore\", \"Boston\", \"Charlotte\", \\\n",
    "             \"Dallas\", \"Denver\", \"Miami\", \"Minneapolis\", \\\n",
    "             \"Orlando\", \"Sacramento\", \"Tampa\", \"Washington\" ]"
   ]
  },
  {
   "cell_type": "markdown",
   "metadata": {},
   "source": [
    "##### Test that your code so far works. Run it with a start city: Paris and end city: Orlando. When the code complains for your start city, give new start city: Atlanta. Make a screenshot of your test and save it with the appropriate name to your Midterm folder"
   ]
  },
  {
   "cell_type": "code",
   "execution_count": 8,
   "metadata": {},
   "outputs": [
    {
     "name": "stdout",
     "output_type": "stream",
     "text": [
      " Sorry start city not found! Input a new start city. Available cities are: ['Atlanta', 'Baltimore', 'Boston', 'Charlotte', 'Dallas', 'Denver', 'Miami', 'Minneapolis', 'Orlando', 'Sacramento', 'Tampa', 'Washington']\n",
      "What is the city you start from?Atlanta\n"
     ]
    }
   ],
   "source": [
    "if start_city not in cities_list:\n",
    "    print ( \" Sorry start city not found! Input a new start city. Available cities are:\", cities_list)\n",
    "    # ask for starting point\n",
    "    start_city =(input(\"What is the city you start from?\"))\n",
    "    \n",
    "if target_city not in cities_list:\n",
    "    print ( \" Sorry target city not found! Input a new target city.Available cities are:\", cities_list )\n",
    "    # ask for the ending point\n",
    "    target_city = (input(\"Which city is your destination?\"))"
   ]
  },
  {
   "cell_type": "markdown",
   "metadata": {},
   "source": [
    "### ---------------------------------------"
   ]
  },
  {
   "cell_type": "markdown",
   "metadata": {},
   "source": [
    "###  Use the appropriate numpy function to read the data intovariable travel_data"
   ]
  },
  {
   "cell_type": "code",
   "execution_count": 9,
   "metadata": {},
   "outputs": [
    {
     "name": "stdout",
     "output_type": "stream",
     "text": [
      "Problem 3: \n",
      "\n"
     ]
    }
   ],
   "source": [
    "print( 'Problem 3: \\n')"
   ]
  },
  {
   "cell_type": "markdown",
   "metadata": {},
   "source": [
    "### Assume that the traveler can travel at an average speed of 75mph. Calculate the average travel time it will take them to go from their start_cityto their target_city. Calculate how many days (travel_time_days), hours (travel_time_hours)andminutes (travel_time_minutes)the trip will take. Print an informative statement that lets the traveler know how long their trip will be in days, hours and minutes(e.g., “your trip from start_cityto end_citywill take 1 day, 2 hours and 3 minutes.”)"
   ]
  },
  {
   "cell_type": "code",
   "execution_count": 53,
   "metadata": {},
   "outputs": [
    {
     "name": "stdout",
     "output_type": "stream",
     "text": [
      "What is the city you start from?Orlando\n",
      "Which city is your destination?Tampa\n"
     ]
    }
   ],
   "source": [
    "#you should have just rerun the first input commands; here I retype them for seeing the changes:\n",
    "# ask for starting point\n",
    "start_city = input(\"What is the city you start from?\") \n",
    "\n",
    "# ask for the ending point\n",
    "target_city = input(\"Which city is your destination?\")"
   ]
  },
  {
   "cell_type": "code",
   "execution_count": 9,
   "metadata": {},
   "outputs": [],
   "source": [
    "# read in the table of cities and distances\n",
    "travel_data = np.loadtxt(\"../all_data/distances_midterm_new.dat\")"
   ]
  },
  {
   "cell_type": "code",
   "execution_count": 55,
   "metadata": {},
   "outputs": [],
   "source": [
    "#find which cities the driver asked in an index way:\n",
    "first_city  = cities_list.index( start_city )\n",
    "second_city = cities_list.index( target_city )\n"
   ]
  },
  {
   "cell_type": "code",
   "execution_count": 56,
   "metadata": {},
   "outputs": [
    {
     "name": "stdout",
     "output_type": "stream",
     "text": [
      "8 10\n"
     ]
    }
   ],
   "source": [
    "#test which ones they are:\n",
    "print( first_city, second_city )"
   ]
  },
  {
   "cell_type": "code",
   "execution_count": 57,
   "metadata": {},
   "outputs": [
    {
     "name": "stdout",
     "output_type": "stream",
     "text": [
      "The distance between the chosen cities is:  84.0  miles.\n"
     ]
    }
   ],
   "source": [
    "#now figure out the distance between the two cities\n",
    "\n",
    "#remember that we got the indexes from before:\n",
    "\n",
    "print(\"The distance between the chosen cities is: \", travel_data[ first_city, second_city ], \" miles.\")"
   ]
  },
  {
   "cell_type": "code",
   "execution_count": 58,
   "metadata": {},
   "outputs": [
    {
     "name": "stdout",
     "output_type": "stream",
     "text": [
      "It will take you  0.0  days,  1  hours 7  mins to get from  Orlando  to  Tampa\n"
     ]
    }
   ],
   "source": [
    "#Assume an average speed of 75mph and calculate how long it will take for traveler to \n",
    "#go from A to B:\n",
    "\n",
    "travel_time = travel_data[first_city,second_city]/ 75.   # t = s / u \n",
    "\n",
    "#make this in days, hrs and mins (rounded):\n",
    "\n",
    "travel_time_days = np.floor(travel_time / 24.)           # convert units from hours to days / hours/ minutes\n",
    "\n",
    "travel_time_hrs  = int( (travel_time - travel_time_days *24)  )\n",
    "travel_time_mins =  int( ((travel_time - travel_time_days *24) - \n",
    "                          int( (travel_time - travel_time_days *24)))  * 60. ) \n",
    "\n",
    "    \n",
    "print(\"It will take you \", travel_time_days, \" days, \", \\\n",
    "      travel_time_hrs, \" hours\", travel_time_mins, \" mins to get from \", start_city, \" to \", target_city)"
   ]
  },
  {
   "cell_type": "markdown",
   "metadata": {},
   "source": [
    "### Now that you have tested it works, you turn the program into a function that takes as input a list that contains the two cities (start, target) and outputs the necessary information (distance, time..):"
   ]
  },
  {
   "cell_type": "code",
   "execution_count": 25,
   "metadata": {},
   "outputs": [],
   "source": [
    "def my_trip_calculator(city_start, city_target ):\n",
    "    \"\"\"Uses a start city and a destination city to calculate the distance between them and how long \n",
    "    a trip will take. \n",
    "    \n",
    "    Input: start_city, end_city (names)\n",
    "    Outout: distance; time of travel (days, hrs, min) \"\"\"\n",
    "    \n",
    "    #make the list of the available cities\n",
    "    cities_list=[\"Atlanta\", \"Baltimore\", \"Boston\", \"Charlotte\", \\\n",
    "             \"Dallas\", \"Denver\", \"Miami\", \"Minneapolis\", \\\n",
    "             \"Orlando\", \"Sacramento\", \"Tampa\", \"Washingtong\" ]\n",
    "    \n",
    "    # get the distances data \n",
    "    travel_data = np.loadtxt(\"../all_data/distances_midterm_new.dat\")\n",
    "    \n",
    "#    -----\n",
    "    #find which cities the driver asked in an index way:\n",
    "    first_city  = cities_list.index( start_city  )\n",
    "    second_city = cities_list.index( target_city )\n",
    "\n",
    "    #calculate the distance\n",
    "    dist = travel_data[ first_city,second_city ]\n",
    "    print(\"The distance between the chosen cities is: \", travel_data[ first_city, second_city ], \" miles.\")\n",
    "    \n",
    "    # calculate the travel time in hours:\n",
    "    travel_time = travel_data[first_city,second_city]/ 75.\n",
    "\n",
    "    #make this in days, hrs and mins (rounded):\n",
    "\n",
    "    travel_time_days = np.floor(travel_time / 24.)\n",
    "    travel_time_hrs  = int( (travel_time - travel_time_days *24)  )\n",
    "    travel_time_mins =  int( ((travel_time - travel_time_days *24) - \n",
    "                              int( (travel_time - travel_time_days *24)))  * 60. ) \n",
    "\n",
    "    \n",
    "    print(\"It will take you \", travel_time_days, \" days, \", \\\n",
    "      travel_time_hrs, \" hours\", travel_time_mins, \" mins to get from \", start_city, \" to \", target_city)\n",
    "    \n",
    "    return dist, travel_time_days, travel_time_hrs, travel_time_mins"
   ]
  },
  {
   "cell_type": "code",
   "execution_count": 26,
   "metadata": {},
   "outputs": [
    {
     "name": "stdout",
     "output_type": "stream",
     "text": [
      "Welcome traveler! Can you let me know where you want to start from and where you want to go?  Available cities are:\n",
      "Atlanta, Baltimore, Boston, Charlotte, Dallas, Denver, Miami, Minneapolis, Orlando,  Sacramento, Tampa and Washington\n",
      " \n",
      "What is the city you start from?Orlando\n",
      "Which city is your destination?Tampa\n",
      "The distance between the chosen cities is:  84.0  miles.\n",
      "It will take you  0.0  days,  1  hours 7  mins to get from  Orlando  to  Tampa\n"
     ]
    }
   ],
   "source": [
    "#print a statement that welcomes the driver and offers him available cities to travel from/to:\n",
    "print(\"Welcome traveler! Can you let me know where you want to start from and where you want to go?\", \\\n",
    "      \" Available cities are:\")\n",
    "print(\"Atlanta, Baltimore, Boston, Charlotte, Dallas, Denver, Miami, Minneapolis, Orlando,\", \\\n",
    "      \" Sacramento, Tampa and Washington\")\n",
    "print(\" \")\n",
    "# ask for starting point\n",
    "start_city = input(\"What is the city you start from?\") \n",
    "\n",
    "# ask for the ending point\n",
    "target_city = input(\"Which city is your destination?\")\n",
    "\n",
    "if start_city not in cities_list:\n",
    "    print ( \" Sorry start city not found! Input a new start city. Available cities are:\", cities_list)\n",
    "    # ask for starting point\n",
    "    start_city =(input(\"What is the city you start from?\"))\n",
    "    \n",
    "if target_city not in cities_list:\n",
    "    print ( \" Sorry target city not found! Input a new target city.Available cities are:\", cities_list )\n",
    "    # ask for the ending point\n",
    "    target_city = (input(\"Which city is your destination?\"))\n",
    "\n",
    "test_function = my_trip_calculator( start_city, target_city)"
   ]
  },
  {
   "cell_type": "markdown",
   "metadata": {},
   "source": [
    "### ---------------------------------------"
   ]
  },
  {
   "cell_type": "code",
   "execution_count": null,
   "metadata": {},
   "outputs": [],
   "source": [
    "print( 'Problem 4: \\n')"
   ]
  },
  {
   "cell_type": "markdown",
   "metadata": {},
   "source": [
    "### now you need to modify the function to ask the input start_city, a pitstop_city and a target_city for your trip. We ll make a cross-country road trip with start_city: Boston, pitstop_city: Denver and target_city: Sacramento."
   ]
  },
  {
   "cell_type": "code",
   "execution_count": 25,
   "metadata": {},
   "outputs": [
    {
     "name": "stdout",
     "output_type": "stream",
     "text": [
      "Welcome traveler! Can you let me know where you want to start from, what your in between  city is and where you want to go? Available cities are:\n",
      "Atlanta, Baltimore, Boston, Charlotte, Dallas, Denver, Jacksonville, Minneapolis, Orlando, Sacramento, Tampa and Washington\n",
      " \n",
      "What is the city you start from?Boston\n",
      "Where will you make a pitstop?Denver\n",
      "Which city is your destination?Sacramento\n"
     ]
    }
   ],
   "source": [
    "#Ask the driver where they want to start from, what is their in between spot and target city:\n",
    "\n",
    "print(\"Welcome traveler! Can you let me know where you want to start from, what your in between \",\\\n",
    "      \"city is and where you want to go? Available cities are:\")\n",
    "print(\"Atlanta, Baltimore, Boston, Charlotte, Dallas, Denver, Jacksonville, Minneapolis, Orlando,\", \\\n",
    "      \"Sacramento, Tampa and Washington\")\n",
    "print(\" \")\n",
    "# ask for starting point\n",
    "start_city     =  (input(\"What is the city you start from?\"))\n",
    "\n",
    "#ask for in between point\n",
    "pitstop_city =  input(\"Where will you make a pitstop?\")\n",
    "\n",
    "# ask for the ending point\n",
    "target_city    = (input(\"Which city is your destination?\"))"
   ]
  },
  {
   "cell_type": "code",
   "execution_count": 26,
   "metadata": {},
   "outputs": [],
   "source": [
    "#find which cities the driver asked in an index way:\n",
    "first_city  = cities_list.index( start_city   )\n",
    "between_city = cities_list.index( pitstop_city )\n",
    "second_city = cities_list.index( target_city  )"
   ]
  },
  {
   "cell_type": "code",
   "execution_count": 27,
   "metadata": {},
   "outputs": [
    {
     "data": {
      "text/plain": [
       "(2, 5, 9)"
      ]
     },
     "execution_count": 27,
     "metadata": {},
     "output_type": "execute_result"
    }
   ],
   "source": [
    "first_city, between_city, second_city"
   ]
  },
  {
   "cell_type": "code",
   "execution_count": 28,
   "metadata": {},
   "outputs": [
    {
     "name": "stdout",
     "output_type": "stream",
     "text": [
      "The distance between the first two cities is:  1969.0  miles.\n",
      "The distance between the second two cities is:  1162.0  miles.\n"
     ]
    }
   ],
   "source": [
    "#now figure out the distance between the two sets of cities\n",
    "\n",
    "#remember that we got the indexes from before:\n",
    "\n",
    "print(\"The distance between the first two cities is: \" , travel_data[ first_city, between_city  ], \" miles.\")\n",
    "print(\"The distance between the second two cities is: \", travel_data[ between_city, second_city ], \" miles.\")\n"
   ]
  },
  {
   "cell_type": "code",
   "execution_count": 29,
   "metadata": {},
   "outputs": [
    {
     "name": "stdout",
     "output_type": "stream",
     "text": [
      "You will need to do  4.0 refuelling stops on first part and another  3  on the second part\n"
     ]
    }
   ],
   "source": [
    "#Assume a car that goes with 24.9 mpg on the highway and a deposit that fits 16g\n",
    "\n",
    "#calculate how many miles the car can do in one go:\n",
    "max_miles_traveled = 16 * 24.9 \n",
    "\n",
    "#calculate how many refuelling stops you need to do on the road:\n",
    "\n",
    "total_stops_first_part  = np.floor( travel_data[ first_city, between_city ]   / max_miles_traveled ) \n",
    "\n",
    "total_stops_second_part = int( (( travel_data[ first_city, between_city] / max_miles_traveled ) - \n",
    "                                    total_stops_first_part) + \\\n",
    "                      ( travel_data[ between_city, second_city] / max_miles_traveled ) )\n",
    "\n",
    "print(\"You will need to do \",total_stops_first_part, \"refuelling stops on first part and another \", \\\n",
    "      total_stops_second_part, \" on the second part\" )\n"
   ]
  },
  {
   "cell_type": "code",
   "execution_count": null,
   "metadata": {},
   "outputs": [],
   "source": []
  },
  {
   "cell_type": "code",
   "execution_count": 38,
   "metadata": {},
   "outputs": [
    {
     "name": "stdout",
     "output_type": "stream",
     "text": [
      "Your trip will cost you a total of  301.78 $\n"
     ]
    }
   ],
   "source": [
    "#Assume an average price of 2.4 dollars per gallon calculate how much the trip will cost in fuel:\n",
    "\n",
    "#first calculates how much total distance you will cover for the whole trip:\n",
    "total_dist_travel = travel_data[ first_city, between_city] + travel_data[ between_city, second_city]\n",
    "\n",
    "#then calculate how much gallons you will need for this distance:\n",
    "total_gas_needed  = total_dist_travel / 24.9 \n",
    "\n",
    "#now calculate how much that will cost:\n",
    "\n",
    "total_gas_value   = total_gas_needed * 2.4\n",
    "\n",
    "total_gas_value   = round(total_gas_value,2)\n",
    "\n",
    "#print how many $ the trip will cost to the driver\n",
    "\n",
    "print( \"Your trip will cost you a total of \", total_gas_value,\"$\")"
   ]
  },
  {
   "cell_type": "code",
   "execution_count": null,
   "metadata": {},
   "outputs": [],
   "source": []
  },
  {
   "cell_type": "code",
   "execution_count": 32,
   "metadata": {},
   "outputs": [],
   "source": [
    "## this would be added to your function as (I change the name here to show the difference; you didn't need to):\n",
    "\n",
    "\n",
    "def my_trip_calculator_pitstops(start_city, target_city ):\n",
    "    \"\"\"Uses a start city and a destination city to calculate the distance between them and how long \n",
    "    a trip will take. \n",
    "    \n",
    "    Input: start_city, end_city (names)\n",
    "    Outout: distance; time of travel (days, hrs, min) \"\"\"\n",
    "    \n",
    "    #make the list of the available cities\n",
    "    cities_list=[\"Atlanta\", \"Baltimore\", \"Boston\", \"Charlotte\", \\\n",
    "             \"Dallas\", \"Denver\", \"Miami\", \"Minneapolis\", \\\n",
    "             \"Orlando\", \"Sacramento\", \"Tampa\", \"Washingtong\" ]\n",
    "    \n",
    "    # get the distances data \n",
    "    travel_data = np.loadtxt(\"../all_data/distances_midterm_new.dat\")\n",
    "    \n",
    "    \n",
    "    #ask for in between point\n",
    "    pitstop_city =  input(\"Where will you make a pitstop?\")\n",
    "\n",
    "#    -----\n",
    "    #find which cities the driver asked in an index way:\n",
    "    first_city  = cities_list.index( start_city  )\n",
    "    second_city = cities_list.index( target_city )\n",
    "    \n",
    "    between_city = cities_list.index( pitstop_city )\n",
    "\n",
    "    #first calculates how much total distance you will cover for the whole trip:\n",
    "    total_dist_travel = travel_data[ first_city, between_city] + travel_data[ between_city, second_city]\n",
    "\n",
    "    print(\"The distance of the trip is: \", total_dist_travel, \" miles.\")\n",
    "\n",
    "    \n",
    "    # calculate the travel time in hours:\n",
    "    travel_time = total_dist_travel / 75.\n",
    "\n",
    "    #make this in days, hrs and mins (rounded):\n",
    "\n",
    "    travel_time_days = int( travel_time / 24.)\n",
    "    travel_time_hrs  = int( (travel_time - travel_time_days *24)  )\n",
    "    travel_time_mins =  int( ((travel_time - travel_time_days *24) - int( (travel_time - travel_time_days *24)))  * 60. ) \n",
    "\n",
    "    \n",
    "    print(\"It will take you \", travel_time_days, \" days, \", \\\n",
    "      travel_time_hrs, \" hours\", travel_time_mins, \" mins to get from \", start_city, \" to \", target_city)\n",
    " \n",
    "    \n",
    "    #then calculate how much gallons you will need for this distance:\n",
    "    total_gas_needed  = total_dist_travel / 24.9 \n",
    "\n",
    "    #now calculate how much that will cost:\n",
    "\n",
    "    total_gas_value   = total_gas_needed * 2.4\n",
    "\n",
    "    total_gas_value   = round(total_gas_value,2)\n",
    "\n",
    "    #print how many $ the trip will cost to the driver\n",
    "\n",
    "    print( \"Your trip will cost you a total of \", total_gas_value,\"$\")\n",
    " \n",
    "    #calculate how many miles the car can do in one go:\n",
    "    max_miles_traveled = 16 * 24.9 \n",
    "\n",
    "    #calculate how many refuelling stops you need to do on the road:\n",
    "\n",
    "    total_stops_first_part  = np.floor( travel_data[ first_city, between_city ]   / max_miles_traveled ) \n",
    "\n",
    "    total_stops_second_part = int( (( travel_data[ first_city, between_city] / max_miles_traveled ) - \n",
    "                                    total_stops_first_part) + \\\n",
    "                      ( travel_data[ between_city, second_city] / max_miles_traveled ) )\n",
    "\n",
    "    print(\"You will need to do \",total_stops_first_part, \"refuelling stops on first part and another \", \\\n",
    "      total_stops_second_part, \" on the second part\" )\n",
    "\n",
    "\n",
    "\n",
    "\n",
    "   \n",
    "    return -1\n"
   ]
  },
  {
   "cell_type": "code",
   "execution_count": 34,
   "metadata": {},
   "outputs": [
    {
     "name": "stdout",
     "output_type": "stream",
     "text": [
      "Welcome traveler! Can you let me know where you want to start from, what your in between  city is and where you want to go? Available cities are:\n",
      "Atlanta, Baltimore, Boston, Charlotte, Dallas, Denver, Jacksonville, Minneapolis, Orlando, Sacramento, Tampa and Washington\n",
      " \n",
      "What is the city you start from?Boston\n",
      "Which city is your destination?Sacramento\n",
      "Where will you make a pitstop?Denver\n",
      "The distance of the trip is:  3131.0  miles.\n",
      "It will take you  1  days,  17  hours 44  mins to get from  Boston  to  Sacramento\n",
      "Your trip will cost you a total of  301.78 $\n",
      "You will need to do  4.0 refuelling stops on first part and another  3  on the second part\n"
     ]
    }
   ],
   "source": [
    "#Ask the driver where they want to start from, what is their in between spot and target city:\n",
    "\n",
    "print(\"Welcome traveler! Can you let me know where you want to start from, what your in between \",\\\n",
    "      \"city is and where you want to go? Available cities are:\")\n",
    "print(\"Atlanta, Baltimore, Boston, Charlotte, Dallas, Denver, Jacksonville, Minneapolis, Orlando,\", \\\n",
    "      \"Sacramento, Tampa and Washington\")\n",
    "print(\" \")\n",
    "# ask for starting point\n",
    "start_city     =  (input(\"What is the city you start from?\"))  # Boston -- > Denver\n",
    "\n",
    "# ask for the ending point\n",
    "target_city    = (input(\"Which city is your destination?\"))    # Sacramento\n",
    "\n",
    "new_trip = my_trip_calculator_pitstops( start_city, target_city )"
   ]
  },
  {
   "cell_type": "markdown",
   "metadata": {},
   "source": [
    "### --------------------------------------------"
   ]
  },
  {
   "cell_type": "code",
   "execution_count": 59,
   "metadata": {},
   "outputs": [
    {
     "name": "stdout",
     "output_type": "stream",
     "text": [
      "Problem 5: \n",
      "\n"
     ]
    }
   ],
   "source": [
    "print( 'Problem 5: \\n')"
   ]
  },
  {
   "cell_type": "markdown",
   "metadata": {},
   "source": [
    "### Do a small navigation effort"
   ]
  },
  {
   "cell_type": "code",
   "execution_count": 5,
   "metadata": {},
   "outputs": [
    {
     "name": "stdout",
     "output_type": "stream",
     "text": [
      "Welcome traveler! Can you let me know where you want to start from and where you want to go? Available cities are:\n",
      "Atlanta, Baltimore, Boston, Charlotte, Dallas, Denver, Jacksonville, Minneapolis, Orlando, Sacramento, Tampa and Washington\n",
      " \n",
      "What is the city you start from?Baltimore\n",
      "Which city is your destination?Orlando\n"
     ]
    }
   ],
   "source": [
    "#print a statement that welcomes the driver and offers him available cities to travel from/to:\n",
    "print(\"Welcome traveler! Can you let me know where you want to start from and where you want to go?\",\\\n",
    "      \"Available cities are:\")\n",
    "print(\"Atlanta, Baltimore, Boston, Charlotte, Dallas, Denver, Jacksonville, Minneapolis, Orlando,\",\\\n",
    "      \"Sacramento, Tampa and Washington\")\n",
    "print(\" \")\n",
    "# ask for starting point\n",
    "start_city =(input(\"What is the city you start from?\"))\n",
    "\n",
    "# ask for the ending point\n",
    "target_city = (input(\"Which city is your destination?\"))"
   ]
  },
  {
   "cell_type": "code",
   "execution_count": 7,
   "metadata": {},
   "outputs": [],
   "source": [
    "#test which is the fastest way to do this by scanning all possible routes containing up to 3 cities (one pitstop): \n",
    "\n",
    "#find which cities the driver asked in an index way:\n",
    "first_city  = cities_list.index(start_city)\n",
    "second_city = cities_list.index(target_city)\n",
    "\n",
    "\n"
   ]
  },
  {
   "cell_type": "code",
   "execution_count": 18,
   "metadata": {},
   "outputs": [
    {
     "name": "stdout",
     "output_type": "stream",
     "text": [
      "1116.0 1116.0 Atlanta\n",
      "946.0 946.0 Charlotte\n",
      "885.0 885.0 Washington\n",
      "Fastest option to go from  Baltimore  to  Orlando  is via  Washington\n",
      "You will travel  885.0  miles\n"
     ]
    }
   ],
   "source": [
    "#calculate different possible routes and keep the one with the min distance:\n",
    "\n",
    "#for this we need to start in the correct line; get distance to other cities and add the distance of each \n",
    "#other city to the destination. We start with city 0 and then shift to next one - only keep the min of the 2 \n",
    "\n",
    "min_tot_dist = 100000. ## absurdly large distance to start with as we want the minimum:\n",
    "\n",
    "for ind in range( len( cities_list ) ):\n",
    "    if ind != second_city and ind != first_city :\n",
    "      #  print(\"travel via: \",cities_list[ind])\n",
    "        dist_1           = travel_data[ first_city , ind ]\n",
    "        dist_2           = travel_data[ ind        , second_city ]\n",
    "        tot_dist         = dist_1 + dist_2 \n",
    "        \n",
    "    #    min_tot_dist     =  min( tot_dist , min_tot_dist )\n",
    "\n",
    "        if  tot_dist < min_tot_dist :    # if distance smaller keep the index of city\n",
    "            min_tot_dist_ind =  ind\n",
    "            min_tot_dist = tot_dist \n",
    "\n",
    "            print (tot_dist, min_tot_dist, cities_list[ ind ] )\n",
    "            \n",
    "            \n",
    "print(\"Fastest option to go from \", start_city, \" to \", target_city, \" is via \", cities_list[min_tot_dist_ind])\n",
    "print(\"You will travel \", min_tot_dist, \" miles\")\n"
   ]
  },
  {
   "cell_type": "code",
   "execution_count": null,
   "metadata": {},
   "outputs": [],
   "source": []
  },
  {
   "cell_type": "code",
   "execution_count": 62,
   "metadata": {},
   "outputs": [
    {
     "name": "stdout",
     "output_type": "stream",
     "text": [
      "Fastest option to go from  Baltimore  to  Orlando  is via  Washington\n",
      "You will travel  885.0  miles\n"
     ]
    }
   ],
   "source": [
    "# or: \n",
    "min_tot_dist = 100000.  # start with an absurdly large distance since we want the minimum\n",
    "\n",
    "for ind in range( len( cities_list ) ):\n",
    "    if ind != second_city and ind != first_city :  # safety valve; in this example doesn't matter really\n",
    "      #  print(\"travel via: \",cities_list[ind])\n",
    "        dist_1           = travel_data[ first_city , ind ]\n",
    "        dist_2           = travel_data[ ind        , second_city ]\n",
    "        tot_dist         = dist_1 + dist_2 \n",
    "    #    print (tot_dist, min_tot_dist)\n",
    "        min_tot_dist     =  min( tot_dist , min_tot_dist )\n",
    "\n",
    "        if min_tot_dist == tot_dist:\n",
    "            min_tot_dist_ind =  ind\n",
    "    \n",
    "print(\"Fastest option to go from \", start_city, \" to \", target_city, \" is via \", cities_list[min_tot_dist_ind])\n",
    "print(\"You will travel \", min_tot_dist, \" miles\")"
   ]
  },
  {
   "cell_type": "code",
   "execution_count": null,
   "metadata": {},
   "outputs": [],
   "source": []
  },
  {
   "cell_type": "code",
   "execution_count": 65,
   "metadata": {},
   "outputs": [
    {
     "name": "stdout",
     "output_type": "stream",
     "text": [
      "The distance between the first two cities is:  39.0  miles.\n",
      "The distance between the second two cities is:  846.0  miles.\n"
     ]
    }
   ],
   "source": [
    "\n",
    "print(\"The distance between the first two cities is: \", travel_data[first_city,min_tot_dist_ind], \" miles.\")\n",
    "print(\"The distance between the second two cities is: \", travel_data[min_tot_dist_ind , second_city], \" miles.\")\n"
   ]
  },
  {
   "cell_type": "code",
   "execution_count": 22,
   "metadata": {},
   "outputs": [
    {
     "name": "stdout",
     "output_type": "stream",
     "text": [
      "You will need to do  0 refuelling stops on first part and another  2.0  on the second part\n"
     ]
    }
   ],
   "source": [
    "#Assume a car that goes with 24.9 mpg on the highway and a deposit that fits 16g\n",
    "\n",
    "#calculate how many miles the car can do in one go:\n",
    "max_miles_traveled = 16 * 24.9 \n",
    "\n",
    "#calculate how many refuelling stops you need to do on the road:\n",
    "\n",
    "total_stops_first_part  = int( travel_data[first_city,min_tot_dist_ind]   / max_miles_traveled )\n",
    "total_stops_second_part = np.floor( ((travel_data[first_city,min_tot_dist_ind] / max_miles_traveled)  - \\\n",
    "                                total_stops_first_part ) + \\\n",
    "                                travel_data[min_tot_dist_ind, second_city] / max_miles_traveled ) \n",
    "\n",
    "print(\"You will need to do \",total_stops_first_part, \"refuelling stops on first part and another \", \\\n",
    "      total_stops_second_part, \" on the second part\" )\n"
   ]
  },
  {
   "cell_type": "code",
   "execution_count": 67,
   "metadata": {},
   "outputs": [
    {
     "name": "stdout",
     "output_type": "stream",
     "text": [
      "Your trip will cost you a total of  85.3 $\n"
     ]
    }
   ],
   "source": [
    "#Assume an average price of 2.4 dollars per gallon calculate how much the trip will cost in fuel:\n",
    "\n",
    "#first calculates how much total distance you will cover for the whole trip:\n",
    "total_dist_travel = travel_data[first_city,min_tot_dist_ind] + travel_data[min_tot_dist_ind, second_city ]\n",
    "\n",
    "#then calculate how much gallons you will need for this distance:\n",
    "total_gas_needed  = total_dist_travel / 24.9 \n",
    "\n",
    "#now calculate how much that will cost:\n",
    "\n",
    "total_gas_value   = total_gas_needed * 2.4\n",
    "\n",
    "total_gas_value   = round(total_gas_value,2)\n",
    "\n",
    "#print how many $ the trip will cost to the driver\n",
    "\n",
    "print( \"Your trip will cost you a total of \", total_gas_value,\"$\")"
   ]
  },
  {
   "cell_type": "code",
   "execution_count": null,
   "metadata": {},
   "outputs": [],
   "source": []
  },
  {
   "cell_type": "markdown",
   "metadata": {},
   "source": [
    "### Now putting it all together:"
   ]
  },
  {
   "cell_type": "code",
   "execution_count": 35,
   "metadata": {},
   "outputs": [],
   "source": [
    "# again, I modified the name here just to show the difference; you didn't have to:\n",
    "\n",
    "def my_trip_calculator_final(city_start, city_target ):\n",
    "    \"\"\"Uses a start city and a destination city to calculate the distance between them and how long \n",
    "    a trip will take. \n",
    "    \n",
    "    Input: start_city, end_city (names)\n",
    "    Outout: distance; time of travel (days, hrs, min) \"\"\"\n",
    "    \n",
    "    #make the list of the available cities\n",
    "    cities_list=[\"Atlanta\", \"Baltimore\", \"Boston\", \"Charlotte\", \\\n",
    "             \"Dallas\", \"Denver\", \"Miami\", \"Minneapolis\", \\\n",
    "             \"Orlando\", \"Sacramento\", \"Tampa\", \"Washington\" ]\n",
    "    # get the distances data \n",
    "    travel_data = np.loadtxt(\"../all_data/distances_midterm_new.dat\")\n",
    "    \n",
    "#    -----\n",
    "    #find which cities the driver asked in an index way:\n",
    "    first_city  = cities_list.index(start_city)\n",
    "    second_city = cities_list.index(target_city)\n",
    "\n",
    "    \n",
    "    # now we will add a pitstop city:\n",
    "    #calculate different possible routes and keep the one with the min distance:\n",
    "\n",
    "    #for this we need to start in the correct line; get distance to other cities \n",
    "    # and add the distance of each other city to the destination. We start with \n",
    "    # city 1 and then shift to next one - only keep the min of the 2 \n",
    "    min_tot_dist = 100000.\n",
    "\n",
    "    for ind in range(len(cities_list)):\n",
    "        if ind != second_city and ind != first_city :\n",
    "        \n",
    "            dist_1           = travel_data[ first_city , ind ]\n",
    "            dist_2           = travel_data[ ind        , second_city ]\n",
    "            tot_dist         = dist_1 + dist_2 \n",
    "    \n",
    "            if  tot_dist < min_tot_dist :    # if distance smaller keep the index of city\n",
    "                min_tot_dist_ind =  ind\n",
    "                min_tot_dist = tot_dist \n",
    "    \n",
    "    print(\"Fastest option to go from \", start_city, \" to \", target_city, \n",
    "          \" is via \", cities_list[min_tot_dist_ind])\n",
    "    print(\"You will travel \", min_tot_dist, \" miles\")\n",
    "    \n",
    "    #calculate the distance\n",
    "    dist1 = travel_data[ first_city, min_tot_dist_ind ]\n",
    "    dist2 = travel_data[ min_tot_dist_ind , second_city ]\n",
    "    \n",
    "    print(\"The distance between the first two cities is: \", \n",
    "          travel_data[ first_city, min_tot_dist_ind ], \" miles.\")\n",
    "    print(\"The distance between the second two cities is: \", \n",
    "          travel_data[ min_tot_dist_ind , second_city], \" miles.\")\n",
    "   \n",
    "    # calculate the travel time in hours:\n",
    "    travel_time = (dist1 + dist2 )/ 75.\n",
    "\n",
    "    #make this in days, hrs and mins (rounded):\n",
    "\n",
    "    travel_time_days = np.floor(travel_time / 24.)\n",
    "    travel_time_hrs  = int( (travel_time - travel_time_days *24)  )\n",
    "    travel_time_mins =  int( ((travel_time - travel_time_days *24) - \n",
    "                              int( (travel_time - travel_time_days *24)))  * 60. ) \n",
    "\n",
    "    \n",
    "    print(\"It will take you \", travel_time_days, \" days, \", \\\n",
    "      travel_time_hrs, \" hours\", travel_time_mins, \" mins to get from \", start_city, \" to \", target_city)\n",
    "    \n",
    "\n",
    "    #Assume a car that goes with 24.9 mpg on the highway and a deposit that fits 16g\n",
    "\n",
    "    #calculate how many miles the car can do in one go:\n",
    "    max_miles_traveled = 16 * 24.9 \n",
    "\n",
    "    #calculate how many refuelling stops you need to do on the road:\n",
    "\n",
    "    total_stops_first_part  = np.floor( travel_data[first_city,min_tot_dist_ind]   / max_miles_traveled )\n",
    "    total_stops_second_part = int( ((travel_data[first_city,min_tot_dist_ind] / max_miles_traveled)  - \\\n",
    "                                total_stops_first_part ) + \\\n",
    "                                travel_data[min_tot_dist_ind, second_city] / max_miles_traveled )\n",
    " \n",
    "    print(\"You will need to do \",total_stops_first_part, \"refuelling stops on first part and another \", \\\n",
    "      total_stops_second_part, \" on the second part\" )\n",
    "\n",
    "    #Assume an average price of 2.4 dollars per gallon calculate how much the trip will cost in fuel:\n",
    "\n",
    "    #first calculates how much total distance you will cover for the whole trip:\n",
    "    total_dist_travel = travel_data[first_city,min_tot_dist_ind] + travel_data[min_tot_dist_ind, second_city ]\n",
    "\n",
    "    #then calculate how much gallons you will need for this distance:\n",
    "    total_gas_needed  = total_dist_travel / 24.9 \n",
    "\n",
    "    #now calculate how much that will cost:\n",
    "\n",
    "    total_gas_value   = total_gas_needed * 2.4\n",
    "\n",
    "    total_gas_value   = round(total_gas_value,2)\n",
    "\n",
    "    #print how many $ the trip will cost to the driver\n",
    "\n",
    "    print( \"Your trip will cost you a total of \", total_gas_value,\"$\")\n",
    "    \n",
    "    \n",
    "    return dist1+dist2, travel_time_days, travel_time_hrs, travel_time_mins"
   ]
  },
  {
   "cell_type": "code",
   "execution_count": 36,
   "metadata": {},
   "outputs": [
    {
     "name": "stdout",
     "output_type": "stream",
     "text": [
      "Welcome traveler! Can you let me know where you want to start from and where you want to go?  Available cities are:\n",
      "Atlanta, Baltimore, Boston, Charlotte, Dallas, Denver, Jacksonville, Minneapolis, Orlando,  Sacramento, Tampa and Washington\n",
      " \n",
      "What is the city you start from?Baltimore\n",
      "Which city is your destination?Orlando\n",
      "Fastest option to go from  Baltimore  to  Orlando  is via  Washington\n",
      "You will travel  885.0  miles\n",
      "The distance between the first two cities is:  39.0  miles.\n",
      "The distance between the second two cities is:  846.0  miles.\n",
      "It will take you  0.0  days,  11  hours 48  mins to get from  Baltimore  to  Orlando\n",
      "You will need to do  0.0 refuelling stops on first part and another  2  on the second part\n",
      "Your trip will cost you a total of  85.3 $\n"
     ]
    }
   ],
   "source": [
    "#print a statement that welcomes the driver and offers him available cities to travel from/to:\n",
    "print(\"Welcome traveler! Can you let me know where you want to start from and where you want to go?\", \\\n",
    "      \" Available cities are:\")\n",
    "print(\"Atlanta, Baltimore, Boston, Charlotte, Dallas, Denver, Jacksonville, Minneapolis, Orlando,\", \\\n",
    "      \" Sacramento, Tampa and Washington\")\n",
    "print(\" \")\n",
    "# ask for starting point\n",
    "start_city =(input(\"What is the city you start from?\"))\n",
    "\n",
    "# ask for the ending point\n",
    "target_city = (input(\"Which city is your destination?\"))\n",
    "\n",
    "outs = my_trip_calculator_final( start_city, target_city )"
   ]
  },
  {
   "cell_type": "code",
   "execution_count": null,
   "metadata": {},
   "outputs": [],
   "source": []
  },
  {
   "cell_type": "code",
   "execution_count": null,
   "metadata": {},
   "outputs": [],
   "source": []
  },
  {
   "cell_type": "code",
   "execution_count": null,
   "metadata": {},
   "outputs": [],
   "source": []
  }
 ],
 "metadata": {
  "kernelspec": {
   "display_name": "Python 3",
   "language": "python",
   "name": "python3"
  },
  "language_info": {
   "codemirror_mode": {
    "name": "ipython",
    "version": 3
   },
   "file_extension": ".py",
   "mimetype": "text/x-python",
   "name": "python",
   "nbconvert_exporter": "python",
   "pygments_lexer": "ipython3",
   "version": "3.7.11"
  }
 },
 "nbformat": 4,
 "nbformat_minor": 2
}
