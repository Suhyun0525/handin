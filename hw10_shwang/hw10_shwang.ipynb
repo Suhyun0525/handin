{
 "cells": [
  {
   "cell_type": "markdown",
   "id": "810218ef",
   "metadata": {},
   "source": [
    "# Suhyun Hwang"
   ]
  },
  {
   "cell_type": "markdown",
   "id": "97042216",
   "metadata": {},
   "source": [
    "# Homework 10"
   ]
  },
  {
   "cell_type": "markdown",
   "id": "271b4677",
   "metadata": {},
   "source": [
    "# Oct 29 2021"
   ]
  },
  {
   "cell_type": "markdown",
   "id": "2c14d64a",
   "metadata": {},
   "source": [
    "#### Problem 2"
   ]
  },
  {
   "cell_type": "code",
   "execution_count": 1,
   "id": "fa1351b4",
   "metadata": {},
   "outputs": [
    {
     "name": "stdout",
     "output_type": "stream",
     "text": [
      "Problem 2\n"
     ]
    }
   ],
   "source": [
    "print('Problem 2')"
   ]
  },
  {
   "cell_type": "code",
   "execution_count": null,
   "id": "7c410775",
   "metadata": {},
   "outputs": [],
   "source": [
    "class holiday_frenzy:\n",
    "    def __init__(self,a,b,c, number_of_gifts, wrap_paper_available):\n",
    "        self.dimension1 = a\n",
    "        self.dimension2 = b\n",
    "        self.dimension3 = c\n",
    "        self.gifts = number_of_gifts\n",
    "        self.paper = wrap_paper_available\n",
    "     \n",
    "    def surface_area(self):\n",
    "        self.area = self.dimension1 * self.dimension2 \n",
    "        return self.area\n",
    "       \n",
    "    def volume(self):\n",
    "        self.volume = self.area * self.dimension3\n",
    "        return self.volume\n",
    "    \n",
    "    def enough_paper(self):\n",
    "        if self.volume <= self.paper:\n",
    "            print(\"True\")\n",
    "        else:\n",
    "            print(\"False\")\n",
    "    \n",
    "    def fits(self):\n",
    "        if self.volume >= self.gifts * 25:\n",
    "            print(\"True\")\n",
    "        else:\n",
    "            print(\"False\")\n",
    "            \n",
    "    def print_gift(self):\n",
    "        \n",
    "  \n"
   ]
  },
  {
   "cell_type": "code",
   "execution_count": null,
   "id": "40bb269c",
   "metadata": {},
   "outputs": [],
   "source": [
    "class holiday_frenzy:\n",
    "    def __init__(self,a,b,c, number_of_gifts, wrap_paper_available):\n",
    "        self.dimension1 = a\n",
    "        self.dimension2 = b\n",
    "        self.dimension3 = c\n",
    "        self.gifts = number_of_gifts\n",
    "        self.paper = wrap_paper_available\n",
    "     \n",
    "    def surface_area(self):\n",
    "        self.area = self.dimension1 * self.dimension2 \n",
    "        return self.area\n",
    "       \n",
    "    def volume(self):\n",
    "        self.volume = self.area * self.dimension3\n",
    "        return self.volume\n",
    "    \n",
    "    def enough_paper(self):\n",
    "        if self.volume <= self.paper:\n",
    "            print(\"True\")\n",
    "        else:\n",
    "            print(\"False\")\n",
    "    \n",
    "    def fits(self):\n",
    "        if self.volume >= self.gifts * 25:\n",
    "            print(\"True\")\n",
    "        else:\n",
    "            print(\"False\")\n",
    "            \n",
    "    def print_gift(self):\n",
    "        if fits(self) == T\n",
    "        \n",
    "  \n"
   ]
  },
  {
   "cell_type": "code",
   "execution_count": 92,
   "id": "a3a2e0e5",
   "metadata": {},
   "outputs": [
    {
     "ename": "NameError",
     "evalue": "name 'self' is not defined",
     "output_type": "error",
     "traceback": [
      "\u001b[1;31m---------------------------------------------------------------------------\u001b[0m",
      "\u001b[1;31mNameError\u001b[0m                                 Traceback (most recent call last)",
      "\u001b[1;32m<ipython-input-92-05484dfae91f>\u001b[0m in \u001b[0;36m<module>\u001b[1;34m\u001b[0m\n\u001b[0;32m      1\u001b[0m \u001b[0mribbon\u001b[0m \u001b[1;33m=\u001b[0m \u001b[0mholiday_frenzy\u001b[0m\u001b[1;33m(\u001b[0m\u001b[1;36m8\u001b[0m\u001b[1;33m,\u001b[0m\u001b[1;36m8\u001b[0m\u001b[1;33m,\u001b[0m\u001b[1;36m8\u001b[0m\u001b[1;33m)\u001b[0m\u001b[1;33m\u001b[0m\u001b[1;33m\u001b[0m\u001b[0m\n\u001b[1;32m----> 2\u001b[1;33m \u001b[0mribbon\u001b[0m\u001b[1;33m.\u001b[0m\u001b[0mvolume\u001b[0m\u001b[1;33m(\u001b[0m\u001b[1;33m)\u001b[0m\u001b[1;33m\u001b[0m\u001b[1;33m\u001b[0m\u001b[0m\n\u001b[0m",
      "\u001b[1;32m<ipython-input-91-8b03a59f661d>\u001b[0m in \u001b[0;36mvolume\u001b[1;34m(surface_area)\u001b[0m\n\u001b[0;32m      9\u001b[0m \u001b[1;33m\u001b[0m\u001b[0m\n\u001b[0;32m     10\u001b[0m     \u001b[1;32mdef\u001b[0m \u001b[0mvolume\u001b[0m\u001b[1;33m(\u001b[0m\u001b[0msurface_area\u001b[0m\u001b[1;33m)\u001b[0m\u001b[1;33m:\u001b[0m\u001b[1;33m\u001b[0m\u001b[1;33m\u001b[0m\u001b[0m\n\u001b[1;32m---> 11\u001b[1;33m         \u001b[0mprint\u001b[0m\u001b[1;33m(\u001b[0m\u001b[0msurface_area\u001b[0m\u001b[1;33m(\u001b[0m\u001b[0mself\u001b[0m\u001b[1;33m)\u001b[0m \u001b[1;33m*\u001b[0m \u001b[0mself\u001b[0m\u001b[1;33m.\u001b[0m\u001b[0mdimension3\u001b[0m\u001b[1;33m)\u001b[0m\u001b[1;33m\u001b[0m\u001b[1;33m\u001b[0m\u001b[0m\n\u001b[0m\u001b[0;32m     12\u001b[0m \u001b[1;33m\u001b[0m\u001b[0m\n\u001b[0;32m     13\u001b[0m \u001b[1;33m\u001b[0m\u001b[0m\n",
      "\u001b[1;31mNameError\u001b[0m: name 'self' is not defined"
     ]
    }
   ],
   "source": [
    "ribbon = holiday_frenzy(8,8,8)\n",
    "ribbon.volume()"
   ]
  },
  {
   "cell_type": "code",
   "execution_count": 34,
   "id": "316c245c",
   "metadata": {},
   "outputs": [
    {
     "name": "stdout",
     "output_type": "stream",
     "text": [
      "100\n"
     ]
    }
   ],
   "source": [
    "#holiday_frenzy1 = holiday_frenzy(10,10)\n",
    "holiday_frenzy1.surface_area()"
   ]
  },
  {
   "cell_type": "code",
   "execution_count": null,
   "id": "bcd65acc",
   "metadata": {},
   "outputs": [],
   "source": [
    "print(\"The box's surface area is \", self.area, \"inch\", \"and the volume is \", self.volume, \"inch\", \". You are not goning to fit all your gifts into the box since you have\", self.gifts, \"gifts.\")"
   ]
  },
  {
   "cell_type": "code",
   "execution_count": 78,
   "id": "571b110e",
   "metadata": {},
   "outputs": [],
   "source": [
    "class holiday_frenzy:\n",
    "    def __init__(self,a,b,c, number_of_gifts, wrap_paper_available):\n",
    "        self.dimension1 = a\n",
    "        self.dimension2 = b\n",
    "        self.dimension3 = c\n",
    "        self.gifts = number_of_gifts\n",
    "        self.paper = wrap_paper_available\n",
    "     \n",
    "    def surface_area(self):\n",
    "        self.area = self.dimension1 * self.dimension2 \n",
    "        return self.area\n",
    "       \n",
    "    def volume(self):\n",
    "        self.volume = self.area * self.dimension3\n",
    "        return self.volume\n",
    "    \n",
    "    def enough_paper(self):\n",
    "        if self.volume <= self.paper:\n",
    "            print(\"True\")\n",
    "        else:\n",
    "            print(\"False\")\n",
    "    \n",
    "    def fits(self):\n",
    "        if self.volume >= self.gifts * 25:\n",
    "            print(\"True\")\n",
    "        else:\n",
    "            print(\"False\")\n",
    "            \n",
    "    def print_gift(self):\n",
    "        if self.volume <= self.paper:\n",
    "            print(\"You have enough \")\n",
    "        else:\n",
    "            print(\"The box with dimensions \", self.dimension1, \"inch\" self.dimension2, self.dimension3, )\n",
    "        if self.volume >= self.gifts * 25:\n",
    "            print(\"True\")\n",
    "        else:\n",
    "            print(\"The box's surface area is \", self.area, \"inch\", \"and the volume is \", self.volume, \"inch\", \". You are not goning to fit all your gifts into the box since you have\", self.gifts, \"gifts.\")\n"
   ]
  },
  {
   "cell_type": "code",
   "execution_count": 80,
   "id": "f78d5bf7",
   "metadata": {},
   "outputs": [
    {
     "data": {
      "text/plain": [
       "100"
      ]
     },
     "execution_count": 80,
     "metadata": {},
     "output_type": "execute_result"
    }
   ],
   "source": [
    "holiday_frenzy2 = holiday_frenzy(10,10,10,55,1000)\n",
    "holiday_frenzy2.surface_area()"
   ]
  },
  {
   "cell_type": "code",
   "execution_count": 81,
   "id": "b45b7edc",
   "metadata": {},
   "outputs": [
    {
     "data": {
      "text/plain": [
       "1000"
      ]
     },
     "execution_count": 81,
     "metadata": {},
     "output_type": "execute_result"
    }
   ],
   "source": [
    "holiday_frenzy2.volume()"
   ]
  },
  {
   "cell_type": "code",
   "execution_count": 82,
   "id": "bf221a62",
   "metadata": {},
   "outputs": [
    {
     "name": "stdout",
     "output_type": "stream",
     "text": [
      "True\n"
     ]
    }
   ],
   "source": [
    "holiday_frenzy2.enough_paper()"
   ]
  },
  {
   "cell_type": "code",
   "execution_count": 84,
   "id": "8e4adb5f",
   "metadata": {},
   "outputs": [
    {
     "name": "stdout",
     "output_type": "stream",
     "text": [
      "False\n"
     ]
    }
   ],
   "source": [
    "holiday_frenzy2.fits()"
   ]
  },
  {
   "cell_type": "code",
   "execution_count": 61,
   "id": "cfd2fa99",
   "metadata": {},
   "outputs": [
    {
     "data": {
      "text/plain": [
       "200"
      ]
     },
     "execution_count": 61,
     "metadata": {},
     "output_type": "execute_result"
    }
   ],
   "source": [
    "holiday_frenzy2.volume()"
   ]
  },
  {
   "cell_type": "code",
   "execution_count": null,
   "id": "bf43b2fd",
   "metadata": {},
   "outputs": [],
   "source": [
    "holiday_frenzy1 = (10,10,10,15,800)\n",
    "holiday_frenzy2 = (10,10,10,55,1000)\n",
    "holiday_frenzy3 = (100,20,10,55,300)"
   ]
  },
  {
   "cell_type": "code",
   "execution_count": null,
   "id": "d96c67c6",
   "metadata": {},
   "outputs": [],
   "source": []
  },
  {
   "cell_type": "code",
   "execution_count": null,
   "id": "a7421d65",
   "metadata": {},
   "outputs": [],
   "source": []
  },
  {
   "cell_type": "markdown",
   "id": "54072a2a",
   "metadata": {},
   "source": [
    "#### Problem 3"
   ]
  },
  {
   "cell_type": "code",
   "execution_count": 62,
   "id": "9c6db051",
   "metadata": {},
   "outputs": [
    {
     "name": "stdout",
     "output_type": "stream",
     "text": [
      "Problem 3\n"
     ]
    }
   ],
   "source": [
    "print('Problem 3')"
   ]
  },
  {
   "cell_type": "code",
   "execution_count": 1,
   "id": "7ef12eba",
   "metadata": {},
   "outputs": [],
   "source": [
    "import numpy as np"
   ]
  },
  {
   "cell_type": "markdown",
   "id": "009046ef",
   "metadata": {},
   "source": [
    "### Ideal Gas Law\n",
    "#### PV  = nRT \n",
    "\n",
    "#### P1V1**γ = P2V2**γ\n",
    "#### P2 = P1(V1/V2)**γ\n",
    "\n",
    "### Adiabatic Law\n",
    "#### PV**γ = const = K\n",
    "#### γ = Cp/Cv"
   ]
  },
  {
   "cell_type": "code",
   "execution_count": 2,
   "id": "1964f8f1",
   "metadata": {},
   "outputs": [],
   "source": [
    "def piston(V,P0,V0,T0,gamma):\n",
    "    \"\"\"Function that calculates the pressures for the piston volumes in V, using the adiabatic law and \n",
    "    the temperatures using the ideal gas law.\n",
    "    Input: an array of N volumes, initial (P; V; T) values\n",
    "    Output: Pressures of the piston & the temperatures \"\"\"\n",
    "    \n",
    "    for i in V:\n",
    "        print( (P0 * V0 ** gamma) / i ** gamma)\n",
    "    \n",
    "    "
   ]
  },
  {
   "cell_type": "code",
   "execution_count": 14,
   "id": "ce0ea8bc",
   "metadata": {},
   "outputs": [
    {
     "name": "stdout",
     "output_type": "stream",
     "text": [
      "1.0\n",
      "1.0332263752011095\n",
      "1.0683912781918325\n",
      "1.1056589220577844\n",
      "1.1452119813100545\n",
      "1.1872542058194073\n",
      "1.2320134851926556\n",
      "1.2797454558224446\n",
      "1.3307377648881584\n",
      "1.385315133701955\n",
      "1.443845398884619\n",
      "1.5067467565012118\n",
      "1.5744964950108173\n",
      "1.6476415825455046\n",
      "1.726811579388296\n",
      "1.812734487062724\n",
      "1.9062563346589896\n",
      "2.008365560263278\n",
      "2.120223598763202\n",
      "2.243203578292536\n",
      "2.3789397179692986\n",
      "2.529391003007797\n",
      "2.6969241338547816\n",
      "2.8844228293511476\n",
      "3.0954336700137386\n",
      "3.3343633824054524\n",
      "3.606749764768035\n",
      "3.919640001695291\n",
      "4.282128827559006\n",
      "4.706140139056505\n",
      "5.207589052788506\n",
      "5.808156094498606\n",
      "6.538079684800383\n",
      "7.440709032404529\n",
      "8.580240268183106\n",
      "10.055523402492176\n",
      "12.02621434514201\n",
      "14.766094785736334\n",
      "18.78247059115353\n",
      "25.118864315095795\n"
     ]
    }
   ],
   "source": [
    "p = piston(np.linspace(1, 0.1, 40),1,1,300,1.4)"
   ]
  },
  {
   "cell_type": "code",
   "execution_count": 7,
   "id": "1daf251c",
   "metadata": {},
   "outputs": [],
   "source": [
    "def piston(V,P0,V0,T0,gamma):\n",
    "    \"\"\"Function that calculates the pressures for the piston volumes in V, using the adiabatic law and \n",
    "    the temperatures using the ideal gas law.\n",
    "    Input: an array of N volumes, initial (P; V; T) values\n",
    "    Output: Pressures of the piston & the temperatures \"\"\"\n",
    "    \n",
    "    for i in V:\n",
    "        P = (P0 * V0 ** gamma) / (i ** gamma)\n",
    "        T = (T0 * P * i) / (P * V0)\n",
    "        print(P, T)\n",
    "    \n",
    "    "
   ]
  },
  {
   "cell_type": "code",
   "execution_count": 8,
   "id": "19958d93",
   "metadata": {},
   "outputs": [
    {
     "name": "stdout",
     "output_type": "stream",
     "text": [
      "1.0 300.0\n",
      "1.0332263752011095 293.0769230769231\n",
      "1.0683912781918325 286.1538461538462\n",
      "1.1056589220577844 279.2307692307692\n",
      "1.1452119813100545 272.30769230769226\n",
      "1.1872542058194073 265.38461538461536\n",
      "1.2320134851926556 258.46153846153845\n",
      "1.2797454558224446 251.53846153846155\n",
      "1.3307377648881584 244.61538461538458\n",
      "1.385315133701955 237.69230769230768\n",
      "1.443845398884619 230.76923076923075\n",
      "1.5067467565012118 223.84615384615387\n",
      "1.5744964950108173 216.9230769230769\n",
      "1.6476415825455046 210.0\n",
      "1.726811579388296 203.07692307692307\n",
      "1.812734487062724 196.15384615384613\n",
      "1.9062563346589896 189.23076923076923\n",
      "2.008365560263278 182.3076923076923\n",
      "2.120223598763202 175.38461538461536\n",
      "2.243203578292536 168.46153846153845\n",
      "2.3789397179692986 161.53846153846152\n",
      "2.529391003007797 154.61538461538458\n",
      "2.6969241338547816 147.6923076923077\n",
      "2.8844228293511476 140.76923076923077\n",
      "3.0954336700137386 133.84615384615384\n",
      "3.3343633824054524 126.9230769230769\n",
      "3.606749764768035 119.99999999999999\n",
      "3.919640001695291 113.07692307692307\n",
      "4.282128827559006 106.15384615384615\n",
      "4.706140139056505 99.23076923076921\n",
      "5.207589052788506 92.3076923076923\n",
      "5.808156094498606 85.38461538461539\n",
      "6.538079684800383 78.46153846153845\n",
      "7.440709032404529 71.53846153846152\n",
      "8.580240268183106 64.61538461538458\n",
      "10.055523402492176 57.692307692307686\n",
      "12.02621434514201 50.76923076923075\n",
      "14.766094785736334 43.846153846153825\n",
      "18.78247059115353 36.92307692307693\n",
      "25.118864315095795 30.0\n"
     ]
    }
   ],
   "source": [
    "pressure = piston(np.linspace(1, 0.1, 40),1,1,300,1.4)"
   ]
  },
  {
   "cell_type": "code",
   "execution_count": null,
   "id": "73aab784",
   "metadata": {},
   "outputs": [],
   "source": [
    "arr = pressure = piston(np.linspace(1, 0.1, 40),1,1,300,1.4)"
   ]
  },
  {
   "cell_type": "code",
   "execution_count": 22,
   "id": "5bc36ae3",
   "metadata": {},
   "outputs": [],
   "source": [
    "def piston(V,P0,V0,T0,gamma):\n",
    "    \"\"\"Function that calculates the pressures for the piston volumes in V, using the adiabatic law and \n",
    "    the temperatures using the ideal gas law.\n",
    "    Input: an array of N volumes, initial (P; V; T) values\n",
    "    Output: Pressures of the piston & the temperatures \"\"\"\n",
    "    \n",
    "    \n",
    "    for i in V:\n",
    "        P = (P0 * V0 ** gamma) / (i ** gamma)\n",
    "        T = (T0 * P * i) / (P * V0)\n",
    "        \n",
    "        arr = [array([P]), V, array([T])]\n",
    "        #new_arr = arr.reshape(3, 40)\n",
    "        \n",
    "        return new_arr\n",
    "    \n",
    "    "
   ]
  },
  {
   "cell_type": "code",
   "execution_count": 15,
   "id": "dedf6445",
   "metadata": {},
   "outputs": [],
   "source": [
    "def piston(V,P0,V0,T0,gamma):\n",
    "    \"\"\"Function that calculates the pressures for the piston volumes in V, using the adiabatic law and \n",
    "    the temperatures using the ideal gas law.\n",
    "    Input: an array of N volumes, initial (P; V; T) values\n",
    "    Output: Pressures of the piston & the temperatures \"\"\"\n",
    "    \n",
    "    for i in V:\n",
    "        P = (P0 * V0 ** gamma) / (i ** gamma)\n",
    "        T = (T0 * P * i) / (P * V0)\n",
    "        print(P, V, T)\n",
    "    \n",
    "    "
   ]
  },
  {
   "cell_type": "code",
   "execution_count": 23,
   "id": "8db4b2b0",
   "metadata": {},
   "outputs": [
    {
     "ename": "NameError",
     "evalue": "name 'array' is not defined",
     "output_type": "error",
     "traceback": [
      "\u001b[1;31m---------------------------------------------------------------------------\u001b[0m",
      "\u001b[1;31mNameError\u001b[0m                                 Traceback (most recent call last)",
      "\u001b[1;32m<ipython-input-23-c28b9e41d586>\u001b[0m in \u001b[0;36m<module>\u001b[1;34m\u001b[0m\n\u001b[1;32m----> 1\u001b[1;33m \u001b[0mpiston\u001b[0m\u001b[1;33m(\u001b[0m\u001b[0mnp\u001b[0m\u001b[1;33m.\u001b[0m\u001b[0mlinspace\u001b[0m\u001b[1;33m(\u001b[0m\u001b[1;36m1\u001b[0m\u001b[1;33m,\u001b[0m \u001b[1;36m0.1\u001b[0m\u001b[1;33m,\u001b[0m \u001b[1;36m40\u001b[0m\u001b[1;33m)\u001b[0m\u001b[1;33m,\u001b[0m\u001b[1;36m1\u001b[0m\u001b[1;33m,\u001b[0m\u001b[1;36m1\u001b[0m\u001b[1;33m,\u001b[0m\u001b[1;36m300\u001b[0m\u001b[1;33m,\u001b[0m\u001b[1;36m1.4\u001b[0m\u001b[1;33m)\u001b[0m\u001b[1;33m\u001b[0m\u001b[1;33m\u001b[0m\u001b[0m\n\u001b[0m",
      "\u001b[1;32m<ipython-input-22-7688325e82ec>\u001b[0m in \u001b[0;36mpiston\u001b[1;34m(V, P0, V0, T0, gamma)\u001b[0m\n\u001b[0;32m     10\u001b[0m         \u001b[0mT\u001b[0m \u001b[1;33m=\u001b[0m \u001b[1;33m(\u001b[0m\u001b[0mT0\u001b[0m \u001b[1;33m*\u001b[0m \u001b[0mP\u001b[0m \u001b[1;33m*\u001b[0m \u001b[0mi\u001b[0m\u001b[1;33m)\u001b[0m \u001b[1;33m/\u001b[0m \u001b[1;33m(\u001b[0m\u001b[0mP\u001b[0m \u001b[1;33m*\u001b[0m \u001b[0mV0\u001b[0m\u001b[1;33m)\u001b[0m\u001b[1;33m\u001b[0m\u001b[1;33m\u001b[0m\u001b[0m\n\u001b[0;32m     11\u001b[0m \u001b[1;33m\u001b[0m\u001b[0m\n\u001b[1;32m---> 12\u001b[1;33m         \u001b[0marr\u001b[0m \u001b[1;33m=\u001b[0m \u001b[1;33m[\u001b[0m\u001b[0marray\u001b[0m\u001b[1;33m(\u001b[0m\u001b[1;33m[\u001b[0m\u001b[0mP\u001b[0m\u001b[1;33m]\u001b[0m\u001b[1;33m)\u001b[0m\u001b[1;33m,\u001b[0m \u001b[0mV\u001b[0m\u001b[1;33m,\u001b[0m \u001b[0marray\u001b[0m\u001b[1;33m(\u001b[0m\u001b[1;33m[\u001b[0m\u001b[0mT\u001b[0m\u001b[1;33m]\u001b[0m\u001b[1;33m)\u001b[0m\u001b[1;33m]\u001b[0m\u001b[1;33m\u001b[0m\u001b[1;33m\u001b[0m\u001b[0m\n\u001b[0m\u001b[0;32m     13\u001b[0m         \u001b[1;31m#new_arr = arr.reshape(3, 40)\u001b[0m\u001b[1;33m\u001b[0m\u001b[1;33m\u001b[0m\u001b[1;33m\u001b[0m\u001b[0m\n\u001b[0;32m     14\u001b[0m \u001b[1;33m\u001b[0m\u001b[0m\n",
      "\u001b[1;31mNameError\u001b[0m: name 'array' is not defined"
     ]
    }
   ],
   "source": [
    "piston(np.linspace(1, 0.1, 40),1,1,300,1.4)"
   ]
  },
  {
   "cell_type": "code",
   "execution_count": null,
   "id": "12ecf5fa",
   "metadata": {},
   "outputs": [],
   "source": [
    "from mpl_toolkits.mplot3d import Axes3D\n",
    "\n",
    "#make random data- from https://matplotlib.org/mpl_toolkits/mplot3d/tutorial.html:\n",
    "\n",
    "V = np.linspace(1, 0.1, 40)\n",
    "z = np.linspace(-2, 2, 100)\n",
    "r = z**2 + 1\n",
    "x = r * np.sin(theta)\n",
    "y = r * np.cos(theta)\n",
    "\n",
    "\n",
    "fig = plt.figure( figsize = ( 10, 10 ) )\n",
    "ax = fig.gca(projection='3d')\n",
    "ax.plot(x, y, z, label='parametric curve')\n",
    "ax.legend()"
   ]
  },
  {
   "cell_type": "markdown",
   "id": "13b579cc",
   "metadata": {},
   "source": [
    "#### Problem 4"
   ]
  },
  {
   "cell_type": "code",
   "execution_count": 5,
   "id": "08e7ba48",
   "metadata": {},
   "outputs": [
    {
     "name": "stdout",
     "output_type": "stream",
     "text": [
      "Problem 4\n"
     ]
    }
   ],
   "source": [
    "print(\"Problem 4\")"
   ]
  },
  {
   "cell_type": "code",
   "execution_count": 6,
   "id": "8f85da34",
   "metadata": {},
   "outputs": [],
   "source": [
    "import matplotlib.pyplot as plt"
   ]
  },
  {
   "cell_type": "code",
   "execution_count": 7,
   "id": "ef736c31",
   "metadata": {},
   "outputs": [],
   "source": [
    "x = np.linspace(12, 46, 100)\n",
    "y = np.sin((2 * np.pi * x) / 16) * np.cos((2 * np.pi * x) / 8)\n",
    "z = z = np.cos((np.pi * x) / 9) * np.sin((np.pi * x) / 6)"
   ]
  },
  {
   "cell_type": "code",
   "execution_count": 8,
   "id": "8e002afc",
   "metadata": {},
   "outputs": [
    {
     "name": "stdout",
     "output_type": "stream",
     "text": [
      "[12.         12.34343434 12.68686869 13.03030303 13.37373737 13.71717172\n",
      " 14.06060606 14.4040404  14.74747475 15.09090909 15.43434343 15.77777778\n",
      " 16.12121212 16.46464646 16.80808081 17.15151515 17.49494949 17.83838384\n",
      " 18.18181818 18.52525253 18.86868687 19.21212121 19.55555556 19.8989899\n",
      " 20.24242424 20.58585859 20.92929293 21.27272727 21.61616162 21.95959596\n",
      " 22.3030303  22.64646465 22.98989899 23.33333333 23.67676768 24.02020202\n",
      " 24.36363636 24.70707071 25.05050505 25.39393939 25.73737374 26.08080808\n",
      " 26.42424242 26.76767677 27.11111111 27.45454545 27.7979798  28.14141414\n",
      " 28.48484848 28.82828283 29.17171717 29.51515152 29.85858586 30.2020202\n",
      " 30.54545455 30.88888889 31.23232323 31.57575758 31.91919192 32.26262626\n",
      " 32.60606061 32.94949495 33.29292929 33.63636364 33.97979798 34.32323232\n",
      " 34.66666667 35.01010101 35.35353535 35.6969697  36.04040404 36.38383838\n",
      " 36.72727273 37.07070707 37.41414141 37.75757576 38.1010101  38.44444444\n",
      " 38.78787879 39.13131313 39.47474747 39.81818182 40.16161616 40.50505051\n",
      " 40.84848485 41.19191919 41.53535354 41.87878788 42.22222222 42.56565657\n",
      " 42.90909091 43.25252525 43.5959596  43.93939394 44.28282828 44.62626263\n",
      " 44.96969697 45.31313131 45.65656566 46.        ]\n"
     ]
    }
   ],
   "source": [
    "print(x)"
   ]
  },
  {
   "cell_type": "code",
   "execution_count": 9,
   "id": "ad504304",
   "metadata": {},
   "outputs": [
    {
     "data": {
      "image/png": "[encoded data removed]",
      "text/plain": [
       "<Figure size 800x800 with 1 Axes>"
      ]
     },
     "metadata": {},
     "output_type": "display_data"
    }
   ],
   "source": [
    "plt.figure(figsize = (8, 8))\n",
    "\n",
    "plt.plot(x, y, color = 'red', linestyle = '-', linewidth = 1, label = 'Y')\n",
    "plt.plot(x, z, color = 'blue', linestyle = '--', linewidth = 1, label = 'Z')\n",
    "\n",
    "plt.xlabel('X'  , fontsize = 30)\n",
    "plt.ylabel('Y & Z', fontsize = 30)\n",
    "\n",
    "plt.xlim(20, 40)\n",
    "\n",
    "plt.yticks(np.arange(-1.0, 1.5, 0.5), fontsize = 20)\n",
    "plt.xticks(np.arange(20, 40.1, 10), fontsize = 20, )\n",
    "\n",
    "plt.tick_params(axis='both',which='major',length=3, width=1,direction='out')\n",
    "\n",
    "plt.legend( loc = 2, prop = {'size': 30 } )\n",
    "\n",
    "plt.show()"
   ]
  },
  {
   "cell_type": "code",
   "execution_count": 13,
   "id": "6db94ebc",
   "metadata": {},
   "outputs": [],
   "source": [
    "r = np.arange(0.1, 1.0, dtype = float)"
   ]
  },
  {
   "cell_type": "code",
   "execution_count": 14,
   "id": "b3f027f9",
   "metadata": {},
   "outputs": [
    {
     "name": "stdout",
     "output_type": "stream",
     "text": [
      "[0.1]\n"
     ]
    }
   ],
   "source": [
    "print(r)"
   ]
  },
  {
   "cell_type": "code",
   "execution_count": 11,
   "id": "9e24e765",
   "metadata": {},
   "outputs": [],
   "source": [
    "data = np.zeros((len(x), len(y)))\n",
    "data2 = np.zeros((len(x), len(y)))"
   ]
  },
  {
   "cell_type": "code",
   "execution_count": null,
   "id": "88f3f3f9",
   "metadata": {},
   "outputs": [],
   "source": []
  },
  {
   "cell_type": "code",
   "execution_count": null,
   "id": "b9b01fbf",
   "metadata": {},
   "outputs": [],
   "source": []
  },
  {
   "cell_type": "code",
   "execution_count": null,
   "id": "6e5576cb",
   "metadata": {},
   "outputs": [],
   "source": []
  }
 ],
 "metadata": {
  "kernelspec": {
   "display_name": "Python 3",
   "language": "python",
   "name": "python3"
  },
  "language_info": {
   "codemirror_mode": {
    "name": "ipython",
    "version": 3
   },
   "file_extension": ".py",
   "mimetype": "text/x-python",
   "name": "python",
   "nbconvert_exporter": "python",
   "pygments_lexer": "ipython3",
   "version": "3.7.11"
  }
 },
 "nbformat": 4,
 "nbformat_minor": 5
}
