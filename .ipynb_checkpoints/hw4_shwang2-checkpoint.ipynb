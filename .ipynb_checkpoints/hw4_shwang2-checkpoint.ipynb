{
 "cells": [
  {
   "cell_type": "markdown",
   "id": "ba65b576",
   "metadata": {},
   "source": [
    "# Suhyun Hwang"
   ]
  },
  {
   "cell_type": "markdown",
   "id": "d3430963",
   "metadata": {},
   "source": [
    "# Homework 4"
   ]
  },
  {
   "cell_type": "markdown",
   "id": "9f22b193",
   "metadata": {},
   "source": [
    "# Tuesday Sep 14, 2021 "
   ]
  },
  {
   "cell_type": "markdown",
   "id": "e1d8a8ff",
   "metadata": {},
   "source": [
    "#### Problem 2:\n",
    "\n",
    "#### We have a body of mass m(kg). When a force F(N) acts on it, according to Newton’s second law, the body will get an acceleration a(m/s2). Remember that F=ma. Write an expression that 1. Calculate F for the following mass and acceleration pairs: \n",
    "\n",
    "m [kg]  |  a [m/s**2]\n",
    "-------:|:------------:\n",
    "10      |5\n",
    "15      |10\n",
    "20      |5\n",
    "40      |3"
   ]
  },
  {
   "cell_type": "code",
   "execution_count": 9,
   "id": "569ed6e5",
   "metadata": {},
   "outputs": [
    {
     "name": "stdout",
     "output_type": "stream",
     "text": [
      "Problem 2\n"
     ]
    }
   ],
   "source": [
    "print ( 'Problem 2' )\n",
    "#Write the expression: F = m * a"
   ]
  },
  {
   "cell_type": "code",
   "execution_count": 21,
   "id": "1089abb7",
   "metadata": {},
   "outputs": [],
   "source": [
    "def force_calculator(mass, acc):\n",
    "    force = (mass * acc)\n",
    "    return force"
   ]
  },
  {
   "cell_type": "code",
   "execution_count": 12,
   "id": "8b94e987",
   "metadata": {},
   "outputs": [],
   "source": [
    "def force_to_acceleration(mass, force):\n",
    "    acc = (force / mass) \n",
    "    return acc"
   ]
  },
  {
   "cell_type": "code",
   "execution_count": 24,
   "id": "d10f75f4",
   "metadata": {},
   "outputs": [
    {
     "name": "stdout",
     "output_type": "stream",
     "text": [
      "50\n",
      "150\n",
      "100\n",
      "120\n"
     ]
    }
   ],
   "source": [
    "force = force_calculator(10, 5)\n",
    "print (force)\n",
    "force = force_calculator(15, 10)\n",
    "print (force)\n",
    "force = force_calculator(20, 5)\n",
    "print (force)\n",
    "force = force_calculator(40, 3)\n",
    "print (force)"
   ]
  },
  {
   "cell_type": "code",
   "execution_count": 20,
   "id": "077bdb0b",
   "metadata": {},
   "outputs": [
    {
     "name": "stdout",
     "output_type": "stream",
     "text": [
      "0.6666666666666666\n",
      "0.14666666666666667\n",
      "3.0\n"
     ]
    }
   ],
   "source": [
    "acc = force_to_acceleration(150, 100)\n",
    "print (acc)\n",
    "acc = force_to_acceleration(150, 22)\n",
    "print (acc)\n",
    "acc = force_to_acceleration(150, 450)\n",
    "print (acc)"
   ]
  },
  {
   "cell_type": "markdown",
   "id": "4f9b77c8",
   "metadata": {},
   "source": [
    "#### Problem 3\n",
    "\n",
    "#### The acceleration of a body can be approximated by the ratio of the change of a body’s speed (u2-u1) over a time span (t1-t1) as: a=(u2-u1)/(t2-t1). \n",
    "\n",
    "t1 [s]   | t2 [s]   | u1 [m/s]   | u2 [m/s]\n",
    "--------:|:--------:|:----------:|:-------:\n",
    "0        |2         |10          |13      \n",
    "10       |14        |15          |30\n",
    "14       |16        |32          |36\n",
    "28       |32        |42          |20\n",
    "0        |10        |20          |22"
   ]
  },
  {
   "cell_type": "code",
   "execution_count": 1,
   "id": "4e1ff587",
   "metadata": {},
   "outputs": [
    {
     "name": "stdout",
     "output_type": "stream",
     "text": [
      "Problem 3\n"
     ]
    }
   ],
   "source": [
    "print ( 'Problem 3')\n",
    "#Write the expression "
   ]
  },
  {
   "cell_type": "code",
   "execution_count": 4,
   "id": "7f0aedfe",
   "metadata": {},
   "outputs": [],
   "source": [
    "def acceleration(u1, u2, t1, t2):\n",
    "    \"\"\"Function hat takes the different speeds (u1,u2) of a body at times t1 and t2 and \n",
    "    calculates the acceleration of the body\"\"\"\n",
    "\n",
    "    a = (u2 - u1) / (t2 - t1)\n",
    "    return a"
   ]
  },
  {
   "cell_type": "code",
   "execution_count": null,
   "id": "10282c60",
   "metadata": {},
   "outputs": [],
   "source": [
    "a = acceleration "
   ]
  },
  {
   "cell_type": "code",
   "execution_count": null,
   "id": "3448d2a4",
   "metadata": {},
   "outputs": [],
   "source": []
  }
 ],
 "metadata": {
  "kernelspec": {
   "display_name": "Python 3",
   "language": "python",
   "name": "python3"
  },
  "language_info": {
   "codemirror_mode": {
    "name": "ipython",
    "version": 3
   },
   "file_extension": ".py",
   "mimetype": "text/x-python",
   "name": "python",
   "nbconvert_exporter": "python",
   "pygments_lexer": "ipython3",
   "version": "3.7.11"
  }
 },
 "nbformat": 4,
 "nbformat_minor": 5
}
