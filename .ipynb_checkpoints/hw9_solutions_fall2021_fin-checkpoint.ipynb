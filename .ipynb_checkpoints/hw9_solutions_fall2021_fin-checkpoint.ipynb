{
 "cells": [
  {
   "cell_type": "code",
   "execution_count": 12,
   "metadata": {},
   "outputs": [],
   "source": [
    "import numpy as np"
   ]
  },
  {
   "cell_type": "code",
   "execution_count": 59,
   "metadata": {},
   "outputs": [],
   "source": [
    "q = np.array( ([1, 2, 3, 4, 5, 6], [ 1.204, 1.212, 1.14, 1.12, 1.24, 1.201],  [ 6.6, 6.5, 6.6, 6.2, 5.6, 6.0 ] ,\n",
    "             [ 0.32, 0.36, 0.38, 0.38, 0.4, 0.3 ] ) )"
   ]
  },
  {
   "cell_type": "code",
   "execution_count": 61,
   "metadata": {},
   "outputs": [
    {
     "data": {
      "text/plain": [
       "array([[1.204, 1.212, 1.14 , 1.12 , 1.24 , 1.201],\n",
       "       [6.6  , 6.5  , 6.6  , 6.2  , 5.6  , 6.   ],\n",
       "       [0.32 , 0.36 , 0.38 , 0.38 , 0.4  , 0.3  ]])"
      ]
     },
     "execution_count": 61,
     "metadata": {},
     "output_type": "execute_result"
    }
   ],
   "source": [
    "q[ 1: , :]"
   ]
  },
  {
   "cell_type": "code",
   "execution_count": null,
   "metadata": {},
   "outputs": [],
   "source": []
  },
  {
   "cell_type": "code",
   "execution_count": 13,
   "metadata": {},
   "outputs": [
    {
     "name": "stdout",
     "output_type": "stream",
     "text": [
      "Problem 2:\n",
      "\n"
     ]
    }
   ],
   "source": [
    "print('Problem 2:\\n')"
   ]
  },
  {
   "cell_type": "code",
   "execution_count": 55,
   "metadata": {},
   "outputs": [],
   "source": [
    "def triathlon_time( sports , athletes ):\n",
    "    \"\"\"Calculates the time that athletes participating in a thriatlon will take to finish the race. \n",
    "    Input: Array with distance of sports in m ; 2D array with participants and their average times per sport\n",
    "    Output: Predicted shortest time and longest time\"\"\"\n",
    "    \n",
    "    # how many athletes do we look for?\n",
    "    N = len( athletes [:, 0] )\n",
    "    \n",
    "    # create array that holds their total times for the triathlon:\n",
    "    \n",
    "    tot_times = np.zeros( N )\n",
    "    \n",
    "    # start calculating total times and populating the tot_times:\n",
    "    for i in range( N ) :\n",
    "        \n",
    "        t1 = sports[ 0 ] /  athletes[ i , 1 ]\n",
    "        t2 = sports[ 1 ] /  athletes[ i , 2 ]\n",
    "        t3 = sports[ 2 ] /  athletes[ i , 3 ]\n",
    "        \n",
    "        tot_times[ i ] = t1 + t2 + t3 \n",
    "      \n",
    "    winner   = np.where( tot_times == min(tot_times ) )[0]\n",
    "    last_one = np.where( tot_times == max(tot_times ) )[0]\n",
    "\n",
    "    \n",
    "    print( \"Atlhete \",  winner[0]+1  , \"will finish first with a time of: \", \n",
    "           tot_times[ winner ]/ 3600.   , \"hours.\" )\n",
    "    print( \"Atlhete \", last_one[0]+1 , \"will finish last with a time of: \", \n",
    "           tot_times[ last_one ]/ 3600. , \"hours.\" )\n",
    "    \n",
    "    \n",
    "    print( \"Atlhete {0:d} will finish first with a time of {1:.2f} hours.\".format( int(winner)+1, \n",
    "                                                                               float(tot_times[ winner ]/ 3600.)   ) )\n",
    "    print( \"Atlhete {0:d} will finish last with a time of: {1:.2f} hours.\".format( int(last_one)+1, \n",
    "                                                                               float(tot_times[ last_one ]/ 3600.)   ) )"
   ]
  },
  {
   "cell_type": "code",
   "execution_count": 56,
   "metadata": {},
   "outputs": [],
   "source": [
    "sports = np.array( [1500, 40000, 10000])\n",
    "\n",
    "# make a 2D array with column being sports and line being people:\n",
    "\n",
    "\n",
    "athletes = np.zeros( ( 6 , 4 ) )  #(6 , 3) works as well; I just added an extra for the \"1\", \"2\" as name holders\n",
    "\n",
    "athletes[ :, 0] = np.array( [1, 2, 3, 4, 5, 6])\n",
    "\n",
    "athletes[ :, 1 ] = np.array( [ 1.204, 1.212, 1.14, 1.12, 1.24, 1.201] )\n",
    "athletes[ :, 2 ] = np.array( [ 6.6, 6.5, 6.6, 6.2, 5.6, 6.0 ] )\n",
    "athletes[ :, 3 ] = np.array( [ 0.32, 0.36, 0.38, 0.38, 0.4, 0.3 ] )"
   ]
  },
  {
   "cell_type": "code",
   "execution_count": 57,
   "metadata": {},
   "outputs": [
    {
     "name": "stdout",
     "output_type": "stream",
     "text": [
      "Atlhete  5 will finish first with a time of:  [9.26459293] hours.\n",
      "Atlhete  6 will finish last with a time of:  [11.45804422] hours.\n",
      "Atlhete 5 will finish first with a time of 9.26 hours.\n",
      "Atlhete 6 will finish last with a time of: 11.46 hours.\n"
     ]
    }
   ],
   "source": [
    "triathlon_time( sports , athletes )"
   ]
  },
  {
   "cell_type": "code",
   "execution_count": 41,
   "metadata": {},
   "outputs": [
    {
     "name": "stdout",
     "output_type": "stream",
     "text": [
      "Atlhete 5 will finish first with a time of 9.26 hours.\n"
     ]
    }
   ],
   "source": []
  },
  {
   "cell_type": "code",
   "execution_count": null,
   "metadata": {},
   "outputs": [],
   "source": []
  },
  {
   "cell_type": "code",
   "execution_count": 6,
   "metadata": {},
   "outputs": [],
   "source": [
    "def triathlon_time_dict( sports , athletes ):\n",
    "    \"\"\"Calculates the time that athletes participating in a thriatlon will take to finish the race. \n",
    "    Input: Dictionary with distance of sports in m ; dictionary with participants and their average times per sport\n",
    "    Output: Predicted shortest time and longest time\"\"\"\n",
    "\n",
    "#create empty list with distances\n",
    "    distances =[]\n",
    "#read in your dictionarry and append the distances to a list:\n",
    "    for i in sports.keys():\n",
    "        a = sports.get( i )\n",
    "        distances.append( a )\n",
    "\n",
    "#create empty list with times\n",
    "    times = []\n",
    "#scan athletes dicsitonary keys and get the average time every athlete needs    \n",
    "    for j in athletes.keys():\n",
    "        #average time per sport\n",
    "         q = np.array( distances )/np.array( athletes.get( j ) )\n",
    "        #sum to get total time for athlete and append to times:\n",
    "         times.append( np.sum( q ) )\n",
    "            \n",
    "#print minimum  time of race        :\n",
    "    i = 0\n",
    "    for j in athletes.keys():\n",
    "        if times[i] == np.min( times ):\n",
    "            print( j , 'will finish first with a time of:', times[ i ]/3600 ,'hours')\n",
    "        i +=1\n",
    "        \n",
    "#print maximum  time of race        :\n",
    "    i = 0\n",
    "    for j in athletes.keys():\n",
    "        if times[i] == np.max(times):\n",
    "            print(j , 'will finish last with a time of:', times[i]/3600 ,'hours')\n",
    "        i +=1"
   ]
  },
  {
   "cell_type": "code",
   "execution_count": 7,
   "metadata": {},
   "outputs": [
    {
     "name": "stdout",
     "output_type": "stream",
     "text": [
      "Paul will finish first with a time of: 9.264592933947771 hours\n",
      "Lionel will finish last with a time of: 11.458044222407253 hours\n"
     ]
    }
   ],
   "source": [
    "sports = {'swim': 1500, 'bike': 40000 , 'run' : 10000}\n",
    "\n",
    "\n",
    "athletes = {'Mary': [1.204, 6.6, 0.32], \n",
    "            'John': [1.212, 6.5, 0.36], \n",
    "            'Peter': [1.14, 6.6, 0.38],\n",
    "            'Mafalda': [1.12, 6.2, 0.38],\n",
    "            'Paul': [1.24, 5.6, 0.4], \n",
    "            'Lionel': [1.201, 6.0, 0.3]}\n",
    "\n",
    "\n",
    "q = triathlon_time_dict(sports, athletes)\n",
    "\n"
   ]
  },
  {
   "cell_type": "code",
   "execution_count": null,
   "metadata": {},
   "outputs": [],
   "source": []
  },
  {
   "cell_type": "code",
   "execution_count": 8,
   "metadata": {},
   "outputs": [
    {
     "name": "stdout",
     "output_type": "stream",
     "text": [
      "Problem 3: \n",
      "\n",
      "Your own HW! \n"
     ]
    }
   ],
   "source": [
    "print('Problem 3: \\n')\n",
    "\n",
    "print( 'Your own HW! ')"
   ]
  }
 ],
 "metadata": {
  "kernelspec": {
   "display_name": "Python 3",
   "language": "python",
   "name": "python3"
  },
  "language_info": {
   "codemirror_mode": {
    "name": "ipython",
    "version": 3
   },
   "file_extension": ".py",
   "mimetype": "text/x-python",
   "name": "python",
   "nbconvert_exporter": "python",
   "pygments_lexer": "ipython3",
   "version": "3.7.3"
  }
 },
 "nbformat": 4,
 "nbformat_minor": 2
}
