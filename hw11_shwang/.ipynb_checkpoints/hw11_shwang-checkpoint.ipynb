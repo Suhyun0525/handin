{
 "cells": [
  {
   "cell_type": "markdown",
   "id": "3bde7886",
   "metadata": {},
   "source": [
    "# Homework 11"
   ]
  },
  {
   "cell_type": "markdown",
   "id": "ba313ca7",
   "metadata": {},
   "source": [
    "# Suhyun Hwang"
   ]
  },
  {
   "cell_type": "markdown",
   "id": "65f7147a",
   "metadata": {},
   "source": [
    "# Nov 12, 2021"
   ]
  },
  {
   "cell_type": "markdown",
   "id": "6abc7fc8",
   "metadata": {},
   "source": [
    "#### Problem 2"
   ]
  },
  {
   "cell_type": "code",
   "execution_count": 51,
   "id": "d306bd2a",
   "metadata": {},
   "outputs": [
    {
     "name": "stdout",
     "output_type": "stream",
     "text": [
      "Problem 2\n"
     ]
    }
   ],
   "source": [
    "print(\"Problem 2\")"
   ]
  },
  {
   "cell_type": "code",
   "execution_count": 1,
   "id": "8343bb9b",
   "metadata": {},
   "outputs": [],
   "source": [
    "import numpy as np"
   ]
  },
  {
   "cell_type": "code",
   "execution_count": 2,
   "id": "95971f97",
   "metadata": {},
   "outputs": [],
   "source": [
    "x= np.linspace(1,100,40)\n",
    "y = np.array([  7.7,  15.82307692,  23.94615385,  32.06923077, \n",
    "40.19230769, 48.31538462, 56.43846154,  64.56153846, \n",
    "72.68461538, 80.80769231,  88.93076923,  97.05384615, \n",
    "105.17692308, 113.3 , 121.42307692, 129.54615385, 137.66923077, \n",
    "145.79230769, 153.91538462, 162.03846154, 170.16153846, \n",
    "178.28461538, 186.40769231, 194.53076923, 202.65384615, \n",
    "210.77692308, 218.9, 227.02307692, 235.14615385, 243.26923077, \n",
    "251.39230769, 259.51538462, 267.63846154, 275.76153846, \n",
    "283.88461538, 292.00769231, 300.13076923, 308.25384615, \n",
    "316.37692308, 324.5])"
   ]
  },
  {
   "cell_type": "code",
   "execution_count": 9,
   "id": "ec2cc7ba",
   "metadata": {},
   "outputs": [
    {
     "name": "stdout",
     "output_type": "stream",
     "text": [
      "The best value of a and b are 3.184422110552764,5.306024096385542 respectively measured by R^2 = 0.999976259151671\n"
     ]
    }
   ],
   "source": [
    "R_2 = 0\n",
    "\n",
    "y_mean = np.mean(y)\n",
    "\n",
    "a_est = 0\n",
    "b_est = 0\n",
    "\n",
    "for a in np.linspace(0.1, 10, 200):\n",
    "    for b in np.linspace(0.1, 15, 250):\n",
    "        \n",
    "        y_pred = a * x + b\n",
    "        \n",
    "        mse = np.sum((y-y_pred)**2)/len(y)\n",
    "        \n",
    "        variance_y = np.sum((y-y_mean)**2)/len(y)\n",
    "    \n",
    "        R_ = 1-mse/variance_y\n",
    "    \n",
    "        if R_> R_2:\n",
    "            R_2 = R_\n",
    "        \n",
    "            a_est = a\n",
    "            b_est = b\n",
    "        \n",
    "print(f\"The best value of a and b are {a_est},{b_est} respectively measured by R^2 = {R_2}\")"
   ]
  },
  {
   "cell_type": "code",
   "execution_count": 4,
   "id": "76475eec",
   "metadata": {},
   "outputs": [],
   "source": [
    "a = np.arange( 0.1, 10, 0.1 )\n",
    "b = np.arange( 0.1, 15, 0.1 )"
   ]
  },
  {
   "cell_type": "code",
   "execution_count": 5,
   "id": "e5c6f2bd",
   "metadata": {},
   "outputs": [
    {
     "ename": "NameError",
     "evalue": "name 'x_mod' is not defined",
     "output_type": "error",
     "traceback": [
      "\u001b[1;31m---------------------------------------------------------------------------\u001b[0m",
      "\u001b[1;31mNameError\u001b[0m                                 Traceback (most recent call last)",
      "\u001b[1;32m<ipython-input-5-278934471745>\u001b[0m in \u001b[0;36m<module>\u001b[1;34m\u001b[0m\n\u001b[1;32m----> 1\u001b[1;33m \u001b[0my_mod\u001b[0m \u001b[1;33m=\u001b[0m \u001b[0ma\u001b[0m \u001b[1;33m*\u001b[0m \u001b[0mx_mod\u001b[0m \u001b[1;33m+\u001b[0m \u001b[0mb\u001b[0m\u001b[1;33m,\u001b[0m\u001b[1;33m\u001b[0m\u001b[1;33m\u001b[0m\u001b[0m\n\u001b[0m\u001b[0;32m      2\u001b[0m \u001b[0mx_mod\u001b[0m \u001b[1;33m=\u001b[0m \u001b[0mnp\u001b[0m\u001b[1;33m.\u001b[0m\u001b[0mlinspace\u001b[0m\u001b[1;33m(\u001b[0m\u001b[1;36m1\u001b[0m\u001b[1;33m,\u001b[0m\u001b[1;36m100\u001b[0m\u001b[1;33m,\u001b[0m\u001b[1;36m100\u001b[0m\u001b[1;33m)\u001b[0m\u001b[1;33m\u001b[0m\u001b[1;33m\u001b[0m\u001b[0m\n\u001b[0;32m      3\u001b[0m \u001b[1;36m0.1\u001b[0m\u001b[1;33m<\u001b[0m\u001b[0ma\u001b[0m\u001b[1;33m<\u001b[0m\u001b[1;36m10\u001b[0m \u001b[1;32mand\u001b[0m \u001b[1;36m0.1\u001b[0m\u001b[1;33m<\u001b[0m\u001b[0mb\u001b[0m\u001b[1;33m<\u001b[0m\u001b[1;36m15\u001b[0m\u001b[1;33m\u001b[0m\u001b[1;33m\u001b[0m\u001b[0m\n",
      "\u001b[1;31mNameError\u001b[0m: name 'x_mod' is not defined"
     ]
    }
   ],
   "source": [
    "y_mod = a * x_mod + b, \n",
    "x_mod = np.linspace(1,100,100)\n",
    "0.1<a<10 and 0.1<b<15"
   ]
  },
  {
   "cell_type": "code",
   "execution_count": null,
   "id": "aca2efaf",
   "metadata": {},
   "outputs": [],
   "source": []
  },
  {
   "cell_type": "markdown",
   "id": "91a89897",
   "metadata": {},
   "source": [
    "#### Problem 3"
   ]
  },
  {
   "cell_type": "code",
   "execution_count": 6,
   "id": "a2c5c7c8",
   "metadata": {},
   "outputs": [
    {
     "name": "stdout",
     "output_type": "stream",
     "text": [
      "Problem 3\n"
     ]
    }
   ],
   "source": [
    "print(\"Problem 3\")"
   ]
  },
  {
   "cell_type": "code",
   "execution_count": 7,
   "id": "b33dc385",
   "metadata": {},
   "outputs": [
    {
     "name": "stdout",
     "output_type": "stream",
     "text": [
      "a\n"
     ]
    }
   ],
   "source": [
    "print(\"a\")"
   ]
  },
  {
   "cell_type": "code",
   "execution_count": 8,
   "id": "f3664f9f",
   "metadata": {},
   "outputs": [],
   "source": [
    "def wind_chill( T, V ):\n",
    "    \"\"\"Function that calculates the wind chill factor.\n",
    "    Input: the actual temperature T and the wind speed V\n",
    "    Output: wind chill temperature WC \"\"\"\n",
    "    \n",
    "    WC = 35.74 + 0.6215 * T - 35.75 * V**0.16 + 0.4275 * T * V**0.16\n",
    "    WC = round(WC, 2)\n",
    "    \n",
    "    print(\"Today's wind chill temperature is\", WC,\"°F\")"
   ]
  },
  {
   "cell_type": "code",
   "execution_count": 9,
   "id": "6a7ed06b",
   "metadata": {},
   "outputs": [
    {
     "name": "stdout",
     "output_type": "stream",
     "text": [
      "Today's wind chill temperature is -3.47 °F\n"
     ]
    }
   ],
   "source": [
    "wind_chill( 20, 55 )"
   ]
  },
  {
   "cell_type": "code",
   "execution_count": 10,
   "id": "4ec889e5",
   "metadata": {},
   "outputs": [
    {
     "name": "stdout",
     "output_type": "stream",
     "text": [
      "b\n"
     ]
    }
   ],
   "source": [
    "print(\"b\")"
   ]
  },
  {
   "cell_type": "code",
   "execution_count": 11,
   "id": "7757e771",
   "metadata": {},
   "outputs": [],
   "source": [
    "def parallax_to_distance(parallax_dic):\n",
    "    \"\"\"Function that returns a dictionary with the names of the stars and their distances from Earth\n",
    "    Input: the star's name and its parallax\n",
    "    Output: a dictionary with the names of the stars and their distances from Earth \"\"\"\n",
    "    \n",
    "    distance_dic = {}\n",
    "    for key in parallax_dic:\n",
    "        distance_dic[key] = 1 / ( parallax_dic[key] / 1000)\n",
    "    return distance_dic"
   ]
  },
  {
   "cell_type": "code",
   "execution_count": 12,
   "id": "09e66559",
   "metadata": {},
   "outputs": [
    {
     "data": {
      "text/plain": [
       "{'Betelgeuse': 131.06159895150722,\n",
       " 'Antares': 169.77928692699493,\n",
       " 'Spica': 76.5696784073507,\n",
       " 'Proxima Cen': 1.3020833333333333}"
      ]
     },
     "execution_count": 12,
     "metadata": {},
     "output_type": "execute_result"
    }
   ],
   "source": [
    "parallax_dic = { 'Betelgeuse' : 7.63, 'Antares' : 5.89, 'Spica' : 13.06, 'Proxima Cen' : 768 }\n",
    "parallax_to_distance(parallax_dic)"
   ]
  },
  {
   "cell_type": "code",
   "execution_count": 13,
   "id": "99cbc6e0",
   "metadata": {},
   "outputs": [
    {
     "name": "stdout",
     "output_type": "stream",
     "text": [
      "c\n"
     ]
    }
   ],
   "source": [
    "print(\"c\")"
   ]
  },
  {
   "cell_type": "code",
   "execution_count": 262,
   "id": "5af1e9a7",
   "metadata": {},
   "outputs": [],
   "source": [
    "def lists_to_dict(List_1, List_2):\n",
    "    \"\"\"Function that takes two lists as input and combines them in a dictionary\n",
    "    Input: two lists List_1 & List_2\n",
    "    Output: a dictionary \"\"\"\n",
    "    \n",
    "    dic = {}\n",
    "    for i in range( len( List_1 ) ) :\n",
    "        if isinstance( List_1, str) == True:\n",
    "            dic[List_1[i]] = List_2[i]\n",
    "        \n",
    "        else:\n",
    "            dic[List_2[i]] = List_1[i]\n",
    "            \n",
    "                \n",
    "                \n",
    "            \n",
    "    return dic"
   ]
  },
  {
   "cell_type": "code",
   "execution_count": 263,
   "id": "7b0da5b4",
   "metadata": {},
   "outputs": [
    {
     "data": {
      "text/plain": [
       "{'watermelon': 1,\n",
       " 'melon': 3,\n",
       " 'apple': 5,\n",
       " 'strawberries': 10,\n",
       " 'cherries': 12,\n",
       " 'oranges': 14}"
      ]
     },
     "execution_count": 263,
     "metadata": {},
     "output_type": "execute_result"
    }
   ],
   "source": [
    "List_1 = [ 1, 3, 5, 10, 12, 14]\n",
    "List_2 = [ \"watermelon\", \"melon\", \"apple\", \"strawberries\", \"cherries\", \"oranges\" ]\n",
    "lists_to_dict(List_1, List_2)"
   ]
  },
  {
   "cell_type": "code",
   "execution_count": 264,
   "id": "1d6f26c2",
   "metadata": {},
   "outputs": [
    {
     "data": {
      "text/plain": [
       "False"
      ]
     },
     "execution_count": 264,
     "metadata": {},
     "output_type": "execute_result"
    }
   ],
   "source": [
    "isinstance( List_1, str)"
   ]
  },
  {
   "cell_type": "code",
   "execution_count": 265,
   "id": "3043645a",
   "metadata": {},
   "outputs": [
    {
     "data": {
      "text/plain": [
       "{200: 'cars', 150: 'motorcycles', 10: 'bikes', 67: 'skateboards'}"
      ]
     },
     "execution_count": 265,
     "metadata": {},
     "output_type": "execute_result"
    }
   ],
   "source": [
    "List_1 = [ \"cars\", \"motorcycles\", \"bikes\", \"skateboards\" ]\n",
    "List_2 = [ 200, 150, 10, 67 ] \n",
    "lists_to_dict(List_1, List_2)"
   ]
  },
  {
   "cell_type": "code",
   "execution_count": 261,
   "id": "dd6bedfa",
   "metadata": {},
   "outputs": [
    {
     "data": {
      "text/plain": [
       "False"
      ]
     },
     "execution_count": 261,
     "metadata": {},
     "output_type": "execute_result"
    }
   ],
   "source": [
    "type( List_1 ) == str"
   ]
  },
  {
   "cell_type": "code",
   "execution_count": 188,
   "id": "b5896075",
   "metadata": {},
   "outputs": [
    {
     "data": {
      "text/plain": [
       "False"
      ]
     },
     "execution_count": 188,
     "metadata": {},
     "output_type": "execute_result"
    }
   ],
   "source": [
    "type(List_1) == str"
   ]
  },
  {
   "cell_type": "code",
   "execution_count": 183,
   "id": "12453726",
   "metadata": {},
   "outputs": [],
   "source": [
    "def lists_to_dict(List_1, List_2):\n",
    "    \"\"\"Function that takes two lists as input and combines them in a dictionary\n",
    "    Input: two lists List_1 & List_2\n",
    "    Output: a dictionary \"\"\"\n",
    "    \n",
    "    dic = {List_1[i] : List_2[i] for i in range(len(List_1))}\n",
    "    \n",
    "                \n",
    "                        \n",
    "    return dic"
   ]
  },
  {
   "cell_type": "code",
   "execution_count": 172,
   "id": "ff842b77",
   "metadata": {},
   "outputs": [],
   "source": [
    "def lists_to_dict(List_1, List_2):\n",
    "    \"\"\"Function that takes two lists as input and combines them in a dictionary\n",
    "    Input: two lists List_1 & List_2\n",
    "    Output: a dictionary \"\"\"\n",
    "    \n",
    "    dic = {}\n",
    "    for i in List_1:\n",
    "        for j in List_2:\n",
    "            if type(i) == str:\n",
    "                dic[i] = j\n",
    "            if type(j) == str:\n",
    "                dic[j] = i\n",
    "                \n",
    "                List_1.remove(i)\n",
    "                List_2.remove(j)\n",
    "                break\n",
    "              \n",
    "                \n",
    "                \n",
    "    return dic"
   ]
  },
  {
   "cell_type": "code",
   "execution_count": 173,
   "id": "e62bc9e7",
   "metadata": {},
   "outputs": [
    {
     "data": {
      "text/plain": [
       "{'watermelon': 1, 'melon': 5, 'apple': 12}"
      ]
     },
     "execution_count": 173,
     "metadata": {},
     "output_type": "execute_result"
    }
   ],
   "source": [
    "List_1 = [ 1, 3, 5, 10, 12, 14]\n",
    "List_2 = [ \"watermelon\", \"melon\", \"apple\", \"strawberries\", \"cherries\", \"oranges\" ]\n",
    "lists_to_dict(List_1, List_2)"
   ]
  },
  {
   "cell_type": "code",
   "execution_count": 25,
   "id": "2a7bc2a4",
   "metadata": {},
   "outputs": [],
   "source": [
    "def lists_to_dict(List_1, List_2):\n",
    "    \"\"\"Function that takes two lists as input and combines them in a dictionary\n",
    "    Input: two lists List_1 & List_2\n",
    "    Output: a dictionary \"\"\"\n",
    "    \n",
    "    dic = {}\n",
    "    for i in List_1:\n",
    "        if type(i) == str:\n",
    "            dic[List_1[0]] = List_2[0]\n",
    "            dic[List_1[1]] = List_2[1]\n",
    "            dic[List_1[2]] = List_2[2]\n",
    "            dic[List_1[3]] = List_2[3]\n",
    "            \n",
    "        \n",
    "            \n",
    "            \n",
    "    return dic"
   ]
  },
  {
   "cell_type": "code",
   "execution_count": 26,
   "id": "4f56161c",
   "metadata": {},
   "outputs": [
    {
     "data": {
      "text/plain": [
       "{'cars': 200, 'motorcycles': 150, 'bikes': 10, 'skateboards': 67}"
      ]
     },
     "execution_count": 26,
     "metadata": {},
     "output_type": "execute_result"
    }
   ],
   "source": [
    "List_1 = [ \"cars\", \"motorcycles\", \"bikes\", \"skateboards\"]\n",
    "List_2 = [ 200, 150, 10, 67 ] \n",
    "lists_to_dict(List_1, List_2)"
   ]
  },
  {
   "cell_type": "code",
   "execution_count": 26,
   "id": "7c0b22c6",
   "metadata": {},
   "outputs": [],
   "source": [
    "def lists_to_dict(List_1, List_2):\n",
    "    \"\"\"Function that takes two lists as input and combines them in a dictionary\n",
    "    Input: two lists List_1 & List_2\n",
    "    Output: a dictionary \"\"\"\n",
    "    \n",
    "    dic = {}\n",
    "    for i in List_1:\n",
    "        for j in List_2:\n",
    "            if type(i) == str:\n",
    "                dic[i] = j\n",
    "            if type(j) == str:\n",
    "                dic[j] = i\n",
    "    #loop over the length first\n",
    "    \n",
    "    return dic"
   ]
  },
  {
   "cell_type": "code",
   "execution_count": 21,
   "id": "65399b8e",
   "metadata": {},
   "outputs": [
    {
     "data": {
      "text/plain": [
       "{}"
      ]
     },
     "execution_count": 21,
     "metadata": {},
     "output_type": "execute_result"
    }
   ],
   "source": [
    "List_1 = [ 1, 3, 5, 10, 12, 14]\n",
    "List_2 = [ \"watermelon\", \"melon\", \"apple\", \"strawberries\", \"cherries\", \"oranges\" ]\n",
    "lists_to_dict(List_1, List_2)"
   ]
  },
  {
   "cell_type": "code",
   "execution_count": 14,
   "id": "8111c1b2",
   "metadata": {},
   "outputs": [],
   "source": [
    "def lists_to_dict(List_1, List_2):\n",
    "    \"\"\"Function that takes two lists as input and combines them in a dictionary\n",
    "    Input: two lists List_1 & List_2\n",
    "    Output: a dictionary \"\"\"\n",
    "    \n",
    "    dic = {}\n",
    "    for i in List_1:\n",
    "        for j in List_2:\n",
    "            if type(i) == str:\n",
    "                dic[i] = j\n",
    "                \n",
    "          \n",
    "    #loop over the length first\n",
    "    \n",
    "    return dic"
   ]
  },
  {
   "cell_type": "code",
   "execution_count": 15,
   "id": "fc4f0418",
   "metadata": {},
   "outputs": [
    {
     "data": {
      "text/plain": [
       "{}"
      ]
     },
     "execution_count": 15,
     "metadata": {},
     "output_type": "execute_result"
    }
   ],
   "source": [
    "List_1 = [ 1, 3, 5, 10, 12, 14]\n",
    "List_2 = [ \"watermelon\", \"melon\", \"apple\", \"strawberries\", \"cherries\", \"oranges\" ]\n",
    "lists_to_dict(List_1, List_2)"
   ]
  },
  {
   "cell_type": "code",
   "execution_count": 18,
   "id": "d65604c1",
   "metadata": {},
   "outputs": [
    {
     "data": {
      "text/plain": [
       "{'watermelon': 14,\n",
       " 'melon': 14,\n",
       " 'apple': 14,\n",
       " 'strawberries': 14,\n",
       " 'cherries': 14,\n",
       " 'oranges': 14}"
      ]
     },
     "execution_count": 18,
     "metadata": {},
     "output_type": "execute_result"
    }
   ],
   "source": [
    "List_1 = [ 1, 3, 5, 10, 12, 14]\n",
    "List_2 = [ \"watermelon\", \"melon\", \"apple\", \"strawberries\", \"cherries\", \"oranges\" ]\n",
    "lists_to_dict(List_1, List_2)"
   ]
  },
  {
   "cell_type": "code",
   "execution_count": 19,
   "id": "e49253ff",
   "metadata": {},
   "outputs": [
    {
     "data": {
      "text/plain": [
       "{'cars': 67, 'motorcycles': 67, 'bikes': 67, 'skateboards': 67}"
      ]
     },
     "execution_count": 19,
     "metadata": {},
     "output_type": "execute_result"
    }
   ],
   "source": [
    "List_1 = [ \"cars\", \"motorcycles\", \"bikes\", \"skateboards\"]\n",
    "List_2 = [ 200, 150, 10, 67 ] \n",
    "lists_to_dict(List_1, List_2)"
   ]
  },
  {
   "cell_type": "code",
   "execution_count": 20,
   "id": "57f5f91e",
   "metadata": {},
   "outputs": [
    {
     "data": {
      "text/plain": [
       "'True'"
      ]
     },
     "execution_count": 20,
     "metadata": {},
     "output_type": "execute_result"
    }
   ],
   "source": [
    "test_string = \"banana\"\n",
    "res = isinstance(test_string, str)\n",
    "str(res)"
   ]
  },
  {
   "cell_type": "code",
   "execution_count": 21,
   "id": "1da3c514",
   "metadata": {},
   "outputs": [
    {
     "data": {
      "text/plain": [
       "True"
      ]
     },
     "execution_count": 21,
     "metadata": {},
     "output_type": "execute_result"
    }
   ],
   "source": [
    "type(test_string) == str"
   ]
  },
  {
   "cell_type": "code",
   "execution_count": 22,
   "id": "5b22fd20",
   "metadata": {},
   "outputs": [
    {
     "data": {
      "text/plain": [
       "'False'"
      ]
     },
     "execution_count": 22,
     "metadata": {},
     "output_type": "execute_result"
    }
   ],
   "source": [
    "test_string = 1\n",
    "res = isinstance(test_string, str)\n",
    "str(res)"
   ]
  },
  {
   "cell_type": "code",
   "execution_count": 23,
   "id": "644c0c1d",
   "metadata": {},
   "outputs": [
    {
     "data": {
      "text/plain": [
       "False"
      ]
     },
     "execution_count": 23,
     "metadata": {},
     "output_type": "execute_result"
    }
   ],
   "source": [
    "type(test_string) == str"
   ]
  },
  {
   "cell_type": "code",
   "execution_count": null,
   "id": "b831a2ae",
   "metadata": {},
   "outputs": [],
   "source": []
  },
  {
   "cell_type": "code",
   "execution_count": 18,
   "id": "8a85d0e2",
   "metadata": {},
   "outputs": [],
   "source": [
    "list = [ \"cars\", \"motorcycles\", \"bikes\", \"skateboards\"]"
   ]
  },
  {
   "cell_type": "code",
   "execution_count": 19,
   "id": "1b1d5b45",
   "metadata": {},
   "outputs": [
    {
     "data": {
      "text/plain": [
       "'motorcycles'"
      ]
     },
     "execution_count": 19,
     "metadata": {},
     "output_type": "execute_result"
    }
   ],
   "source": [
    "list[1]"
   ]
  },
  {
   "cell_type": "code",
   "execution_count": 24,
   "id": "cc0518eb",
   "metadata": {},
   "outputs": [],
   "source": [
    "y = np.array( [ [1, 2, 3 ],   [4, 5, 6] ]) "
   ]
  },
  {
   "cell_type": "code",
   "execution_count": 25,
   "id": "375d94f5",
   "metadata": {},
   "outputs": [
    {
     "name": "stdout",
     "output_type": "stream",
     "text": [
      "[[1 2 3]\n",
      " [4 5 6]]\n"
     ]
    }
   ],
   "source": [
    "print(y)"
   ]
  },
  {
   "cell_type": "code",
   "execution_count": 11,
   "id": "c16beb75",
   "metadata": {},
   "outputs": [
    {
     "name": "stdout",
     "output_type": "stream",
     "text": [
      "d\n"
     ]
    }
   ],
   "source": [
    "print(\"d\")"
   ]
  },
  {
   "cell_type": "code",
   "execution_count": 12,
   "id": "067156c2",
   "metadata": {},
   "outputs": [],
   "source": [
    "def matrix_mult(mat1, mat2):\n",
    "    \"\"\"Function that multiplies two matrices\n",
    "    Input: two matrices mat1 & mat2\n",
    "    Output: a matrice multiplied by two matrices \"\"\"\n",
    "    \n",
    "    # number of columns in the first matrix has to equal to the number of rows in the second matrix\n",
    "    \n",
    "    \n",
    "    for i in range(len(mat1)):\n",
    "        for j in range(len(mat2[0])):\n",
    "            for k in range(len(mat2)):\n",
    "                \n",
    "                res[i][j] += mat1[i][k] * mat2[k][j]\n",
    "                \n",
    "    return res"
   ]
  },
  {
   "cell_type": "code",
   "execution_count": 13,
   "id": "a1bee41d",
   "metadata": {},
   "outputs": [
    {
     "ename": "NameError",
     "evalue": "name 'res' is not defined",
     "output_type": "error",
     "traceback": [
      "\u001b[1;31m---------------------------------------------------------------------------\u001b[0m",
      "\u001b[1;31mNameError\u001b[0m                                 Traceback (most recent call last)",
      "\u001b[1;32m<ipython-input-13-c00210475307>\u001b[0m in \u001b[0;36m<module>\u001b[1;34m\u001b[0m\n\u001b[0;32m      1\u001b[0m \u001b[0mA1\u001b[0m \u001b[1;33m=\u001b[0m \u001b[0mnp\u001b[0m\u001b[1;33m.\u001b[0m\u001b[0marray\u001b[0m\u001b[1;33m(\u001b[0m \u001b[1;33m[\u001b[0m \u001b[1;33m[\u001b[0m\u001b[1;36m1\u001b[0m\u001b[1;33m,\u001b[0m \u001b[1;36m2\u001b[0m\u001b[1;33m,\u001b[0m \u001b[1;36m3\u001b[0m \u001b[1;33m]\u001b[0m\u001b[1;33m,\u001b[0m \u001b[1;33m[\u001b[0m\u001b[1;36m4\u001b[0m\u001b[1;33m,\u001b[0m \u001b[1;36m5\u001b[0m\u001b[1;33m,\u001b[0m \u001b[1;36m6\u001b[0m\u001b[1;33m]\u001b[0m \u001b[1;33m]\u001b[0m\u001b[1;33m)\u001b[0m\u001b[1;33m\u001b[0m\u001b[1;33m\u001b[0m\u001b[0m\n\u001b[0;32m      2\u001b[0m \u001b[0mA2\u001b[0m \u001b[1;33m=\u001b[0m \u001b[0mnp\u001b[0m\u001b[1;33m.\u001b[0m\u001b[0marray\u001b[0m\u001b[1;33m(\u001b[0m \u001b[1;33m[\u001b[0m \u001b[1;33m[\u001b[0m\u001b[1;36m2\u001b[0m\u001b[1;33m,\u001b[0m \u001b[1;36m3\u001b[0m\u001b[1;33m]\u001b[0m \u001b[1;33m,\u001b[0m \u001b[1;33m[\u001b[0m\u001b[1;36m2\u001b[0m \u001b[1;33m,\u001b[0m \u001b[1;36m2\u001b[0m\u001b[1;33m]\u001b[0m \u001b[1;33m]\u001b[0m \u001b[1;33m)\u001b[0m\u001b[1;33m\u001b[0m\u001b[1;33m\u001b[0m\u001b[0m\n\u001b[1;32m----> 3\u001b[1;33m \u001b[0mmatrix_mult\u001b[0m\u001b[1;33m(\u001b[0m\u001b[0mA1\u001b[0m\u001b[1;33m,\u001b[0m\u001b[0mA2\u001b[0m\u001b[1;33m)\u001b[0m\u001b[1;33m\u001b[0m\u001b[1;33m\u001b[0m\u001b[0m\n\u001b[0m",
      "\u001b[1;32m<ipython-input-12-3c5caf16d0d7>\u001b[0m in \u001b[0;36mmatrix_mult\u001b[1;34m(mat1, mat2)\u001b[0m\n\u001b[0;32m      8\u001b[0m             \u001b[1;32mfor\u001b[0m \u001b[0mk\u001b[0m \u001b[1;32min\u001b[0m \u001b[0mrange\u001b[0m\u001b[1;33m(\u001b[0m\u001b[0mlen\u001b[0m\u001b[1;33m(\u001b[0m\u001b[0mmat2\u001b[0m\u001b[1;33m)\u001b[0m\u001b[1;33m)\u001b[0m\u001b[1;33m:\u001b[0m\u001b[1;33m\u001b[0m\u001b[1;33m\u001b[0m\u001b[0m\n\u001b[0;32m      9\u001b[0m \u001b[1;33m\u001b[0m\u001b[0m\n\u001b[1;32m---> 10\u001b[1;33m                 \u001b[0mres\u001b[0m\u001b[1;33m[\u001b[0m\u001b[0mi\u001b[0m\u001b[1;33m]\u001b[0m\u001b[1;33m[\u001b[0m\u001b[0mj\u001b[0m\u001b[1;33m]\u001b[0m \u001b[1;33m+=\u001b[0m \u001b[0mmat1\u001b[0m\u001b[1;33m[\u001b[0m\u001b[0mi\u001b[0m\u001b[1;33m]\u001b[0m\u001b[1;33m[\u001b[0m\u001b[0mk\u001b[0m\u001b[1;33m]\u001b[0m \u001b[1;33m*\u001b[0m \u001b[0mmat2\u001b[0m\u001b[1;33m[\u001b[0m\u001b[0mk\u001b[0m\u001b[1;33m]\u001b[0m\u001b[1;33m[\u001b[0m\u001b[0mj\u001b[0m\u001b[1;33m]\u001b[0m\u001b[1;33m\u001b[0m\u001b[1;33m\u001b[0m\u001b[0m\n\u001b[0m\u001b[0;32m     11\u001b[0m \u001b[1;33m\u001b[0m\u001b[0m\n\u001b[0;32m     12\u001b[0m     \u001b[1;32mreturn\u001b[0m \u001b[0mres\u001b[0m\u001b[1;33m\u001b[0m\u001b[1;33m\u001b[0m\u001b[0m\n",
      "\u001b[1;31mNameError\u001b[0m: name 'res' is not defined"
     ]
    }
   ],
   "source": [
    "A1 = np.array( [ [1, 2, 3 ], [4, 5, 6] ])\n",
    "A2 = np.array( [ [2, 3] , [2 , 2] ] ) \n",
    "matrix_mult(A1,A2)"
   ]
  },
  {
   "cell_type": "code",
   "execution_count": null,
   "id": "abf8389c",
   "metadata": {},
   "outputs": [],
   "source": []
  }
 ],
 "metadata": {
  "kernelspec": {
   "display_name": "Python 3",
   "language": "python",
   "name": "python3"
  },
  "language_info": {
   "codemirror_mode": {
    "name": "ipython",
    "version": 3
   },
   "file_extension": ".py",
   "mimetype": "text/x-python",
   "name": "python",
   "nbconvert_exporter": "python",
   "pygments_lexer": "ipython3",
   "version": "3.7.11"
  }
 },
 "nbformat": 4,
 "nbformat_minor": 5
}
