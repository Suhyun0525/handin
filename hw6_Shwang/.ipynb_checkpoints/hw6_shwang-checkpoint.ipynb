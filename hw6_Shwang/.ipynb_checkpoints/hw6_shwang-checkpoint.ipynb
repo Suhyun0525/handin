{
 "cells": [
  {
   "cell_type": "markdown",
   "id": "75137aa8",
   "metadata": {},
   "source": [
    "# Suhyun Hwang"
   ]
  },
  {
   "cell_type": "markdown",
   "id": "f976e43b",
   "metadata": {},
   "source": [
    "# Homework 6"
   ]
  },
  {
   "cell_type": "markdown",
   "id": "2c015cc4",
   "metadata": {},
   "source": [
    "# Friday Sep 24, 2021"
   ]
  },
  {
   "cell_type": "code",
   "execution_count": 5,
   "id": "3f32d1c6",
   "metadata": {},
   "outputs": [],
   "source": [
    "import numpy as np"
   ]
  },
  {
   "cell_type": "markdown",
   "id": "078bdd3d",
   "metadata": {},
   "source": [
    "#### Problem 1"
   ]
  },
  {
   "cell_type": "code",
   "execution_count": 6,
   "id": "7af385e9",
   "metadata": {},
   "outputs": [
    {
     "name": "stdout",
     "output_type": "stream",
     "text": [
      "Problem 1\n"
     ]
    }
   ],
   "source": [
    "print( 'Problem 1' )"
   ]
  },
  {
   "cell_type": "markdown",
   "id": "c37243e8",
   "metadata": {},
   "source": [
    "#### Problem 2"
   ]
  },
  {
   "cell_type": "code",
   "execution_count": 7,
   "id": "7c3f0280",
   "metadata": {},
   "outputs": [
    {
     "name": "stdout",
     "output_type": "stream",
     "text": [
      "Problem 2\n"
     ]
    }
   ],
   "source": [
    "print( 'Problem 2' )"
   ]
  },
  {
   "cell_type": "code",
   "execution_count": 8,
   "id": "bafe4b96",
   "metadata": {},
   "outputs": [],
   "source": [
    "import matplotlib.pyplot as plt"
   ]
  },
  {
   "cell_type": "markdown",
   "id": "0d782de1",
   "metadata": {},
   "source": [
    "#### Problem 3"
   ]
  },
  {
   "cell_type": "code",
   "execution_count": 3,
   "id": "9a237c85",
   "metadata": {},
   "outputs": [
    {
     "name": "stdout",
     "output_type": "stream",
     "text": [
      "Problem 3\n"
     ]
    }
   ],
   "source": [
    "print( 'Problem 3' )"
   ]
  },
  {
   "cell_type": "markdown",
   "id": "e414bf89",
   "metadata": {},
   "source": [
    "#### Problem 4"
   ]
  },
  {
   "cell_type": "code",
   "execution_count": 4,
   "id": "33ac1b4f",
   "metadata": {},
   "outputs": [
    {
     "name": "stdout",
     "output_type": "stream",
     "text": [
      "Problem 4\n"
     ]
    }
   ],
   "source": [
    "print( 'Problem 4' )"
   ]
  },
  {
   "cell_type": "code",
   "execution_count": null,
   "id": "41d92a0e",
   "metadata": {},
   "outputs": [],
   "source": []
  }
 ],
 "metadata": {
  "kernelspec": {
   "display_name": "Python 3",
   "language": "python",
   "name": "python3"
  },
  "language_info": {
   "codemirror_mode": {
    "name": "ipython",
    "version": 3
   },
   "file_extension": ".py",
   "mimetype": "text/x-python",
   "name": "python",
   "nbconvert_exporter": "python",
   "pygments_lexer": "ipython3",
   "version": "3.7.11"
  }
 },
 "nbformat": 4,
 "nbformat_minor": 5
}
