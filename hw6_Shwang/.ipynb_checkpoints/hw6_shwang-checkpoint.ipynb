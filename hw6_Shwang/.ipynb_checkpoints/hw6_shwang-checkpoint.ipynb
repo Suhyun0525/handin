{
 "cells": [
  {
   "cell_type": "markdown",
   "id": "75137aa8",
   "metadata": {},
   "source": [
    "# Suhyun Hwang"
   ]
  },
  {
   "cell_type": "markdown",
   "id": "f976e43b",
   "metadata": {},
   "source": [
    "# Homework 6"
   ]
  },
  {
   "cell_type": "markdown",
   "id": "2c015cc4",
   "metadata": {},
   "source": [
    "# Friday Sep 24, 2021"
   ]
  },
  {
   "cell_type": "code",
   "execution_count": 21,
   "id": "3f32d1c6",
   "metadata": {},
   "outputs": [],
   "source": [
    "import numpy as np"
   ]
  },
  {
   "cell_type": "markdown",
   "id": "078bdd3d",
   "metadata": {},
   "source": [
    "#### Problem 1"
   ]
  },
  {
   "cell_type": "code",
   "execution_count": 22,
   "id": "7af385e9",
   "metadata": {},
   "outputs": [
    {
     "name": "stdout",
     "output_type": "stream",
     "text": [
      "Problem 1\n"
     ]
    }
   ],
   "source": [
    "print( 'Problem 1' )"
   ]
  },
  {
   "cell_type": "markdown",
   "id": "c37243e8",
   "metadata": {},
   "source": [
    "#### Problem 2"
   ]
  },
  {
   "cell_type": "code",
   "execution_count": 23,
   "id": "7c3f0280",
   "metadata": {},
   "outputs": [
    {
     "name": "stdout",
     "output_type": "stream",
     "text": [
      "Problem 2\n"
     ]
    }
   ],
   "source": [
    "print( 'Problem 2' )"
   ]
  },
  {
   "cell_type": "code",
   "execution_count": 24,
   "id": "bafe4b96",
   "metadata": {},
   "outputs": [],
   "source": [
    "import matplotlib.pyplot as plt"
   ]
  },
  {
   "cell_type": "code",
   "execution_count": 29,
   "id": "fb73fefe",
   "metadata": {},
   "outputs": [],
   "source": [
    "x = np.arange(1, 100.1, 0.5)"
   ]
  },
  {
   "cell_type": "code",
   "execution_count": 31,
   "id": "fe6372d2",
   "metadata": {},
   "outputs": [
    {
     "name": "stdout",
     "output_type": "stream",
     "text": [
      "[  1.    1.5   2.    2.5   3.    3.5   4.    4.5   5.    5.5   6.    6.5\n",
      "   7.    7.5   8.    8.5   9.    9.5  10.   10.5  11.   11.5  12.   12.5\n",
      "  13.   13.5  14.   14.5  15.   15.5  16.   16.5  17.   17.5  18.   18.5\n",
      "  19.   19.5  20.   20.5  21.   21.5  22.   22.5  23.   23.5  24.   24.5\n",
      "  25.   25.5  26.   26.5  27.   27.5  28.   28.5  29.   29.5  30.   30.5\n",
      "  31.   31.5  32.   32.5  33.   33.5  34.   34.5  35.   35.5  36.   36.5\n",
      "  37.   37.5  38.   38.5  39.   39.5  40.   40.5  41.   41.5  42.   42.5\n",
      "  43.   43.5  44.   44.5  45.   45.5  46.   46.5  47.   47.5  48.   48.5\n",
      "  49.   49.5  50.   50.5  51.   51.5  52.   52.5  53.   53.5  54.   54.5\n",
      "  55.   55.5  56.   56.5  57.   57.5  58.   58.5  59.   59.5  60.   60.5\n",
      "  61.   61.5  62.   62.5  63.   63.5  64.   64.5  65.   65.5  66.   66.5\n",
      "  67.   67.5  68.   68.5  69.   69.5  70.   70.5  71.   71.5  72.   72.5\n",
      "  73.   73.5  74.   74.5  75.   75.5  76.   76.5  77.   77.5  78.   78.5\n",
      "  79.   79.5  80.   80.5  81.   81.5  82.   82.5  83.   83.5  84.   84.5\n",
      "  85.   85.5  86.   86.5  87.   87.5  88.   88.5  89.   89.5  90.   90.5\n",
      "  91.   91.5  92.   92.5  93.   93.5  94.   94.5  95.   95.5  96.   96.5\n",
      "  97.   97.5  98.   98.5  99.   99.5 100. ]\n"
     ]
    }
   ],
   "source": [
    "print( x )"
   ]
  },
  {
   "cell_type": "code",
   "execution_count": 33,
   "id": "4d389036",
   "metadata": {},
   "outputs": [],
   "source": [
    "y = np.log10( x )"
   ]
  },
  {
   "cell_type": "code",
   "execution_count": 35,
   "id": "8a88cb0f",
   "metadata": {},
   "outputs": [],
   "source": [
    "z = np.sqrt( x )"
   ]
  },
  {
   "cell_type": "code",
   "execution_count": 43,
   "id": "e0caacaa",
   "metadata": {},
   "outputs": [
    {
     "data": {
      "text/plain": [
       "[<matplotlib.lines.Line2D at 0x23a05292808>]"
      ]
     },
     "execution_count": 43,
     "metadata": {},
     "output_type": "execute_result"
    }
   ],
   "source": [
    "plt.plot( y, z )"
   ]
  },
  {
   "cell_type": "code",
   "execution_count": 45,
   "id": "6558bdb3",
   "metadata": {},
   "outputs": [
    {
     "data": {
      "text/plain": [
       "[<matplotlib.lines.Line2D at 0x23a052d5108>]"
      ]
     },
     "execution_count": 45,
     "metadata": {},
     "output_type": "execute_result"
    }
   ],
   "source": [
    "plt.plot( y, color = 'pink', linestyle = '--', linewidth = 2 )\n",
    "plt.plot( z, color = 'purple', linestyle = '-', linewidth = 4 )"
   ]
  },
  {
   "cell_type": "code",
   "execution_count": 47,
   "id": "ecaa3a70",
   "metadata": {},
   "outputs": [
    {
     "ename": "AttributeError",
     "evalue": "module 'matplotlib.pyplot' has no attribute 'titles'",
     "output_type": "error",
     "traceback": [
      "\u001b[1;31m---------------------------------------------------------------------------\u001b[0m",
      "\u001b[1;31mAttributeError\u001b[0m                            Traceback (most recent call last)",
      "\u001b[1;32m<ipython-input-47-57604e0e3279>\u001b[0m in \u001b[0;36m<module>\u001b[1;34m\u001b[0m\n\u001b[1;32m----> 1\u001b[1;33m \u001b[0mplt\u001b[0m\u001b[1;33m.\u001b[0m\u001b[0mtitles\u001b[0m\u001b[1;33m(\u001b[0m \u001b[1;34m'Function for HW6'\u001b[0m\u001b[1;33m,\u001b[0m \u001b[0mfontsize\u001b[0m \u001b[1;33m=\u001b[0m \u001b[1;36m44\u001b[0m \u001b[1;33m)\u001b[0m\u001b[1;33m\u001b[0m\u001b[1;33m\u001b[0m\u001b[0m\n\u001b[0m",
      "\u001b[1;31mAttributeError\u001b[0m: module 'matplotlib.pyplot' has no attribute 'titles'"
     ]
    }
   ],
   "source": [
    "plt.titles( 'Function for HW6', fontsize = 44 )"
   ]
  },
  {
   "cell_type": "code",
   "execution_count": null,
   "id": "f6a111e2",
   "metadata": {},
   "outputs": [],
   "source": [
    "plt.savefig( 'Function for HW6', format = 'pdf' )\n",
    "\n",
    "#plt.savefig( 'my_first_saved_figure.pdf', format = 'pdf', \n",
    "#            dpi = 1200, bbox_inches = 'tight', pad_inches = 0.3 )"
   ]
  },
  {
   "cell_type": "code",
   "execution_count": 46,
   "id": "52fd3dc1",
   "metadata": {},
   "outputs": [
    {
     "ename": "AttributeError",
     "evalue": "module 'matplotlib.pyplot' has no attribute 'ythicks'",
     "output_type": "error",
     "traceback": [
      "\u001b[1;31m---------------------------------------------------------------------------\u001b[0m",
      "\u001b[1;31mAttributeError\u001b[0m                            Traceback (most recent call last)",
      "\u001b[1;32m<ipython-input-46-f0e77c940334>\u001b[0m in \u001b[0;36m<module>\u001b[1;34m\u001b[0m\n\u001b[0;32m      1\u001b[0m \u001b[0mplt\u001b[0m\u001b[1;33m.\u001b[0m\u001b[0mfigure\u001b[0m\u001b[1;33m(\u001b[0m \u001b[0mfigsize\u001b[0m \u001b[1;33m=\u001b[0m \u001b[1;33m(\u001b[0m \u001b[1;36m15\u001b[0m\u001b[1;33m,\u001b[0m\u001b[1;36m15\u001b[0m \u001b[1;33m)\u001b[0m \u001b[1;33m)\u001b[0m\u001b[1;33m\u001b[0m\u001b[1;33m\u001b[0m\u001b[0m\n\u001b[1;32m----> 2\u001b[1;33m \u001b[0mplt\u001b[0m\u001b[1;33m.\u001b[0m\u001b[0mythicks\u001b[0m\u001b[1;33m(\u001b[0m \u001b[0mfontsize\u001b[0m \u001b[1;33m=\u001b[0m \u001b[1;36m20\u001b[0m \u001b[1;33m)\u001b[0m\u001b[1;33m\u001b[0m\u001b[1;33m\u001b[0m\u001b[0m\n\u001b[0m\u001b[0;32m      3\u001b[0m \u001b[0mplt\u001b[0m\u001b[1;33m.\u001b[0m\u001b[0mxthicks\u001b[0m\u001b[1;33m(\u001b[0m \u001b[0mfontsize\u001b[0m \u001b[1;33m=\u001b[0m \u001b[1;36m30\u001b[0m \u001b[1;33m)\u001b[0m\u001b[1;33m\u001b[0m\u001b[1;33m\u001b[0m\u001b[0m\n",
      "\u001b[1;31mAttributeError\u001b[0m: module 'matplotlib.pyplot' has no attribute 'ythicks'"
     ]
    }
   ],
   "source": [
    "plt.figure( figsize = ( 15,15 ) )\n",
    "plt.ythicks( fontsize = 20 )\n",
    "plt.xthicks( fontsize = 30 )"
   ]
  },
  {
   "cell_type": "markdown",
   "id": "0d782de1",
   "metadata": {},
   "source": [
    "#### Problem 3"
   ]
  },
  {
   "cell_type": "code",
   "execution_count": 3,
   "id": "9a237c85",
   "metadata": {},
   "outputs": [
    {
     "name": "stdout",
     "output_type": "stream",
     "text": [
      "Problem 3\n"
     ]
    }
   ],
   "source": [
    "print( 'Problem 3' )"
   ]
  },
  {
   "cell_type": "markdown",
   "id": "e414bf89",
   "metadata": {},
   "source": [
    "#### Problem 4"
   ]
  },
  {
   "cell_type": "code",
   "execution_count": 4,
   "id": "33ac1b4f",
   "metadata": {},
   "outputs": [
    {
     "name": "stdout",
     "output_type": "stream",
     "text": [
      "Problem 4\n"
     ]
    }
   ],
   "source": [
    "print( 'Problem 4' )"
   ]
  },
  {
   "cell_type": "code",
   "execution_count": null,
   "id": "41d92a0e",
   "metadata": {},
   "outputs": [],
   "source": []
  }
 ],
 "metadata": {
  "kernelspec": {
   "display_name": "Python 3",
   "language": "python",
   "name": "python3"
  },
  "language_info": {
   "codemirror_mode": {
    "name": "ipython",
    "version": 3
   },
   "file_extension": ".py",
   "mimetype": "text/x-python",
   "name": "python",
   "nbconvert_exporter": "python",
   "pygments_lexer": "ipython3",
   "version": "3.7.11"
  }
 },
 "nbformat": 4,
 "nbformat_minor": 5
}
