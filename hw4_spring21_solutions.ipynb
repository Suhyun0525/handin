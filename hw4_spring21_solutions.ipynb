{
 "cells": [
  {
   "cell_type": "markdown",
   "metadata": {},
   "source": [
    "# Homework 4 PHZ3150 "
   ]
  },
  {
   "cell_type": "code",
   "execution_count": null,
   "metadata": {},
   "outputs": [],
   "source": []
  },
  {
   "cell_type": "markdown",
   "metadata": {},
   "source": [
    "#### Problem 2:"
   ]
  },
  {
   "cell_type": "markdown",
   "metadata": {},
   "source": [
    "#### We have a body of mass m (kg). When a force F (N) acts on it, according to Newton’s second law, the body will get an acceleration a (m/s2). Remember that F=ma. Write an expression that 1. Calculate F for the following mass and acceleration pairs: \n",
    "- 10  -> 5 \n",
    "- 15  -> 10 \n",
    "- 20  -> 5 \n",
    "- 40  -> 3 \n"
   ]
  },
  {
   "cell_type": "code",
   "execution_count": 7,
   "metadata": {},
   "outputs": [
    {
     "name": "stdout",
     "output_type": "stream",
     "text": [
      "Problem 2 \n"
     ]
    }
   ],
   "source": [
    "print( 'Problem 2 ') \n",
    "#write the expression: F = m * a "
   ]
  },
  {
   "cell_type": "code",
   "execution_count": 3,
   "metadata": {},
   "outputs": [
    {
     "name": "stdout",
     "output_type": "stream",
     "text": [
      "50\n"
     ]
    }
   ],
   "source": [
    "m = 10\n",
    "a = 5 \n",
    "\n",
    "F = m * a\n",
    "\n",
    "print( F )"
   ]
  },
  {
   "cell_type": "code",
   "execution_count": 4,
   "metadata": {},
   "outputs": [
    {
     "name": "stdout",
     "output_type": "stream",
     "text": [
      "150\n"
     ]
    }
   ],
   "source": [
    "m = 15\n",
    "a = 10\n",
    "\n",
    "F = m * a\n",
    "\n",
    "print( F )"
   ]
  },
  {
   "cell_type": "code",
   "execution_count": 5,
   "metadata": {},
   "outputs": [
    {
     "name": "stdout",
     "output_type": "stream",
     "text": [
      "100\n"
     ]
    }
   ],
   "source": [
    "m = 20\n",
    "a = 5 \n",
    "\n",
    "F = m * a\n",
    "\n",
    "print( F )"
   ]
  },
  {
   "cell_type": "code",
   "execution_count": 6,
   "metadata": {},
   "outputs": [
    {
     "name": "stdout",
     "output_type": "stream",
     "text": [
      "120\n"
     ]
    }
   ],
   "source": [
    "m = 40\n",
    "a = 3 \n",
    "\n",
    "F = m * a\n",
    "\n",
    "print( F )"
   ]
  },
  {
   "cell_type": "code",
   "execution_count": 8,
   "metadata": {},
   "outputs": [
    {
     "name": "stdout",
     "output_type": "stream",
     "text": [
      "Problem 2 - part 2\n"
     ]
    }
   ],
   "source": [
    "print( 'Problem 2 - part 2' )"
   ]
  },
  {
   "cell_type": "code",
   "execution_count": 10,
   "metadata": {},
   "outputs": [],
   "source": [
    "def force_to_acceleration ( m, F ):\n",
    "    \"\"\"Function that calculates the acceleration of body with mass m [Kg] when force \n",
    "    F [ N ] is applied on it. \n",
    "    Input: m [kg], F [ N ]\n",
    "    Output: a [ m/s^2 ]\"\"\"\n",
    "    \n",
    "    a = F / m \n",
    "    return a"
   ]
  },
  {
   "cell_type": "code",
   "execution_count": 24,
   "metadata": {},
   "outputs": [
    {
     "name": "stdout",
     "output_type": "stream",
     "text": [
      " The acceleration of a body of mass  150.0  kg, when force  100  is applied on it is: 0.6666666666666666  m/s^2\n",
      " The acceleration of a body of mass  150.0  kg, when force  22  is applied on it is: 0.14666666666666667  m/s^2\n",
      " The acceleration of a body of mass  150.0  kg, when force  450  is applied on it is: 3.0  m/s^2\n"
     ]
    }
   ],
   "source": [
    "# call force_to_acceleration and calculate the acceleration of a body of \n",
    "# mass 150kg when forces  F of 100, 22 and 450 (N) are applied to it:\n",
    "\n",
    "m = 150.\n",
    "\n",
    "F = 100\n",
    "print ( \" The acceleration of a body of mass \", m , \n",
    "       \" kg, when force \", F, \" is applied on it is:\", force_to_acceleration ( m, F ), \" m/s^2\")\n",
    "\n",
    "F = 22\n",
    "print ( \" The acceleration of a body of mass \", m , \n",
    "       \" kg, when force \", F, \" is applied on it is:\", force_to_acceleration ( m, F ), \" m/s^2\")\n",
    "\n",
    "F = 450\n",
    "print ( \" The acceleration of a body of mass \", m , \n",
    "       \" kg, when force \", F, \" is applied on it is:\", force_to_acceleration ( m, F ), \" m/s^2\")"
   ]
  },
  {
   "cell_type": "code",
   "execution_count": null,
   "metadata": {},
   "outputs": [],
   "source": []
  },
  {
   "cell_type": "markdown",
   "metadata": {},
   "source": [
    "#### Problem 3: The acceleration of a body can be approximated by the ratio of the change of a body’s speed (u2-u1) over a time span (t1-t1) as: a=(u2-u1)/(t2-t1). Write a function called acceleration(u1,u2,t1,t2) that takes the different speeds (u1,u2) of a body at times t1 and t2 and calculates the acceleration of the body. Save it in a separate file, not your main homework file. Remember to start it with a docstring.  In your main homework file, import the function and calculate the acceleration of a body for the following times and speeds\n"
   ]
  },
  {
   "cell_type": "markdown",
   "metadata": {},
   "source": [
    "t1 [ s ] | t2 [ s ] | u1 [ m/s ] | u2 [ m/s ] |\n",
    ":-------: | :-------: | :-------: | :-------: |\n",
    "0  | 2  | 10 | 13 |\n",
    "10 | 14 | 15 | 30 |\n",
    "14 | 16 | 32 | 36 |\n",
    "28 | 32 | 42 | 20 |\n",
    "0  | 10 | 20 | 22 |\n"
   ]
  },
  {
   "cell_type": "code",
   "execution_count": 25,
   "metadata": {},
   "outputs": [
    {
     "name": "stdout",
     "output_type": "stream",
     "text": [
      " Problem 3: \n"
     ]
    }
   ],
   "source": [
    "# saved in in accelerations.py:\n",
    "\n",
    "print ( \" Problem 3: \" )"
   ]
  },
  {
   "cell_type": "code",
   "execution_count": 26,
   "metadata": {},
   "outputs": [],
   "source": [
    "from accelerations import acceleration"
   ]
  },
  {
   "cell_type": "code",
   "execution_count": 30,
   "metadata": {},
   "outputs": [
    {
     "name": "stdout",
     "output_type": "stream",
     "text": [
      " Object moving between  0  and  2  with speeds  10  and  13  accelerated by:  1.5  m/s^2\n",
      " Object moving between  10  and  14  with speeds  15  and  30  accelerated by:  3.75  m/s^2\n",
      " Object moving between  14  and  16  with speeds  32  and  36  accelerated by:  2.0  m/s^2\n",
      " Object moving between  28  and  32  with speeds  42  and  40  accelerated by:  -0.5  m/s^2\n",
      " Object moving between  0  and  10  with speeds  20  and  22  accelerated by:  0.2  m/s^2\n"
     ]
    }
   ],
   "source": [
    "t1 = 0 \n",
    "t2 = 2\n",
    "u1 = 10\n",
    "u2 = 13\n",
    "\n",
    "print ( \" Object moving between \", t1 , \" and \", t2 ,\" with speeds \", u1, \" and \",\n",
    "      u2, \" accelerated by: \", acceleration( u1, u2, t1, t2 ) , \" m/s^2\")\n",
    "\n",
    "\n",
    "t1 = 10 \n",
    "t2 = 14\n",
    "u1 = 15\n",
    "u2 = 30\n",
    "\n",
    "print ( \" Object moving between \", t1 , \" and \", t2 ,\" with speeds \", u1, \" and \",\n",
    "      u2, \" accelerated by: \", acceleration( u1, u2, t1, t2 ) , \" m/s^2\")\n",
    "\n",
    "t1 = 14 \n",
    "t2 = 16\n",
    "u1 = 32\n",
    "u2 = 36\n",
    "\n",
    "print ( \" Object moving between \", t1 , \" and \", t2 ,\" with speeds \", u1, \" and \",\n",
    "      u2, \" accelerated by: \", acceleration( u1, u2, t1, t2 ) , \" m/s^2\")\n",
    "\n",
    "t1 = 28\n",
    "t2 = 32\n",
    "u1 = 42\n",
    "u2 = 40\n",
    "\n",
    "print ( \" Object moving between \", t1 , \" and \", t2 ,\" with speeds \", u1, \" and \",\n",
    "      u2, \" accelerated by: \", acceleration( u1, u2, t1, t2 ) , \" m/s^2\")\n",
    "\n",
    "t1 = 0 \n",
    "t2 = 10\n",
    "u1 = 20\n",
    "u2 = 22\n",
    "\n",
    "print ( \" Object moving between \", t1 , \" and \", t2 ,\" with speeds \", u1, \" and \",\n",
    "      u2, \" accelerated by: \", acceleration( u1, u2, t1, t2 ) , \" m/s^2\")"
   ]
  },
  {
   "cell_type": "markdown",
   "metadata": {},
   "source": [
    "#### Name 2 test cases you could use to verify the code works as it should."
   ]
  },
  {
   "cell_type": "code",
   "execution_count": 31,
   "metadata": {},
   "outputs": [
    {
     "name": "stdout",
     "output_type": "stream",
     "text": [
      " Object moving between  0  and  10  with speeds  20  and  20  accelerated by:  0.0  m/s^2\n"
     ]
    }
   ],
   "source": [
    "### going with the same speed -- should get 0 acceleration\n",
    "t1 = 0 \n",
    "t2 = 10\n",
    "u1 = 20\n",
    "u2 = 20\n",
    "\n",
    "print ( \" Object moving between \", t1 , \" and \", t2 ,\" with speeds \", u1, \" and \",\n",
    "      u2, \" accelerated by: \", acceleration( u1, u2, t1, t2 ) , \" m/s^2\")"
   ]
  },
  {
   "cell_type": "code",
   "execution_count": 32,
   "metadata": {},
   "outputs": [
    {
     "name": "stdout",
     "output_type": "stream",
     "text": [
      " Object moving between  0  and  10  with speeds  20  and  0  accelerated by:  -2.0  m/s^2\n"
     ]
    }
   ],
   "source": [
    "#### object stoping to move should give negative acceleration; 20 to 0 m/s in 10 s should be -2 m/s^2\n",
    "\n",
    "t1 = 0 \n",
    "t2 = 10\n",
    "u1 = 20\n",
    "u2 = 0\n",
    "\n",
    "print ( \" Object moving between \", t1 , \" and \", t2 ,\" with speeds \", u1, \" and \",\n",
    "      u2, \" accelerated by: \", acceleration( u1, u2, t1, t2 ) , \" m/s^2\")"
   ]
  },
  {
   "cell_type": "code",
   "execution_count": 33,
   "metadata": {},
   "outputs": [
    {
     "name": "stdout",
     "output_type": "stream",
     "text": [
      " Object moving between  0  and  10  with speeds  0  and  0  accelerated by:  0.0  m/s^2\n"
     ]
    }
   ],
   "source": [
    "#### object having constant zero speed -- should give 0 m/s2\n",
    "\n",
    "t1 = 0 \n",
    "t2 = 10\n",
    "u1 = 0\n",
    "u2 = 0\n",
    "\n",
    "print ( \" Object moving between \", t1 , \" and \", t2 ,\" with speeds \", u1, \" and \",\n",
    "      u2, \" accelerated by: \", acceleration( u1, u2, t1, t2 ) , \" m/s^2\")\n"
   ]
  },
  {
   "cell_type": "code",
   "execution_count": 35,
   "metadata": {},
   "outputs": [
    {
     "name": "stdout",
     "output_type": "stream",
     "text": [
      " Object moving between  0  and  1  with speeds  0  and  100  accelerated by:  100.0  m/s^2\n"
     ]
    }
   ],
   "source": [
    "### object going 0 to 100 m/s in 1 s -- should give 100 m/s2\n",
    "t1 = 0 \n",
    "t2 = 1\n",
    "u1 = 0\n",
    "u2 = 100\n",
    "\n",
    "print ( \" Object moving between \", t1 , \" and \", t2 ,\" with speeds \", u1, \" and \",\n",
    "      u2, \" accelerated by: \", acceleration( u1, u2, t1, t2 ) , \" m/s^2\")"
   ]
  },
  {
   "cell_type": "code",
   "execution_count": null,
   "metadata": {},
   "outputs": [],
   "source": []
  }
 ],
 "metadata": {
  "kernelspec": {
   "display_name": "Python 3",
   "language": "python",
   "name": "python3"
  },
  "language_info": {
   "codemirror_mode": {
    "name": "ipython",
    "version": 3
   },
   "file_extension": ".py",
   "mimetype": "text/x-python",
   "name": "python",
   "nbconvert_exporter": "python",
   "pygments_lexer": "ipython3",
   "version": "3.7.11"
  }
 },
 "nbformat": 4,
 "nbformat_minor": 2
}
