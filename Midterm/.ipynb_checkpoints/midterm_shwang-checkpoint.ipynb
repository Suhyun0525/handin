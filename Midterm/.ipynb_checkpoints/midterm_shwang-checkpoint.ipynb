{
 "cells": [
  {
   "cell_type": "markdown",
   "id": "8c940eff",
   "metadata": {},
   "source": [
    "# Suhyun Hwang"
   ]
  },
  {
   "cell_type": "markdown",
   "id": "c4ba0658",
   "metadata": {},
   "source": [
    "# Midterm "
   ]
  },
  {
   "cell_type": "markdown",
   "id": "677de67a",
   "metadata": {},
   "source": [
    "# Oct 1, 2021"
   ]
  },
  {
   "cell_type": "markdown",
   "id": "ff93032b",
   "metadata": {},
   "source": [
    "#### Problem 2"
   ]
  },
  {
   "cell_type": "code",
   "execution_count": 1,
   "id": "b4768dd8",
   "metadata": {},
   "outputs": [
    {
     "name": "stdout",
     "output_type": "stream",
     "text": [
      "Problem 2\n"
     ]
    }
   ],
   "source": [
    "print('Problem 2')"
   ]
  },
  {
   "cell_type": "code",
   "execution_count": 13,
   "id": "1b645163",
   "metadata": {},
   "outputs": [
    {
     "name": "stdout",
     "output_type": "stream",
     "text": [
      "You are going to choose which cities you will travel between. These are the options available : Atlanta, Baltimore, Boston, Charlotte, Dallas, Denver, Miami, Minneapolis, Orlando, Sacramento, Tampa, Washington.Please type the name of the city you want to begin your trip in start_city and the name of the city you want to end your trip in target_city.\n"
     ]
    }
   ],
   "source": [
    "print(\"You are going to choose which cities you will travel between. These are the options available : Atlanta, Baltimore, Boston, Charlotte, Dallas, Denver, Miami, Minneapolis, Orlando, Sacramento, Tampa, Washington.\"\n",
    "     \"Please type the name of the city you want to begin your trip in start_city and the name of the city you want to end your trip in target_city.\")\n"
   ]
  },
  {
   "cell_type": "code",
   "execution_count": 1,
   "id": "56674e9f",
   "metadata": {},
   "outputs": [
    {
     "ename": "KeyboardInterrupt",
     "evalue": "Interrupted by user",
     "output_type": "error",
     "traceback": [
      "\u001b[1;31m---------------------------------------------------------------------------\u001b[0m",
      "\u001b[1;31mKeyboardInterrupt\u001b[0m                         Traceback (most recent call last)",
      "\u001b[1;32m<ipython-input-1-75cc98fb8e49>\u001b[0m in \u001b[0;36m<module>\u001b[1;34m\u001b[0m\n\u001b[1;32m----> 1\u001b[1;33m \u001b[0mstart_city\u001b[0m \u001b[1;33m=\u001b[0m \u001b[0minput\u001b[0m\u001b[1;33m(\u001b[0m\u001b[1;34m\"Where do you want to start your trip?: \"\u001b[0m\u001b[1;33m)\u001b[0m\u001b[1;33m\u001b[0m\u001b[1;33m\u001b[0m\u001b[0m\n\u001b[0m\u001b[0;32m      2\u001b[0m \u001b[0mtarget_city\u001b[0m \u001b[1;33m=\u001b[0m \u001b[0minput\u001b[0m\u001b[1;33m(\u001b[0m\u001b[1;34m\"Where do you want to end your trip?: \"\u001b[0m\u001b[1;33m)\u001b[0m\u001b[1;33m\u001b[0m\u001b[1;33m\u001b[0m\u001b[0m\n",
      "\u001b[1;32m~\\miniconda3\\lib\\site-packages\\ipykernel\\kernelbase.py\u001b[0m in \u001b[0;36mraw_input\u001b[1;34m(self, prompt)\u001b[0m\n\u001b[0;32m    861\u001b[0m             \u001b[0mself\u001b[0m\u001b[1;33m.\u001b[0m\u001b[0m_parent_ident\u001b[0m\u001b[1;33m,\u001b[0m\u001b[1;33m\u001b[0m\u001b[1;33m\u001b[0m\u001b[0m\n\u001b[0;32m    862\u001b[0m             \u001b[0mself\u001b[0m\u001b[1;33m.\u001b[0m\u001b[0m_parent_header\u001b[0m\u001b[1;33m,\u001b[0m\u001b[1;33m\u001b[0m\u001b[1;33m\u001b[0m\u001b[0m\n\u001b[1;32m--> 863\u001b[1;33m             \u001b[0mpassword\u001b[0m\u001b[1;33m=\u001b[0m\u001b[1;32mFalse\u001b[0m\u001b[1;33m,\u001b[0m\u001b[1;33m\u001b[0m\u001b[1;33m\u001b[0m\u001b[0m\n\u001b[0m\u001b[0;32m    864\u001b[0m         )\n\u001b[0;32m    865\u001b[0m \u001b[1;33m\u001b[0m\u001b[0m\n",
      "\u001b[1;32m~\\miniconda3\\lib\\site-packages\\ipykernel\\kernelbase.py\u001b[0m in \u001b[0;36m_input_request\u001b[1;34m(self, prompt, ident, parent, password)\u001b[0m\n\u001b[0;32m    902\u001b[0m             \u001b[1;32mexcept\u001b[0m \u001b[0mKeyboardInterrupt\u001b[0m\u001b[1;33m:\u001b[0m\u001b[1;33m\u001b[0m\u001b[1;33m\u001b[0m\u001b[0m\n\u001b[0;32m    903\u001b[0m                 \u001b[1;31m# re-raise KeyboardInterrupt, to truncate traceback\u001b[0m\u001b[1;33m\u001b[0m\u001b[1;33m\u001b[0m\u001b[1;33m\u001b[0m\u001b[0m\n\u001b[1;32m--> 904\u001b[1;33m                 \u001b[1;32mraise\u001b[0m \u001b[0mKeyboardInterrupt\u001b[0m\u001b[1;33m(\u001b[0m\u001b[1;34m\"Interrupted by user\"\u001b[0m\u001b[1;33m)\u001b[0m \u001b[1;32mfrom\u001b[0m \u001b[1;32mNone\u001b[0m\u001b[1;33m\u001b[0m\u001b[1;33m\u001b[0m\u001b[0m\n\u001b[0m\u001b[0;32m    905\u001b[0m             \u001b[1;32mexcept\u001b[0m \u001b[0mException\u001b[0m \u001b[1;32mas\u001b[0m \u001b[0me\u001b[0m\u001b[1;33m:\u001b[0m\u001b[1;33m\u001b[0m\u001b[1;33m\u001b[0m\u001b[0m\n\u001b[0;32m    906\u001b[0m                 \u001b[0mself\u001b[0m\u001b[1;33m.\u001b[0m\u001b[0mlog\u001b[0m\u001b[1;33m.\u001b[0m\u001b[0mwarning\u001b[0m\u001b[1;33m(\u001b[0m\u001b[1;34m\"Invalid Message:\"\u001b[0m\u001b[1;33m,\u001b[0m \u001b[0mexc_info\u001b[0m\u001b[1;33m=\u001b[0m\u001b[1;32mTrue\u001b[0m\u001b[1;33m)\u001b[0m\u001b[1;33m\u001b[0m\u001b[1;33m\u001b[0m\u001b[0m\n",
      "\u001b[1;31mKeyboardInterrupt\u001b[0m: Interrupted by user"
     ]
    }
   ],
   "source": [
    "start_city = input(\"Where do you want to start your trip?: \")\n",
    "target_city = input(\"Where do you want to end your trip?: \")"
   ]
  },
  {
   "cell_type": "code",
   "execution_count": 5,
   "id": "63eb891e",
   "metadata": {},
   "outputs": [],
   "source": [
    "cities_list = [ 'Atlanta', 'Baltimore', 'Boston', 'Charlotte', 'Dallas', 'Denver', 'Miami', 'Minneapolis', 'Orlando', \n",
    "               'Sacramento', 'Tampa', 'Washington' ]"
   ]
  },
  {
   "cell_type": "code",
   "execution_count": 2,
   "id": "863be28e",
   "metadata": {},
   "outputs": [
    {
     "name": "stdout",
     "output_type": "stream",
     "text": [
      "\n",
      "Enter the city name from where to want to start trip: Paris\n",
      "Enter the city name where you want to reach at: Orlando\n",
      "\n",
      "Error please enter a valid city\n",
      "Enter the city name from where to want to start trip: Atlanta\n",
      "Enter the city name where you want to reach at: Orlando\n"
     ]
    }
   ],
   "source": [
    "start_city = input(\"\\nEnter the city name from where to want to start trip: \")\n",
    "target_city = input(\"Enter the city name where you want to reach at: \")\n",
    "while (start_city not in cities_list):\n",
    "    print (\"\\nError please enter a valid city\")\n",
    "    start_city = input(\"Enter the city name from where to want to start trip: \")\n",
    "    target_city = input(\"Enter the city name where you want to reach at: \")\n",
    "while (target_city not in cities_list):\n",
    "    print (\"\\nError please enter a valid city\")\n",
    "    start_city = input(\"Enter the city name from where to want to start trip: \")\n",
    "    target_city = input(\"Enter the city name where you want to reach at: \")"
   ]
  },
  {
   "cell_type": "code",
   "execution_count": 3,
   "id": "5a0cafb5",
   "metadata": {},
   "outputs": [
    {
     "name": "stdout",
     "output_type": "stream",
     "text": [
      "Problem 3\n"
     ]
    }
   ],
   "source": [
    "print( 'Problem 3' )"
   ]
  },
  {
   "cell_type": "markdown",
   "id": "1139d230",
   "metadata": {},
   "source": [
    "#### From Webcourses/Files/Midterm get file “distances_midterm.dat”. This file contains the total distance on the route between city A and B. If you open the file,you will see thatit contains a 12 x 12 table (as we have 12 cities we can travel between)with the distances between cities. The ithline and ithcolumn area given city, so that the diagonal is0s (as the distance from A to A is zero). The distance between Atlanta and Baltimore, e.g.,is 678 miles sothatline 0 (#5 of the file) column 1 of your data (i.e., the distance fromAtlantato Baltimore)is 678(note thatthe same is true for line 1[-Baltimore], column 0[-Atlanta]as this is the distance fromBaltimore to Atlanta).Use the appropriate numpy function to read the data intovariable travel_data."
   ]
  },
  {
   "cell_type": "code",
   "execution_count": 7,
   "id": "1bf32fbc",
   "metadata": {},
   "outputs": [],
   "source": [
    "import numpy as np\n",
    "import math as math"
   ]
  },
  {
   "cell_type": "code",
   "execution_count": 8,
   "id": "5b3f017e",
   "metadata": {},
   "outputs": [],
   "source": [
    "travel_data = np.array(np.loadtxt( \"distances_midterm.dat\" ))"
   ]
  },
  {
   "cell_type": "code",
   "execution_count": null,
   "id": "6b52f4da",
   "metadata": {},
   "outputs": [],
   "source": [
    "first_city = input(\"\\nEnter the city name from where to want to start trip: \")\n",
    "second_city = input(\"Enter the city name where you want to reach at: \")\n",
    "while (start_city not in cities_list):\n",
    "    print (\"\\nError please enter a valid city\")\n",
    "    first_city = input(\"Enter the city name from where to want to start trip: \")\n",
    "    second_city = input(\"Enter the city name where you want to reach at: \")\n",
    "while (target_city not in cities_list):\n",
    "    print (\"\\nError please enter a valid city\")\n",
    "    first_city = input(\"Enter the city name from where to want to start trip: \")\n",
    "    second_city = input(\"Enter the city name where you want to reach at: \")"
   ]
  },
  {
   "cell_type": "code",
   "execution_count": 5,
   "id": "490190b8",
   "metadata": {},
   "outputs": [
    {
     "name": "stdout",
     "output_type": "stream",
     "text": [
      "Baltimore Atlanta\n"
     ]
    }
   ],
   "source": [
    "print( first_city, second_city )"
   ]
  },
  {
   "cell_type": "code",
   "execution_count": 7,
   "id": "203b1832",
   "metadata": {},
   "outputs": [
    {
     "name": "stdout",
     "output_type": "stream",
     "text": [
      "Between first city and second city you will travel 84 miles.\n"
     ]
    }
   ],
   "source": [
    "location1 = (cities_list.index(first_city))\n",
    "location2 = (cities_list.index(second_city))\n",
    "miles = (int (travel_data[location1, location2]))\n",
    "print(\"Between first city and second city you will travel\", miles, \"miles.\")"
   ]
  },
  {
   "cell_type": "code",
   "execution_count": 26,
   "id": "49913520",
   "metadata": {},
   "outputs": [
    {
     "name": "stdout",
     "output_type": "stream",
     "text": [
      "Your trip from first_city to second_city will take 0 days, 1 hours and 7 minutes.\n"
     ]
    }
   ],
   "source": [
    "avgSpeed = 75 #mph\n",
    "hours = miles/avgSpeed\n",
    "d = 0 #days\n",
    "h = 0 #hours\n",
    "m = 0 #minutes\n",
    "if (hours >= 24):\n",
    "    d = int (hours/24)\n",
    "    hours = hours % 24\n",
    "    h = int (hours)\n",
    "    hours = hours % 1\n",
    "    m = int (60 * hours)\n",
    "else:\n",
    "    h = int (hours)\n",
    "    hours = hours % 1\n",
    "    m = int (60 * hours)\n",
    "\n",
    "print(\"Your trip from first_city to second_city will take\", d, \"days,\", h, \"hours and\", m, \"minutes.\")"
   ]
  },
  {
   "cell_type": "code",
   "execution_count": 25,
   "id": "6dc33c44",
   "metadata": {},
   "outputs": [
    {
     "name": "stdout",
     "output_type": "stream",
     "text": [
      "Between first city and second city you will travel 84 miles.\n",
      "Your trip from first_city to second_city will take 0 days, 1 hours and 7 minutes.\n"
     ]
    }
   ],
   "source": [
    "loc = [first_city, second_city]\n",
    "distanceTimeCalc(loc)"
   ]
  },
  {
   "cell_type": "code",
   "execution_count": 12,
   "id": "bee3cb63",
   "metadata": {},
   "outputs": [],
   "source": [
    "def distanceTimeCalc(locations):\n",
    "    miles = (int (travel_data[cities_list.index(locations[0]), cities_list.index(locations[1])]))\n",
    "    print(\"Between first city and second city you will travel\", miles, \"miles.\")\n",
    "    avgSpeed = 75 #mph\n",
    "    hours = miles/avgSpeed\n",
    "    d = 0 #days\n",
    "    h = 0 #hours\n",
    "    m = 0 #minutes\n",
    "    if (hours >= 24):\n",
    "        d = int (hours/24)\n",
    "        hours = hours % 24\n",
    "        h = int (hours)\n",
    "        hours = hours % 1\n",
    "        m = int (60 * hours)\n",
    "    else:\n",
    "        h = int (hours)\n",
    "        hours = hours % 1\n",
    "        m = int (60 * hours)\n",
    "    print(\"Your trip from first_city to second_city will take\", d, \"days,\", h, \"hours and\", m, \"minutes.\")"
   ]
  },
  {
   "cell_type": "code",
   "execution_count": 3,
   "id": "6f602369",
   "metadata": {},
   "outputs": [
    {
     "name": "stdout",
     "output_type": "stream",
     "text": [
      "\n",
      "Enter the city name from where to want to start trip: Tampa\n",
      "Enter the city name where you want to reach at: Orlando\n"
     ]
    }
   ],
   "source": [
    "start_city = input(\"\\nEnter the city name from where to want to start trip: \")\n",
    "target_city = input(\"Enter the city name where you want to reach at: \")\n",
    "while (start_city not in cities_list):\n",
    "    print (\"\\nError please enter a valid city\")\n",
    "    start_city = input(\"Enter the city name from where to want to start trip: \")\n",
    "    print (\"\\nError please enter a valid city\")\n",
    "    target_city = input(\"Enter the city name where you want to reach at: \")\n",
    "while (target_city not in cities_list):\n",
    "    print (\"\\nError please enter a valid city\")\n",
    "    start_city = input(\"Enter the city name from where to want to start trip: \")\n",
    "    print (\"\\nError please enter a valid city\")\n",
    "    target_city = input(\"Enter the city name where you want to reach at: \")"
   ]
  },
  {
   "cell_type": "code",
   "execution_count": 15,
   "id": "e047fe7e",
   "metadata": {},
   "outputs": [
    {
     "name": "stdout",
     "output_type": "stream",
     "text": [
      "Between first city and second city you will travel 84 miles.\n",
      "Your trip from first_city to second_city will take 0 days, 1 hours and 7 minutes.\n"
     ]
    }
   ],
   "source": [
    "locations = [start_city, target_city]\n",
    "distanceTimeCalc(locations)"
   ]
  },
  {
   "cell_type": "code",
   "execution_count": 16,
   "id": "66000e3b",
   "metadata": {},
   "outputs": [
    {
     "name": "stdout",
     "output_type": "stream",
     "text": [
      "Between Start_city and target_city you will travel 84 miles.\n"
     ]
    }
   ],
   "source": [
    "first_city = (cities_list.index(start_city))\n",
    "second_city = (cities_list.index(target_city))\n",
    "miles = (int (travel_data[first_city, second_city]))\n",
    "print(\"Between Start_city and target_city you will travel\", miles, \"miles.\")"
   ]
  },
  {
   "cell_type": "code",
   "execution_count": 27,
   "id": "485a45e6",
   "metadata": {},
   "outputs": [
    {
     "name": "stdout",
     "output_type": "stream",
     "text": [
      "Problem 4:\n"
     ]
    }
   ],
   "source": [
    "print(\"Problem 4:\")"
   ]
  },
  {
   "cell_type": "code",
   "execution_count": null,
   "id": "24fae714",
   "metadata": {},
   "outputs": [],
   "source": [
    "first_city = input(\"Where do you want to start your trip?: \")\n",
    "while (first_city not in cities_list):\n",
    "    print (\"\\nError please enter a valid city\")\n",
    "    first_city = input(\"Where do you want to start your trip?: \")\n",
    "pitstop_city = input(\"Where do you want to pitspot your trip?: \")\n",
    "while (pitstop_city not in cities_list):\n",
    "    print (\"\\nError please enter a valid city\")\n",
    "    pitstop_city = input(\"Where do you want to pitspot your trip?: \")\n",
    "second_city = input(\"Where do you want to end your trip?: \")\n",
    "while(second_city not in cities_list):\n",
    "    print (\"\\nError please enter a valid city\")\n",
    "    second_city = input(\"Where do you want to end your trip?: \")"
   ]
  },
  {
   "cell_type": "code",
   "execution_count": 40,
   "id": "db814737",
   "metadata": {},
   "outputs": [
    {
     "name": "stdout",
     "output_type": "stream",
     "text": [
      "Between first city and second city you will travel 3005 miles.\n",
      "Your trip from first_city to second_city will take 1 days, 16 hours and 4 minutes.\n",
      "You will need to make 5 stops for leg 1 and 3 stops for leg 2.\n",
      "You will pay $ 307.2 for the trip in gas.\n"
     ]
    }
   ],
   "source": [
    "loc = [first_city, pitstop_city,second_city]\n",
    "distanceTimeCalc2(loc)"
   ]
  },
  {
   "cell_type": "code",
   "execution_count": 51,
   "id": "72451283",
   "metadata": {},
   "outputs": [],
   "source": [
    "def distanceTimeCalc2(locations):\n",
    "    miles1 = (int (travel_data[cities_list.index(locations[0]), cities_list.index(locations[1])]))\n",
    "    miles2 = (int (travel_data[cities_list.index(locations[1]), cities_list.index(locations[2])]))\n",
    "    miles = miles1 + miles2\n",
    "    mpg = 24.9\n",
    "    fuel = 16 #gallons\n",
    "    print(\"Between first city and second city you will travel\", miles, \"miles.\")\n",
    "    avgSpeed = 75 #mph\n",
    "    hours = miles/avgSpeed\n",
    "    d = 0 #days\n",
    "    h = 0 #hours\n",
    "    m = 0 #minutes\n",
    "    if (hours >= 24):\n",
    "        d = int (hours/24)\n",
    "        hours = hours % 24\n",
    "        h = int (hours)\n",
    "        hours = hours % 1\n",
    "        m = int (60 * hours)\n",
    "    else:\n",
    "        h = int (hours)\n",
    "        hours = hours % 1\n",
    "        m = int (60 * hours)\n",
    "    print(\"Your trip from first_city to second_city will take\", d, \"days,\", h, \"hours and\", m, \"minutes.\")\n",
    "    \n",
    "    rangex = mpg * fuel\n",
    "    costperfill = 16*2.4\n",
    "    refill1 = math.ceil(miles1/rangex)\n",
    "    refill2 = math.ceil(miles2/rangex)\n",
    "    print(\"You will need to make\",refill1, \"stops for leg 1 and\", refill2, \"stops for leg 2.\")\n",
    "    print(\"You will pay $\", refill1*costperfill + refill2*costperfill, \"for the trip in gas.\")\n",
    "    "
   ]
  },
  {
   "cell_type": "code",
   "execution_count": 1,
   "id": "2bb94686",
   "metadata": {},
   "outputs": [
    {
     "name": "stdout",
     "output_type": "stream",
     "text": [
      "Problem 5\n"
     ]
    }
   ],
   "source": [
    "print('Problem 5')"
   ]
  },
  {
   "cell_type": "code",
   "execution_count": 7,
   "id": "d91247c9",
   "metadata": {},
   "outputs": [
    {
     "name": "stdout",
     "output_type": "stream",
     "text": [
      "Where do you want to start your trip?: Baltimore\n",
      "Where do you want to end your trip?: Orlando\n"
     ]
    }
   ],
   "source": [
    "first_city = input(\"Where do you want to start your trip?: \")\n",
    "while (first_city not in cities_list):\n",
    "    print (\"\\nError please enter a valid city\")\n",
    "    first_city = input(\"Where do you want to start your trip?: \")\n",
    "second_city = input(\"Where do you want to end your trip?: \")\n",
    "while(second_city not in cities_list):\n",
    "    print (\"\\nError please enter a valid city\")\n",
    "    second_city = input(\"Where do you want to end your trip?: \")"
   ]
  },
  {
   "cell_type": "code",
   "execution_count": 9,
   "id": "c4d77dc0",
   "metadata": {},
   "outputs": [
    {
     "name": "stdout",
     "output_type": "stream",
     "text": [
      "Your recommended pitstop is Washington\n",
      "Between first city and second city you will travel 885 miles.\n",
      "Your trip from first_city to second_city will take 0 days, 11 hours and 48 minutes.\n",
      "You will need to make 3 stops.\n",
      "You will pay $ 115.19999999999999 for the trip in gas.\n"
     ]
    }
   ],
   "source": [
    "loc = [first_city, second_city]\n",
    "distanceTimeCalc3(loc)"
   ]
  },
  {
   "cell_type": "code",
   "execution_count": 8,
   "id": "1bc1225c",
   "metadata": {},
   "outputs": [],
   "source": [
    "def distanceTimeCalc3(locations):\n",
    "    min_total = 10000000;\n",
    "    for i in range(12):\n",
    "        if (i != (cities_list.index(locations[0]) and cities_list.index(locations[1]))):\n",
    "            miles1 = (int (travel_data[cities_list.index(locations[0]), i]))\n",
    "            miles2 = (int (travel_data[i, cities_list.index(locations[1])]))\n",
    "            temp = miles1 + miles2\n",
    "\n",
    "            if (temp < min_total):\n",
    "                min_total = temp;\n",
    "                min_total_index = i;\n",
    "    \n",
    "    print(\"Your recommended pitstop is\", cities_list[min_total_index])\n",
    "    print(\"Between first city and second city you will travel\", min_total, \"miles.\")\n",
    "    avgSpeed = 75 #mph\n",
    "    mpg = 24.9\n",
    "    fuel = 16\n",
    "    hours = min_total/avgSpeed\n",
    "    d = 0 #days\n",
    "    h = 0 #hours\n",
    "    m = 0 #minutes\n",
    "    if (hours >= 24):\n",
    "        d = int (hours/24)\n",
    "        hours = hours % 24\n",
    "        h = int (hours)\n",
    "        hours = hours % 1\n",
    "        m = int (60 * hours)\n",
    "    else:\n",
    "        h = int (hours)\n",
    "        hours = hours % 1\n",
    "        m = int (60 * hours)\n",
    "    print(\"Your trip from first_city to second_city will take\", d, \"days,\", h, \"hours and\", m, \"minutes.\")\n",
    "    \n",
    "    rangex = mpg * fuel\n",
    "    costperfill = 16*2.4\n",
    "    refill1 = math.ceil(min_total/rangex)\n",
    "    print(\"You will need to make\",refill1, \"stops.\")\n",
    "    print(\"You will pay $\", refill1*costperfill, \"for the trip in gas.\")"
   ]
  }
 ],
 "metadata": {
  "kernelspec": {
   "display_name": "Python 3",
   "language": "python",
   "name": "python3"
  },
  "language_info": {
   "codemirror_mode": {
    "name": "ipython",
    "version": 3
   },
   "file_extension": ".py",
   "mimetype": "text/x-python",
   "name": "python",
   "nbconvert_exporter": "python",
   "pygments_lexer": "ipython3",
   "version": "3.7.11"
  }
 },
 "nbformat": 4,
 "nbformat_minor": 5
}
