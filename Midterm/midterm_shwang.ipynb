{
 "cells": [
  {
   "cell_type": "code",
   "execution_count": 1,
   "id": "63eb891e",
   "metadata": {},
   "outputs": [],
   "source": [
    "cities_list = [ 'Atlanta', 'Baltimore', 'Boston', 'Charlotte', 'Dallas', 'Denver', 'Miami', 'Minneapolis', 'Orlando', \n",
    "               'Sacramento', 'Tampa', 'Washington' ]"
   ]
  },
  {
   "cell_type": "code",
   "execution_count": 2,
   "id": "5665818b",
   "metadata": {},
   "outputs": [
    {
     "name": "stdout",
     "output_type": "stream",
     "text": [
      "['Atlanta', 'Baltimore', 'Boston', 'Charlotte', 'Dallas', 'Denver', 'Miami', 'Minneapolis', 'Orlando', 'Sacramento', 'Tampa', 'Washington']\n"
     ]
    }
   ],
   "source": [
    "print(cities_list)"
   ]
  },
  {
   "cell_type": "code",
   "execution_count": null,
   "id": "56674e9f",
   "metadata": {},
   "outputs": [],
   "source": [
    "start_city = input(\"Where do you want to start your trip?: \")\n",
    "target_city = input(\"Where do you want to end your trip?: \")"
   ]
  },
  {
   "cell_type": "code",
   "execution_count": 3,
   "id": "c6efc44d",
   "metadata": {},
   "outputs": [
    {
     "name": "stdout",
     "output_type": "stream",
     "text": [
      "\n",
      "Enter the city name from where to want to start trip: Paris\n",
      "\n",
      "Error please enter a valid city\n",
      "Enter the city name from where to want to start trip: Boston\n",
      "Enter the city name where you want to reach at: Orlando\n"
     ]
    }
   ],
   "source": [
    "start_city = input(\"\\nEnter the city name from where to want to start trip: \")\n",
    "while (start_city not in cities_list):\n",
    "    print (\"\\nError please enter a valid city\")\n",
    "    start_city = input(\"Enter the city name from where to want to start trip: \")\n",
    "target_city = input(\"Enter the city name where you want to reach at: \")\n",
    "while (target_city not in cities_list):\n",
    "    print (\"\\nError please enter a valid city\")\n",
    "    target_city = input(\"Enter the city name where you want to reach at: \")"
   ]
  },
  {
   "cell_type": "code",
   "execution_count": null,
   "id": "d5fd0057",
   "metadata": {},
   "outputs": [],
   "source": [
    "print(\"Thank you! For using our services\")"
   ]
  },
  {
   "cell_type": "code",
   "execution_count": null,
   "id": "cfe7846b",
   "metadata": {},
   "outputs": [],
   "source": [
    "first_city = cities_list.index(start_city)\n",
    "second_city = cities_list.index(target_city)\n",
    "print(first_city)\n",
    "print(second_city)"
   ]
  },
  {
   "cell_type": "code",
   "execution_count": null,
   "id": "5a0cafb5",
   "metadata": {},
   "outputs": [],
   "source": [
    "print( 'Problem 3' )"
   ]
  },
  {
   "cell_type": "markdown",
   "id": "1139d230",
   "metadata": {},
   "source": [
    "#### From Webcourses/Files/Midterm get file “distances_midterm.dat”. This file contains the total distance on the route between city A and B. If you open the file,you will see thatit contains a 12 x 12 table (as we have 12 cities we can travel between)with the distances between cities. The ithline and ithcolumn area given city, so that the diagonal is0s (as the distance from A to A is zero). The distance between Atlanta and Baltimore, e.g.,is 678 miles sothatline 0 (#5 of the file) column 1 of your data (i.e., the distance fromAtlantato Baltimore)is 678(note thatthe same is true for line 1[-Baltimore], column 0[-Atlanta]as this is the distance fromBaltimore to Atlanta).Use the appropriate numpy function to read the data intovariable travel_data."
   ]
  },
  {
   "cell_type": "code",
   "execution_count": 3,
   "id": "1bf32fbc",
   "metadata": {},
   "outputs": [],
   "source": [
    "import numpy as np\n",
    "import math as math"
   ]
  },
  {
   "cell_type": "code",
   "execution_count": 15,
   "id": "8b589e86",
   "metadata": {},
   "outputs": [
    {
     "ename": "IndentationError",
     "evalue": "unexpected indent (<ipython-input-15-a8772b4042d8>, line 2)",
     "output_type": "error",
     "traceback": [
      "\u001b[1;36m  File \u001b[1;32m\"<ipython-input-15-a8772b4042d8>\"\u001b[1;36m, line \u001b[1;32m2\u001b[0m\n\u001b[1;33m    [678, 0, 400, 422, 1366, 1633, 1103, 1109, 983, 2730, 941, 39],\u001b[0m\n\u001b[1;37m    ^\u001b[0m\n\u001b[1;31mIndentationError\u001b[0m\u001b[1;31m:\u001b[0m unexpected indent\n"
     ]
    }
   ],
   "source": [
    "# travel_data = np.array([[ 0, 678, 1094, 245, 782, 1402, 662, 1127, 438, 2467, 467, 638],\n",
    "                       [678, 0, 400, 422, 1366, 1633, 1103, 1109, 983, 2730, 941, 39],\n",
    "                       [1094, 400, 0, 839, 1761, 1969, 1497, 1390, 1381, 3008, 1341, 439],\n",
    "                       [245, 422, 839, 0, 1026, 1562, 735, 1180, 524, 2676, 580, 399],\n",
    "                       [782, 1366, 1761, 1026, 0, 785, 1313, 991, 1092, 1726, 1107, 1328],\n",
    "                       [1402, 1633, 1969, 1562, 785, 0, 2064, 914, 1843, 1162, 1857, 1661],\n",
    "                       [662, 1103, 1497, 735, 1313, 2064, 0, 1773, 237, 3039, 270, 1158],\n",
    "                       [1127, 1109, 1390, 1180, 991, 914, 1773, 0, 1568, 1887, 1583, 1108],\n",
    "                       [438, 983, 1381, 524, 1092, 1843, 237, 1568, 0, 2810, 84, 846],\n",
    "                       [2467, 2730, 3008, 2676, 1726, 1162, 3039, 1887, 2810, 0, 2832, 2728],\n",
    "                       [467, 941, 1341, 580, 1107, 1857, 270, 1583, 84, 2832, 0, 903],\n",
    "                       [638, 39, 439, 390, 1328, 1661, 1158, 1108, 846, 2728, 903, 0]])\n",
    "\n",
    "# print(travel_data) "
   ]
  },
  {
   "cell_type": "code",
   "execution_count": 4,
   "id": "5b3f017e",
   "metadata": {},
   "outputs": [],
   "source": [
    "travel_data = np.array(np.loadtxt( \"distances_midterm.dat\" ))"
   ]
  },
  {
   "cell_type": "code",
   "execution_count": null,
   "id": "69ab801c",
   "metadata": {},
   "outputs": [],
   "source": []
  },
  {
   "cell_type": "code",
   "execution_count": 5,
   "id": "db62d513",
   "metadata": {},
   "outputs": [
    {
     "name": "stdout",
     "output_type": "stream",
     "text": [
      "Where do you want to start your trip?: Tampa\n",
      "Where do you want to end your trip?: Orlando\n"
     ]
    }
   ],
   "source": [
    "first_city = input(\"Where do you want to start your trip?: \")\n",
    "while (first_city not in cities_list):\n",
    "    print (\"\\nError please enter a valid city\")\n",
    "    first_city = input(\"Where do you want to start your trip?: \")\n",
    "second_city = input(\"Where do you want to end your trip?: \")\n",
    "while(second_city not in cities_list):\n",
    "    print (\"\\nError please enter a valid city\")\n",
    "    second_city = input(\"Where do you want to end your trip?: \")"
   ]
  },
  {
   "cell_type": "code",
   "execution_count": 6,
   "id": "490190b8",
   "metadata": {},
   "outputs": [
    {
     "name": "stdout",
     "output_type": "stream",
     "text": [
      "Tampa Orlando\n"
     ]
    }
   ],
   "source": [
    "print( first_city, second_city )"
   ]
  },
  {
   "cell_type": "code",
   "execution_count": 7,
   "id": "203b1832",
   "metadata": {},
   "outputs": [
    {
     "name": "stdout",
     "output_type": "stream",
     "text": [
      "Between first city and second city you will travel 84 miles.\n"
     ]
    }
   ],
   "source": [
    "location1 = (cities_list.index(first_city))\n",
    "location2 = (cities_list.index(second_city))\n",
    "miles = (int (travel_data[location1, location2]))\n",
    "print(\"Between first city and second city you will travel\", miles, \"miles.\")"
   ]
  },
  {
   "cell_type": "code",
   "execution_count": 26,
   "id": "49913520",
   "metadata": {},
   "outputs": [
    {
     "name": "stdout",
     "output_type": "stream",
     "text": [
      "Your trip from first_city to second_city will take 0 days, 1 hours and 7 minutes.\n"
     ]
    }
   ],
   "source": [
    "avgSpeed = 75 #mph\n",
    "hours = miles/avgSpeed\n",
    "d = 0 #days\n",
    "h = 0 #hours\n",
    "m = 0 #minutes\n",
    "if (hours >= 24):\n",
    "    d = int (hours/24)\n",
    "    hours = hours % 24\n",
    "    h = int (hours)\n",
    "    hours = hours % 1\n",
    "    m = int (60 * hours)\n",
    "else:\n",
    "    h = int (hours)\n",
    "    hours = hours % 1\n",
    "    m = int (60 * hours)\n",
    "\n",
    "print(\"Your trip from first_city to second_city will take\", d, \"days,\", h, \"hours and\", m, \"minutes.\")"
   ]
  },
  {
   "cell_type": "code",
   "execution_count": 25,
   "id": "d0d02f7b",
   "metadata": {},
   "outputs": [
    {
     "name": "stdout",
     "output_type": "stream",
     "text": [
      "Between first city and second city you will travel 84 miles.\n",
      "Your trip from first_city to second_city will take 0 days, 1 hours and 7 minutes.\n"
     ]
    }
   ],
   "source": [
    "loc = [first_city, second_city]\n",
    "distanceTimeCalc(loc)"
   ]
  },
  {
   "cell_type": "code",
   "execution_count": 22,
   "id": "65c8bb47",
   "metadata": {},
   "outputs": [],
   "source": [
    "def distanceTimeCalc(locations):\n",
    "    miles = (int (travel_data[cities_list.index(locations[0]), cities_list.index(locations[1])]))\n",
    "    print(\"Between first city and second city you will travel\", miles, \"miles.\")\n",
    "    avgSpeed = 75 #mph\n",
    "    hours = miles/avgSpeed\n",
    "    d = 0 #days\n",
    "    h = 0 #hours\n",
    "    m = 0 #minutes\n",
    "    if (hours >= 24):\n",
    "        d = int (hours/24)\n",
    "        hours = hours % 24\n",
    "        h = int (hours)\n",
    "        hours = hours % 1\n",
    "        m = int (60 * hours)\n",
    "    else:\n",
    "        h = int (hours)\n",
    "        hours = hours % 1\n",
    "        m = int (60 * hours)\n",
    "    print(\"Your trip from first_city to second_city will take\", d, \"days,\", h, \"hours and\", m, \"minutes.\")"
   ]
  },
  {
   "cell_type": "code",
   "execution_count": 27,
   "id": "69a1feaa",
   "metadata": {},
   "outputs": [
    {
     "name": "stdout",
     "output_type": "stream",
     "text": [
      "Problem 4:\n"
     ]
    }
   ],
   "source": [
    "print(\"Problem 4:\")"
   ]
  },
  {
   "cell_type": "code",
   "execution_count": 6,
   "id": "74218a89",
   "metadata": {},
   "outputs": [
    {
     "name": "stdout",
     "output_type": "stream",
     "text": [
      "Where do you want to start your trip?: Orlando\n",
      "Where do you want to pitspot your trip?: Denver\n",
      "Where do you want to end your trip?: Sacramento\n"
     ]
    }
   ],
   "source": [
    "first_city = input(\"Where do you want to start your trip?: \")\n",
    "while (first_city not in cities_list):\n",
    "    print (\"\\nError please enter a valid city\")\n",
    "    first_city = input(\"Where do you want to start your trip?: \")\n",
    "pitstop_city = input(\"Where do you want to pitspot your trip?: \")\n",
    "while (pitstop_city not in cities_list):\n",
    "    print (\"\\nError please enter a valid city\")\n",
    "    pitstop_city = input(\"Where do you want to pitspot your trip?: \")\n",
    "second_city = input(\"Where do you want to end your trip?: \")\n",
    "while(second_city not in cities_list):\n",
    "    print (\"\\nError please enter a valid city\")\n",
    "    second_city = input(\"Where do you want to end your trip?: \")"
   ]
  },
  {
   "cell_type": "code",
   "execution_count": 40,
   "id": "72c5f5e3",
   "metadata": {},
   "outputs": [
    {
     "name": "stdout",
     "output_type": "stream",
     "text": [
      "Between first city and second city you will travel 3005 miles.\n",
      "Your trip from first_city to second_city will take 1 days, 16 hours and 4 minutes.\n",
      "You will need to make 5 stops for leg 1 and 3 stops for leg 2.\n",
      "You will pay $ 307.2 for the trip in gas.\n"
     ]
    }
   ],
   "source": [
    "loc = [first_city, pitstop_city,second_city]\n",
    "distanceTimeCalc2(loc)"
   ]
  },
  {
   "cell_type": "code",
   "execution_count": 51,
   "id": "d09b3399",
   "metadata": {},
   "outputs": [],
   "source": [
    "def distanceTimeCalc2(locations):\n",
    "    miles1 = (int (travel_data[cities_list.index(locations[0]), cities_list.index(locations[1])]))\n",
    "    miles2 = (int (travel_data[cities_list.index(locations[1]), cities_list.index(locations[2])]))\n",
    "    miles = miles1 + miles2\n",
    "    mpg = 24.9\n",
    "    fuel = 16 #gallons\n",
    "    print(\"Between first city and second city you will travel\", miles, \"miles.\")\n",
    "    avgSpeed = 75 #mph\n",
    "    hours = miles/avgSpeed\n",
    "    d = 0 #days\n",
    "    h = 0 #hours\n",
    "    m = 0 #minutes\n",
    "    if (hours >= 24):\n",
    "        d = int (hours/24)\n",
    "        hours = hours % 24\n",
    "        h = int (hours)\n",
    "        hours = hours % 1\n",
    "        m = int (60 * hours)\n",
    "    else:\n",
    "        h = int (hours)\n",
    "        hours = hours % 1\n",
    "        m = int (60 * hours)\n",
    "    print(\"Your trip from first_city to second_city will take\", d, \"days,\", h, \"hours and\", m, \"minutes.\")\n",
    "    \n",
    "    rangex = mpg * fuel\n",
    "    costperfill = 16*2.4\n",
    "    refill1 = math.ceil(miles1/rangex)\n",
    "    refill2 = math.ceil(miles2/rangex)\n",
    "    print(\"You will need to make\",refill1, \"stops for leg 1 and\", refill2, \"stops for leg 2.\")\n",
    "    print(\"You will pay $\", refill1*costperfill + refill2*costperfill, \"for the trip in gas.\")\n",
    "    "
   ]
  },
  {
   "cell_type": "code",
   "execution_count": 14,
   "id": "f1713731",
   "metadata": {},
   "outputs": [
    {
     "ename": "SyntaxError",
     "evalue": "invalid syntax (<ipython-input-14-af7e46e7c07c>, line 3)",
     "output_type": "error",
     "traceback": [
      "\u001b[1;36m  File \u001b[1;32m\"<ipython-input-14-af7e46e7c07c>\"\u001b[1;36m, line \u001b[1;32m3\u001b[0m\n\u001b[1;33m    int f = 6\u001b[0m\n\u001b[1;37m        ^\u001b[0m\n\u001b[1;31mSyntaxError\u001b[0m\u001b[1;31m:\u001b[0m invalid syntax\n"
     ]
    }
   ],
   "source": [
    "print(\"Problem 5:\")"
   ]
  },
  {
   "cell_type": "code",
   "execution_count": 7,
   "id": "1ff39e0d",
   "metadata": {},
   "outputs": [
    {
     "name": "stdout",
     "output_type": "stream",
     "text": [
      "Where do you want to start your trip?: Baltimore\n",
      "Where do you want to end your trip?: Orlando\n"
     ]
    }
   ],
   "source": [
    "first_city = input(\"Where do you want to start your trip?: \")\n",
    "while (first_city not in cities_list):\n",
    "    print (\"\\nError please enter a valid city\")\n",
    "    first_city = input(\"Where do you want to start your trip?: \")\n",
    "second_city = input(\"Where do you want to end your trip?: \")\n",
    "while(second_city not in cities_list):\n",
    "    print (\"\\nError please enter a valid city\")\n",
    "    second_city = input(\"Where do you want to end your trip?: \")"
   ]
  },
  {
   "cell_type": "code",
   "execution_count": 9,
   "id": "abfa7e75",
   "metadata": {},
   "outputs": [
    {
     "name": "stdout",
     "output_type": "stream",
     "text": [
      "Your recommended pitstop is Washington\n",
      "Between first city and second city you will travel 885 miles.\n",
      "Your trip from first_city to second_city will take 0 days, 11 hours and 48 minutes.\n",
      "You will need to make 3 stops.\n",
      "You will pay $ 115.19999999999999 for the trip in gas.\n"
     ]
    }
   ],
   "source": [
    "loc = [first_city, second_city]\n",
    "distanceTimeCalc3(loc)"
   ]
  },
  {
   "cell_type": "code",
   "execution_count": 8,
   "id": "f8721ff6",
   "metadata": {},
   "outputs": [],
   "source": [
    "def distanceTimeCalc3(locations):\n",
    "    min_total = 10000000;\n",
    "    for i in range(12):\n",
    "        if (i != (cities_list.index(locations[0]) and cities_list.index(locations[1]))):\n",
    "            miles1 = (int (travel_data[cities_list.index(locations[0]), i]))\n",
    "            miles2 = (int (travel_data[i, cities_list.index(locations[1])]))\n",
    "            temp = miles1 + miles2\n",
    "\n",
    "            if (temp < min_total):\n",
    "                min_total = temp;\n",
    "                min_total_index = i;\n",
    "    \n",
    "    print(\"Your recommended pitstop is\", cities_list[min_total_index])\n",
    "    print(\"Between first city and second city you will travel\", min_total, \"miles.\")\n",
    "    avgSpeed = 75 #mph\n",
    "    mpg = 24.9\n",
    "    fuel = 16\n",
    "    hours = min_total/avgSpeed\n",
    "    d = 0 #days\n",
    "    h = 0 #hours\n",
    "    m = 0 #minutes\n",
    "    if (hours >= 24):\n",
    "        d = int (hours/24)\n",
    "        hours = hours % 24\n",
    "        h = int (hours)\n",
    "        hours = hours % 1\n",
    "        m = int (60 * hours)\n",
    "    else:\n",
    "        h = int (hours)\n",
    "        hours = hours % 1\n",
    "        m = int (60 * hours)\n",
    "    print(\"Your trip from first_city to second_city will take\", d, \"days,\", h, \"hours and\", m, \"minutes.\")\n",
    "    \n",
    "    rangex = mpg * fuel\n",
    "    costperfill = 16*2.4\n",
    "    refill1 = math.ceil(min_total/rangex)\n",
    "    print(\"You will need to make\",refill1, \"stops.\")\n",
    "    print(\"You will pay $\", refill1*costperfill, \"for the trip in gas.\")"
   ]
  }
 ],
 "metadata": {
  "kernelspec": {
   "display_name": "Python 3",
   "language": "python",
   "name": "python3"
  },
  "language_info": {
   "codemirror_mode": {
    "name": "ipython",
    "version": 3
   },
   "file_extension": ".py",
   "mimetype": "text/x-python",
   "name": "python",
   "nbconvert_exporter": "python",
   "pygments_lexer": "ipython3",
   "version": "3.7.11"
  }
 },
 "nbformat": 4,
 "nbformat_minor": 5
}
