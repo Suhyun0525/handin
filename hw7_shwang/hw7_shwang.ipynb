{
 "cells": [
  {
   "cell_type": "markdown",
   "id": "8c33a4fe",
   "metadata": {},
   "source": [
    "# Suhyun Hwang"
   ]
  },
  {
   "cell_type": "markdown",
   "id": "ebce1d9a",
   "metadata": {},
   "source": [
    "# Homework 7"
   ]
  },
  {
   "cell_type": "markdown",
   "id": "226cfd65",
   "metadata": {},
   "source": [
    "# Oct 10, 2021"
   ]
  },
  {
   "cell_type": "markdown",
   "id": "a2c482fc",
   "metadata": {},
   "source": [
    "#### Problem 1"
   ]
  },
  {
   "cell_type": "code",
   "execution_count": 1,
   "id": "c92e8426",
   "metadata": {},
   "outputs": [
    {
     "name": "stdout",
     "output_type": "stream",
     "text": [
      "Problem 1\n"
     ]
    }
   ],
   "source": [
    "print('Problem 1')"
   ]
  },
  {
   "cell_type": "code",
   "execution_count": 4,
   "id": "b3a2746c",
   "metadata": {},
   "outputs": [],
   "source": [
    "import numpy as np"
   ]
  },
  {
   "cell_type": "markdown",
   "id": "62993531",
   "metadata": {},
   "source": [
    "#### Problem 2"
   ]
  },
  {
   "cell_type": "code",
   "execution_count": 3,
   "id": "d1debd8b",
   "metadata": {},
   "outputs": [
    {
     "name": "stdout",
     "output_type": "stream",
     "text": [
      "Problem 2\n"
     ]
    }
   ],
   "source": [
    "print('Problem 2')"
   ]
  },
  {
   "cell_type": "code",
   "execution_count": 15,
   "id": "b9ff8df8",
   "metadata": {},
   "outputs": [],
   "source": [
    "def word_to_number(word):\n",
    "    \"\"\"Function that converts words to number.\n",
    "    Input: word\n",
    "    Output number \"\"\"\n",
    "    number_dic = { 'zero': 0, 'one': 1, 'two': 2, 'three': 3, 'four': 4, 'five': 5, 'six': 6, 'seven': 7\n",
    "                  , 'eight': 8, 'nine': 9, 'ten': 10, 'eleven': 11, 'twelve': 12, 'thirteen': 13, 'fourteen': 14\n",
    "                  , 'fifteen': 15, 'sixteen': 16, 'seventeen': 17, 'eighteen': 18, 'nineteen': 19, 'twenty': 20}\n",
    "    \"\"\"This is the dictionary that defines each word as number.\"\"\"\n",
    "    return number_dic[word]\n"
   ]
  },
  {
   "cell_type": "code",
   "execution_count": 26,
   "id": "a14d929e",
   "metadata": {},
   "outputs": [
    {
     "name": "stdout",
     "output_type": "stream",
     "text": [
      "three is 3\n",
      "seven is 7\n",
      "twelve is 12\n",
      "sixteen is 16\n",
      "nineteen is 19\n"
     ]
    }
   ],
   "source": [
    "word = 'three'\n",
    "print(word, 'is', word_to_number(word))\n",
    "word = 'seven'\n",
    "print(word, 'is', word_to_number(word))\n",
    "word = 'twelve'\n",
    "print(word, 'is', word_to_number(word))\n",
    "word = 'sixteen'\n",
    "print(word, 'is', word_to_number(word))\n",
    "word = 'nineteen'\n",
    "print(word, 'is', word_to_number(word))\n"
   ]
  },
  {
   "cell_type": "markdown",
   "id": "dbd62c36",
   "metadata": {},
   "source": [
    "#### Problem 3"
   ]
  },
  {
   "cell_type": "code",
   "execution_count": 27,
   "id": "407c52f4",
   "metadata": {},
   "outputs": [
    {
     "name": "stdout",
     "output_type": "stream",
     "text": [
      "Print 3\n"
     ]
    }
   ],
   "source": [
    "print('Print 3')"
   ]
  },
  {
   "cell_type": "code",
   "execution_count": 29,
   "id": "717fe95d",
   "metadata": {},
   "outputs": [
    {
     "name": "stdout",
     "output_type": "stream",
     "text": [
      "Deleting\n",
      "an\n",
      "item\n",
      "from\n",
      "a\n",
      "list\n",
      "or\n",
      "array\n",
      "while\n",
      "iterating\n",
      "over\n",
      "it\n",
      "is\n",
      "a\n",
      "Python\n",
      "problem\n",
      "that\n",
      "is\n",
      "well\n",
      "known\n",
      "to\n",
      "any\n",
      "experienced\n",
      "software\n",
      "developer\n"
     ]
    }
   ],
   "source": [
    "string = 'Deleting an item from a list or array while iterating over it is a Python problem that is well known to any experienced software developer'\n",
    "\n",
    "for word in string.split():\n",
    "    print(word)"
   ]
  },
  {
   "cell_type": "code",
   "execution_count": 30,
   "id": "f203b504",
   "metadata": {},
   "outputs": [
    {
     "name": "stdout",
     "output_type": "stream",
     "text": [
      "Deleting\n",
      "an\n",
      "item\n",
      "from\n",
      "a\n",
      "list\n",
      "or\n",
      "array\n",
      "while\n",
      "iterating\n",
      "over\n",
      "it\n",
      "is\n",
      "a\n",
      "Python\n",
      "problem\n",
      "that\n",
      "is\n",
      "well\n",
      "known\n",
      "to\n",
      "any\n",
      "experienced\n",
      "software\n",
      "developer\n"
     ]
    }
   ],
   "source": [
    "string = 'Deleting an item from a list or array while iterating over it is a Python problem that is well known to any experienced software developer'\n",
    "\n",
    "while ' ' in string:\n",
    "    i = string.index(' ')\n",
    "    print(string[:i])\n",
    "    string = string[i+1:]\n",
    "print(string)\n",
    "    "
   ]
  },
  {
   "cell_type": "code",
   "execution_count": 40,
   "id": "a3ea80f1",
   "metadata": {},
   "outputs": [
    {
     "name": "stdout",
     "output_type": "stream",
     "text": [
      "Deleting\n",
      "an\n",
      "item\n",
      "from\n",
      "a\n",
      "list\n",
      "or\n",
      "array\n",
      "while\n",
      "iterating\n",
      "over\n",
      "it\n",
      "is\n",
      "a\n",
      "Python\n",
      "problem\n",
      "that\n",
      "is\n",
      "well\n",
      "known\n",
      "to\n",
      "any\n",
      "experienced\n",
      "software\n",
      "developer\n",
      "\n",
      "Longest Word: experienced\n"
     ]
    }
   ],
   "source": [
    "string = 'Deleting an item from a list or array while iterating over it is a Python problem that is well known to any experienced software developer'\n",
    "longestWord = 'a'\n",
    "for word in string.split():\n",
    "    if (len(longestWord) < len(word)):\n",
    "      longestWord = word\n",
    "    print(word)\n",
    "print()\n",
    "print('Longest Word:',longestWord)"
   ]
  },
  {
   "cell_type": "code",
   "execution_count": 41,
   "id": "8a123821",
   "metadata": {},
   "outputs": [
    {
     "name": "stdout",
     "output_type": "stream",
     "text": [
      "Deleting\n",
      "an\n",
      "item\n",
      "from\n",
      "a\n",
      "list\n",
      "or\n",
      "array\n",
      "while\n",
      "iterating\n",
      "over\n",
      "it\n",
      "is\n",
      "a\n",
      "Python\n",
      "problem\n",
      "that\n",
      "is\n",
      "well\n",
      "known\n",
      "to\n",
      "any\n",
      "experienced\n",
      "software\n",
      "\n",
      "Longest Word: experienced\n"
     ]
    }
   ],
   "source": [
    "string = 'Deleting an item from a list or array while iterating over it is a Python problem that is well known to any experienced software developer'\n",
    "longestWord = 'a'\n",
    "while ' ' in string:\n",
    "    i = string.index(' ')\n",
    "    if (len(longestWord) < len(string[:i])):\n",
    "      longestWord = string[:i]\n",
    "    print(string[:i])\n",
    "    string = string[i+1:]\n",
    "print()\n",
    "print('Longest Word:',longestWord)"
   ]
  },
  {
   "cell_type": "markdown",
   "id": "9aacef08",
   "metadata": {},
   "source": [
    "#### Problem 4"
   ]
  },
  {
   "cell_type": "code",
   "execution_count": 31,
   "id": "49176355",
   "metadata": {},
   "outputs": [
    {
     "name": "stdout",
     "output_type": "stream",
     "text": [
      "Problem 4\n"
     ]
    }
   ],
   "source": [
    "print('Problem 4')"
   ]
  },
  {
   "cell_type": "code",
   "execution_count": 81,
   "id": "e9960bc3",
   "metadata": {},
   "outputs": [],
   "source": [
    "x = np.arange(100,1000,25)"
   ]
  },
  {
   "cell_type": "code",
   "execution_count": 85,
   "id": "33ed779f",
   "metadata": {},
   "outputs": [
    {
     "name": "stdout",
     "output_type": "stream",
     "text": [
      "[0, 0, 0, 0, 0, 0, 0, 0, 0, 0, 0, 0, 0, 0, 0, 0, 0, 0, 0, 0, 0, 0, 0, 0, 0, 0, 0, 0, 0, 0, 0, 0, 0, 0, 0, 0]\n",
      "\n",
      "[100 125 150 175 200 225 250 275 300 325 350 375 400 425 450 475 500 525\n",
      " 550 575 600 625 650 675 700 725 750 775 800 825 850 875 900 925 950 975]\n",
      "\n",
      "[50.0, 15625, 75.0, 30625, 100.0, 50625, 125.0, 75625, 150.0, 105625, 175.0, 140625, 200.0, 180625, 225.0, 225625, 250.0, 275625, 275.0, 330625, 300.0, 390625, 325.0, 455625, 350.0, 525625, 375.0, 600625, 400.0, 680625, 425.0, 765625, 450.0, 855625, 475.0, 950625]\n"
     ]
    }
   ],
   "source": [
    "y = [0] * len(x)\n",
    "print(y)\n",
    "print()\n",
    "for i in range(0, len(y)):\n",
    "    if (i % 2 == 1):\n",
    "        y[i] = x[i]**2\n",
    "    else:\n",
    "        y[i] = x[i]/2\n",
    "print(x)\n",
    "print()\n",
    "print(y)"
   ]
  },
  {
   "cell_type": "markdown",
   "id": "93a81da8",
   "metadata": {},
   "source": [
    "#### Problem 5"
   ]
  },
  {
   "cell_type": "code",
   "execution_count": 1,
   "id": "7df80080",
   "metadata": {},
   "outputs": [
    {
     "name": "stdout",
     "output_type": "stream",
     "text": [
      "Problem 5\n"
     ]
    }
   ],
   "source": [
    "print('Problem 5')"
   ]
  },
  {
   "cell_type": "code",
   "execution_count": 1,
   "id": "8c72f2c5",
   "metadata": {},
   "outputs": [
    {
     "name": "stdout",
     "output_type": "stream",
     "text": [
      "['20191,60.0,52.0,67.0,68.0,78.0,82.0,98.0,85.0,80.0'\n",
      " '20192,82.0,91.0,93.0,95.0,100.0,98.0,100.0,65.0,88.0'\n",
      " '20193,80.0,85.5,92.9,94.0,0.0,100.0,93.2,100.0,93.1'\n",
      " '20194,67.0,85.2,56.5,94.3,92.0,70,0.,0.,76.0'\n",
      " '20195,55.0,62.0,74.0,85.,42.0,100.0,92,45.0,62.0'\n",
      " '20196,10.0,50.0,25.0,82.0,72.0,72.0,45.0,100.,65.0'\n",
      " '20197,85.0,80.0,84.0,65.,92.0,98.0,89.0,88.0,100.0'\n",
      " '20198,100.0,98.0,0.0,100.,98.0,99.0,100.0,100.,95.'\n",
      " '20199,98.0.,92.0,90.,100,99.0,80.0,76.,52,0'\n",
      " '201910,100.0,12.,88.,65.,72.0,90.,76.,52.,80.']\n"
     ]
    }
   ],
   "source": [
    "import numpy as np\n",
    "f = open('student_data.csv','r')\n",
    "all_grades = np.loadtxt('student_data.csv', dtype=str)\n",
    "f.close()\n",
    "print(all_grades)"
   ]
  },
  {
   "cell_type": "code",
   "execution_count": 10,
   "id": "b06fb0ec",
   "metadata": {},
   "outputs": [],
   "source": [
    "def pass_or_no_pass(grades):\n",
    "    for i in range(0, 9):\n",
    "        homework = (all_grades[i][6:8]+all_grades[i][11:13])\n",
    "        print('Student', all_grades[i][0:5])\n",
    "        print(homework)\n",
    "                \n",
    "            \n",
    "    return"
   ]
  },
  {
   "cell_type": "code",
   "execution_count": 11,
   "id": "f9e8af78",
   "metadata": {},
   "outputs": [
    {
     "name": "stdout",
     "output_type": "stream",
     "text": [
      "Student 20191\n",
      "6052\n",
      "Student 20192\n",
      "8291\n",
      "Student 20193\n",
      "8085\n",
      "Student 20194\n",
      "6785\n",
      "Student 20195\n",
      "5562\n",
      "Student 20196\n",
      "1050\n",
      "Student 20197\n",
      "8580\n",
      "Student 20198\n",
      "10,9\n",
      "Student 20199\n",
      "98,9\n"
     ]
    }
   ],
   "source": [
    "pass_or_no_pass(all_grades)"
   ]
  }
 ],
 "metadata": {
  "kernelspec": {
   "display_name": "Python 3",
   "language": "python",
   "name": "python3"
  },
  "language_info": {
   "codemirror_mode": {
    "name": "ipython",
    "version": 3
   },
   "file_extension": ".py",
   "mimetype": "text/x-python",
   "name": "python",
   "nbconvert_exporter": "python",
   "pygments_lexer": "ipython3",
   "version": "3.7.11"
  }
 },
 "nbformat": 4,
 "nbformat_minor": 5
}
