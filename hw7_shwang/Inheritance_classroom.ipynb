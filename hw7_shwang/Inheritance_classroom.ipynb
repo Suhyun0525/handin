{
 "cells": [
  {
   "cell_type": "markdown",
   "metadata": {},
   "source": [
    "# Objects_classes_attributes_methods continuation "
   ]
  },
  {
   "cell_type": "code",
   "execution_count": null,
   "metadata": {},
   "outputs": [],
   "source": [
    "# PHZ3150 "
   ]
  },
  {
   "cell_type": "code",
   "execution_count": 1,
   "metadata": {},
   "outputs": [],
   "source": [
    "import numpy as np"
   ]
  },
  {
   "cell_type": "markdown",
   "metadata": {},
   "source": [
    "#### Last time we saw how you can make your own data type by creating a new class; e.g. :"
   ]
  },
  {
   "cell_type": "code",
   "execution_count": 2,
   "metadata": {},
   "outputs": [],
   "source": [
    "class Time : \n",
    "    def __init__(self, hour=0, minute=0, second=0):    #--> special method for initializing class\n",
    "        self.hour   = hour\n",
    "        self.minute = minute\n",
    "        self.second = second\n",
    "        \n",
    "        \n",
    "    def __str__(self):                                 # --> return string with print command\n",
    "        return ('%.2d:%.2d:%.2d' % (self.hour, self.minute, self.second ) )\n"
   ]
  },
  {
   "cell_type": "markdown",
   "metadata": {},
   "source": [
    "#### we also saw attributes, the named elements of your class and how you can create an instance of the class; e.g.:"
   ]
  },
  {
   "cell_type": "code",
   "execution_count": 3,
   "metadata": {},
   "outputs": [],
   "source": [
    "my_time =  Time()"
   ]
  },
  {
   "cell_type": "code",
   "execution_count": 4,
   "metadata": {},
   "outputs": [],
   "source": [
    "my_time.hour = 9\n",
    "my_time.minute = 45"
   ]
  },
  {
   "cell_type": "code",
   "execution_count": 5,
   "metadata": {},
   "outputs": [
    {
     "name": "stdout",
     "output_type": "stream",
     "text": [
      "09:45:00\n"
     ]
    }
   ],
   "source": [
    "print( my_time)"
   ]
  },
  {
   "cell_type": "markdown",
   "metadata": {},
   "source": [
    "#### We added functions in our class, the methods, that are associated with the particular class; e.g.:"
   ]
  },
  {
   "cell_type": "code",
   "execution_count": 6,
   "metadata": {},
   "outputs": [],
   "source": [
    "class Time :\n",
    "    \"\"\"Represents the time of day.\"\"\"\n",
    "    \n",
    "    def __init__(self, hour=0, minute=0, second=0):    #--> special method for initializing class\n",
    "        self.hour   = hour\n",
    "        self.minute = minute\n",
    "        self.second = second\n",
    "        \n",
    "        \n",
    "    def __str__(self):                                 # --> return string with print command\n",
    "        return ('%.2d:%.2d:%.2d' % (self.hour, self.minute, self.second ) )\n",
    "\n",
    "    def valid_time(self):\n",
    "        if self.hour < 0 or self.minute < 0 or self.second < 0:\n",
    "            return False\n",
    "        if self.minute >= 60 or self.second >= 60:\n",
    "            return False\n",
    "        return True\n",
    "        \n",
    "    def time_to_int(self):\n",
    "        minutes = self.hour * 60 + self.minute\n",
    "        seconds = minutes   * 60 + self.second\n",
    "        return seconds\n",
    "\n",
    "    def is_after(self, other):\n",
    "        if not self.valid_time() or not other.valid_time():\n",
    "            raise ValueError(\"Invalid Time object in add_time()\")\n",
    "        return self.time_to_int() > other.time_to_int()\n"
   ]
  },
  {
   "cell_type": "code",
   "execution_count": 7,
   "metadata": {},
   "outputs": [
    {
     "data": {
      "text/plain": [
       "True"
      ]
     },
     "execution_count": 7,
     "metadata": {},
     "output_type": "execute_result"
    }
   ],
   "source": [
    "time_1 = Time()\n",
    "time_2 = Time()\n",
    "\n",
    "\n",
    "time_1.hour   = 3\n",
    "time_1.minute = 35\n",
    "\n",
    "time_2.hour   = 3\n",
    "time_2.minute  = 38\n",
    "\n",
    "time_2.is_after( time_1 )"
   ]
  },
  {
   "cell_type": "code",
   "execution_count": 122,
   "metadata": {},
   "outputs": [],
   "source": [
    "# Now we will revisit a bit operator overloading with some more examples, and then see Inheritance:"
   ]
  },
  {
   "cell_type": "markdown",
   "metadata": {},
   "source": [
    "### Operator overloading: you can change the behavior of an operator (e.g. + -) so that it works with programmer defined way\n"
   ]
  },
  {
   "cell_type": "code",
   "execution_count": 8,
   "metadata": {},
   "outputs": [
    {
     "name": "stdout",
     "output_type": "stream",
     "text": [
      "11:20:00\n"
     ]
    }
   ],
   "source": [
    "# This function is the only one not operating on a Time.  It cannot be\n",
    "# in the class Time, because its \"self\" argument would be undefined\n",
    "# when called.  So, it appears out here, would be in the module, but not in the\n",
    "# class.\n",
    "\n",
    "def int_to_time(seconds):\n",
    "    time = Time()\n",
    "    minutes,   time.second = divmod(seconds, 60)\n",
    "    time.hour, time.minute = divmod(minutes, 60)\n",
    "    return time\n",
    "\n",
    "#--------------------------------------------------\n",
    "class Time :\n",
    "    \"\"\"Represents the time of day.\"\"\"\n",
    "    \n",
    "    def __init__(self, hour=0, minute=0, second=0):    #--> special method for initializing class\n",
    "        self.hour   = hour\n",
    "        self.minute = minute\n",
    "        self.second = second\n",
    "        \n",
    "        \n",
    "    def __str__(self):                                 # --> return string with print command\n",
    "        return ('%.2d:%.2d:%.2d' % (self.hour, self.minute, self.second ) )\n",
    "\n",
    "    def valid_time(self):\n",
    "        if self.hour < 0 or self.minute < 0 or self.second < 0:\n",
    "            return False\n",
    "        if self.minute >= 60 or self.second >= 60:\n",
    "            return False\n",
    "        return True\n",
    "        \n",
    "    def time_to_int(self):\n",
    "        minutes = self.hour * 60 + self.minute\n",
    "        seconds = minutes   * 60 + self.second\n",
    "        return seconds\n",
    "\n",
    "    def is_after(self, other):\n",
    "        if not self.valid_time() or not other.valid_time():\n",
    "            raise ValueError(\"Invalid Time object in add_time()\")\n",
    "        return self.time_to_int() > other.time_to_int()\n",
    "    \n",
    "    \n",
    "### this is the function where we use operator overloading :\n",
    "    def __add__(self, other):                              # when you see the \"+\" you will do the following:\n",
    "        seconds = self.time_to_int() + other.time_to_int()\n",
    "        return int_to_time(seconds)\n",
    "\n",
    "\n",
    "\n",
    "start = Time(9, 45)\n",
    "duration = Time(1, 35)\n",
    "print(start + duration) # ---> 11:20:00 (+ becomes the __add__ function)"
   ]
  },
  {
   "cell_type": "markdown",
   "metadata": {},
   "source": [
    "#### Let's try out some more operator overloading cases:"
   ]
  },
  {
   "cell_type": "code",
   "execution_count": 9,
   "metadata": {},
   "outputs": [],
   "source": [
    "class my_test_overloads :\n",
    "    \n",
    "    def __lt__( self, other ): \n",
    "        \n",
    "        if ( self.a < other.a ): \n",
    "            return \"number_1 < number_2 \"\n",
    "        else: \n",
    "            return \"number_2 < number_1 \"\n",
    "        \n",
    "    def __gt__( self, other ): \n",
    "        \n",
    "        if ( self.a > other.a ): \n",
    "            return \"number_1 > number_2 \"\n",
    "        else: \n",
    "            return \"number_2 > number_1 \"\n",
    "        \n",
    "    def __eq__( self, other ): \n",
    "        \n",
    "        if( self.a == other.a ): \n",
    "            return \"number_1 == number_2 \"\n",
    "        else: \n",
    "            return \"number_1 != number_2 \"\n",
    "        \n",
    "    def __sub__( self, other ):\n",
    "        \n",
    "        return self.a - other.a \n",
    "    \n",
    "    def __add__( self, other ):\n",
    "        \n",
    "        return self.a + other.a\n",
    "    \n",
    "    def __mul__( self, other ):\n",
    "        \n",
    "        return self.a * other.a\n",
    "    \n",
    "    \n",
    "    def __floordiv__( self, other ) :\n",
    "        \n",
    "        return self.a // other.a \n",
    "    \n",
    "    def __truediv__( self, other ) :\n",
    "        \n",
    "        return self.a / other.a \n",
    "    \n",
    "    def __mod__ ( self, other ):\n",
    "        \n",
    "        return self.a % other.a\n",
    "    "
   ]
  },
  {
   "cell_type": "code",
   "execution_count": 10,
   "metadata": {},
   "outputs": [],
   "source": [
    "q1 = my_test_overloads( )\n",
    "q2 = my_test_overloads( )"
   ]
  },
  {
   "cell_type": "code",
   "execution_count": 11,
   "metadata": {},
   "outputs": [],
   "source": [
    "q1.a = 12\n",
    "q2.a = 5"
   ]
  },
  {
   "cell_type": "code",
   "execution_count": 12,
   "metadata": {},
   "outputs": [
    {
     "name": "stdout",
     "output_type": "stream",
     "text": [
      "17\n"
     ]
    }
   ],
   "source": [
    "print( q1 + q2 )"
   ]
  },
  {
   "cell_type": "code",
   "execution_count": 13,
   "metadata": {},
   "outputs": [
    {
     "name": "stdout",
     "output_type": "stream",
     "text": [
      "60\n"
     ]
    }
   ],
   "source": [
    "print( q1 * q2 )"
   ]
  },
  {
   "cell_type": "code",
   "execution_count": 14,
   "metadata": {},
   "outputs": [
    {
     "name": "stdout",
     "output_type": "stream",
     "text": [
      "number_1 > number_2 \n"
     ]
    }
   ],
   "source": [
    "print( q1 > q2 )"
   ]
  },
  {
   "cell_type": "code",
   "execution_count": 15,
   "metadata": {},
   "outputs": [
    {
     "name": "stdout",
     "output_type": "stream",
     "text": [
      "number_2 < number_1 \n"
     ]
    }
   ],
   "source": [
    "print( q1 < q2 )"
   ]
  },
  {
   "cell_type": "code",
   "execution_count": 16,
   "metadata": {},
   "outputs": [
    {
     "name": "stdout",
     "output_type": "stream",
     "text": [
      "2.4\n"
     ]
    }
   ],
   "source": [
    "print ( q1 / q2 )"
   ]
  },
  {
   "cell_type": "code",
   "execution_count": 17,
   "metadata": {},
   "outputs": [
    {
     "name": "stdout",
     "output_type": "stream",
     "text": [
      "2\n"
     ]
    }
   ],
   "source": [
    "print( q1 // q2 )"
   ]
  },
  {
   "cell_type": "code",
   "execution_count": 18,
   "metadata": {},
   "outputs": [
    {
     "name": "stdout",
     "output_type": "stream",
     "text": [
      "2\n"
     ]
    }
   ],
   "source": [
    "print( q1 % q2 )"
   ]
  },
  {
   "cell_type": "code",
   "execution_count": null,
   "metadata": {},
   "outputs": [],
   "source": []
  },
  {
   "cell_type": "markdown",
   "metadata": {},
   "source": [
    "### can you recall a case we have seen where operator overloading might have happened behind the scenes, but we just didn't call it such yet?"
   ]
  },
  {
   "cell_type": "code",
   "execution_count": null,
   "metadata": {},
   "outputs": [],
   "source": []
  },
  {
   "cell_type": "markdown",
   "metadata": {},
   "source": [
    "#### Python does it already for strings; think of these cases e.g.:"
   ]
  },
  {
   "cell_type": "code",
   "execution_count": 19,
   "metadata": {},
   "outputs": [],
   "source": [
    "my_string = 'I feel good '"
   ]
  },
  {
   "cell_type": "code",
   "execution_count": 20,
   "metadata": {},
   "outputs": [
    {
     "name": "stdout",
     "output_type": "stream",
     "text": [
      "I feel good I feel good \n"
     ]
    }
   ],
   "source": [
    "print( my_string + my_string )"
   ]
  },
  {
   "cell_type": "code",
   "execution_count": 21,
   "metadata": {},
   "outputs": [
    {
     "name": "stdout",
     "output_type": "stream",
     "text": [
      "I feel good I feel good I feel good I feel good \n"
     ]
    }
   ],
   "source": [
    "print( my_string * 4 )"
   ]
  },
  {
   "cell_type": "markdown",
   "metadata": {},
   "source": [
    "### logically, these things shouldn't have happened, right? you don't \"add\" or \"multiply\" numbers; but Python knows what you mean because of operator overloading"
   ]
  },
  {
   "cell_type": "code",
   "execution_count": null,
   "metadata": {},
   "outputs": [],
   "source": []
  },
  {
   "cell_type": "markdown",
   "metadata": {},
   "source": [
    "### Let's first make again (as we skipped this on Tuesday) a class Circle that calculates the surface area of a circle"
   ]
  },
  {
   "cell_type": "code",
   "execution_count": 22,
   "metadata": {},
   "outputs": [
    {
     "name": "stdout",
     "output_type": "stream",
     "text": [
      "3.14\n",
      "3.14\n",
      "radius is: 20\n",
      "1256.0\n"
     ]
    }
   ],
   "source": [
    "class Circle:\n",
    "    pi = 3.14\n",
    "\n",
    "#initialize the attribute of the class:\n",
    "    def __init__(self, radius):   \n",
    "        self.radius = radius\n",
    "        \n",
    "#define \n",
    "    def area(self):\n",
    "        print('radius is:',self.radius)\n",
    "        return self.pi * self.radius **2\n",
    "\n",
    "    \n",
    "# what is pi for the Circle? \n",
    "print(Circle.pi)\n",
    "\n",
    "# Let's make a circle with radius 20:   \n",
    "c = Circle(20)\n",
    "print(c.pi)\n",
    "print(c.area())"
   ]
  },
  {
   "cell_type": "markdown",
   "metadata": {},
   "source": [
    "### Now let's go back to making our circle function and change it to be able to compare the radii of 2 circles:"
   ]
  },
  {
   "cell_type": "code",
   "execution_count": 23,
   "metadata": {},
   "outputs": [],
   "source": [
    "class Circle :\n",
    "    \n",
    "    pi = np.pi  # get the full blown pi\n",
    "\n",
    "# initialize:\n",
    "    def __init__(self, radius):   \n",
    "        self.radius = radius\n",
    "        \n",
    "# define area: \n",
    "    def area(self):\n",
    "       \n",
    "        return self.pi * self.radius **2    \n",
    "    \n",
    "    \n",
    "# define with radius is larger:\n",
    "\n",
    "    def __lt__(self, other ):\n",
    "        \n",
    "        if ( self.radius > other. radius ):\n",
    "            return  \"radius_1 > radius_2 \" \n",
    "        else:\n",
    "            return  \"radius_1 < radius_2 \" \n",
    "        "
   ]
  },
  {
   "cell_type": "code",
   "execution_count": 24,
   "metadata": {},
   "outputs": [],
   "source": [
    "# define your circles with radii 5 and 12:\n",
    "\n",
    "rad1 = Circle( 5 )\n",
    "rad2 = Circle( 12 )"
   ]
  },
  {
   "cell_type": "code",
   "execution_count": 25,
   "metadata": {},
   "outputs": [
    {
     "name": "stdout",
     "output_type": "stream",
     "text": [
      "radius_1 < radius_2 \n"
     ]
    }
   ],
   "source": [
    "# compare radii:\n",
    "\n",
    "print( rad1 < rad2 )"
   ]
  },
  {
   "cell_type": "code",
   "execution_count": null,
   "metadata": {},
   "outputs": [],
   "source": []
  },
  {
   "cell_type": "markdown",
   "metadata": {},
   "source": [
    "### Similarly, let's make a class sphere that will calculate everything we care about on a sphere (surface, volume)"
   ]
  },
  {
   "cell_type": "code",
   "execution_count": 26,
   "metadata": {},
   "outputs": [],
   "source": [
    "class surface_volume_area_sphere:\n",
    "    \n",
    "#initialize:\n",
    "      def __init__(self,radius):\n",
    "        self.radius = radius\n",
    "        \n",
    "#define function that returs surface area of sphere:\n",
    "      def area(self):\n",
    "        return(4*np.pi*self.radius**2)\n",
    "    \n",
    "#define function that returns volume of sphere:\n",
    "      def volume(self):\n",
    "        return(4/3.*np.pi*self.radius**3)\n",
    "    \n"
   ]
  },
  {
   "cell_type": "code",
   "execution_count": 27,
   "metadata": {},
   "outputs": [
    {
     "name": "stdout",
     "output_type": "stream",
     "text": [
      "The surface area of the sphere with radius 100 is:  125663.70614359173\n",
      "The volume of the sphere with radius 100 is:  4188790.2047863905\n"
     ]
    }
   ],
   "source": [
    "# call it for sphere radius of 100:\n",
    "\n",
    "rr = 100\n",
    "rsv = surface_volume_area_sphere(rr)\n",
    "\n",
    "print('The surface area of the sphere with radius', rr, 'is: ', rsv.area())\n",
    "print('The volume of the sphere with radius', rr, 'is: ',rsv.volume())"
   ]
  },
  {
   "cell_type": "markdown",
   "metadata": {},
   "source": [
    "### now, let's change the sphere to be able to devide the volume of two spheres:\n"
   ]
  },
  {
   "cell_type": "code",
   "execution_count": 28,
   "metadata": {},
   "outputs": [],
   "source": [
    "class surface_volume_area_sphere:\n",
    "    \n",
    "# initialize:\n",
    "      def __init__( self, radius ):\n",
    "        self.radius = radius\n",
    "        \n",
    "# define function that returs surface area of sphere:\n",
    "      def area( self ):\n",
    "        return(4*np.pi*self.radius**2)\n",
    "    \n",
    "# define function that returns volume of sphere:\n",
    "      def volume( self ):\n",
    "        return(4/3.*np.pi*self.radius**3)\n",
    "    \n",
    "# define the division of the 2 sphere volumes:\n",
    "\n",
    "      def __truediv__(self, other ):\n",
    "        \n",
    "        a = self.volume()\n",
    "        b = other.volume()\n",
    "        print( a, b)\n",
    "        \n",
    "        return a / b"
   ]
  },
  {
   "cell_type": "code",
   "execution_count": 29,
   "metadata": {},
   "outputs": [],
   "source": [
    "vol_1 = surface_volume_area_sphere( 1000. )\n",
    "vol_2 = surface_volume_area_sphere( 10. )"
   ]
  },
  {
   "cell_type": "code",
   "execution_count": 30,
   "metadata": {},
   "outputs": [
    {
     "name": "stdout",
     "output_type": "stream",
     "text": [
      "4188790204.7863903 4188.790204786391 999999.9999999999\n"
     ]
    }
   ],
   "source": [
    "print( vol_1.volume(), vol_2.volume() , vol_1.volume()/ vol_2.volume())"
   ]
  },
  {
   "cell_type": "code",
   "execution_count": 31,
   "metadata": {},
   "outputs": [
    {
     "name": "stdout",
     "output_type": "stream",
     "text": [
      "4188790204.7863903 4188.790204786391\n",
      "999999.9999999999\n"
     ]
    }
   ],
   "source": [
    "print( vol_1 / vol_2 )"
   ]
  },
  {
   "cell_type": "code",
   "execution_count": null,
   "metadata": {},
   "outputs": [],
   "source": []
  },
  {
   "cell_type": "markdown",
   "metadata": {},
   "source": [
    "### Inheritance: ability to define a new class that is a modified version of an existing class; i.e., we don't need to redefine all methods that we already defined in the parent class, we can just use them in the child class and add some more.."
   ]
  },
  {
   "cell_type": "code",
   "execution_count": 32,
   "metadata": {},
   "outputs": [],
   "source": [
    "# let's create a basic class who_is_it that prints the name of a main character of a book :\n",
    "\n",
    "class who_is_it :\n",
    "    \n",
    "    def __init__ ( self, name = \"Jane/Joe\", surname = \"Doe\") :\n",
    "        self.firstname = name\n",
    "        self.lastname  = surname\n",
    "        \n",
    "    def __str__( self ):\n",
    "        \n",
    "        return self.firstname +' '+ self.lastname "
   ]
  },
  {
   "cell_type": "code",
   "execution_count": 33,
   "metadata": {},
   "outputs": [],
   "source": [
    "my_person = who_is_it( \"Mary\", \"Poppins\")"
   ]
  },
  {
   "cell_type": "code",
   "execution_count": 34,
   "metadata": {},
   "outputs": [
    {
     "name": "stdout",
     "output_type": "stream",
     "text": [
      "Mary Poppins\n"
     ]
    }
   ],
   "source": [
    "print( my_person )"
   ]
  },
  {
   "cell_type": "markdown",
   "metadata": {},
   "source": [
    "### now let's create a class book that will just inherit the methods of class who_is_it :\n"
   ]
  },
  {
   "cell_type": "code",
   "execution_count": 35,
   "metadata": {},
   "outputs": [],
   "source": [
    "class book( who_is_it ):\n",
    "  pass"
   ]
  },
  {
   "cell_type": "code",
   "execution_count": 36,
   "metadata": {},
   "outputs": [],
   "source": [
    "my_hero = book( \"Mary\", \"Poppins\" )"
   ]
  },
  {
   "cell_type": "code",
   "execution_count": 37,
   "metadata": {},
   "outputs": [
    {
     "name": "stdout",
     "output_type": "stream",
     "text": [
      "Mary Poppins\n"
     ]
    }
   ],
   "source": [
    "print( my_hero )"
   ]
  },
  {
   "cell_type": "code",
   "execution_count": 38,
   "metadata": {},
   "outputs": [],
   "source": [
    "my_other_hero = book( \"Huckleberry\" )"
   ]
  },
  {
   "cell_type": "code",
   "execution_count": 39,
   "metadata": {},
   "outputs": [
    {
     "name": "stdout",
     "output_type": "stream",
     "text": [
      "Huckleberry Doe\n"
     ]
    }
   ],
   "source": [
    "print( my_other_hero )"
   ]
  },
  {
   "cell_type": "markdown",
   "metadata": {},
   "source": [
    "### let's now add a method in class book that will print the number of pages of the book:"
   ]
  },
  {
   "cell_type": "code",
   "execution_count": 40,
   "metadata": {},
   "outputs": [],
   "source": [
    "class book( who_is_it ):    # book is a child of who_is_it \n",
    "    \n",
    "    def print_my_pages( self , pages = 12 ):\n",
    "        self.pages = pages\n",
    "        \n",
    "        print (\" The book has \" + str(self.pages) + \" pages.\")"
   ]
  },
  {
   "cell_type": "code",
   "execution_count": 41,
   "metadata": {},
   "outputs": [],
   "source": [
    "my_hero = book( \"Mary\", \"Poppins\")"
   ]
  },
  {
   "cell_type": "code",
   "execution_count": 42,
   "metadata": {},
   "outputs": [
    {
     "name": "stdout",
     "output_type": "stream",
     "text": [
      "Mary Poppins\n"
     ]
    }
   ],
   "source": [
    "print( my_hero )"
   ]
  },
  {
   "cell_type": "code",
   "execution_count": 43,
   "metadata": {},
   "outputs": [
    {
     "name": "stdout",
     "output_type": "stream",
     "text": [
      " The book has 400 pages.\n"
     ]
    }
   ],
   "source": [
    "my_hero.print_my_pages( 400 )"
   ]
  },
  {
   "cell_type": "code",
   "execution_count": 44,
   "metadata": {},
   "outputs": [
    {
     "name": "stdout",
     "output_type": "stream",
     "text": [
      "Huckleberry Doe\n",
      " The book has 12 pages.\n"
     ]
    }
   ],
   "source": [
    "#or\n",
    "my_other_hero = book( \"Huckleberry\" )\n",
    "\n",
    "print( my_other_hero )\n",
    "my_other_hero.print_my_pages()"
   ]
  },
  {
   "cell_type": "code",
   "execution_count": null,
   "metadata": {},
   "outputs": [],
   "source": []
  },
  {
   "cell_type": "markdown",
   "metadata": {},
   "source": [
    "#### Let's see the example from ThinkPython2:"
   ]
  },
  {
   "cell_type": "code",
   "execution_count": 45,
   "metadata": {},
   "outputs": [],
   "source": [
    "from __future__ import print_function, division\n",
    "\n",
    "### define the cards you will be playing with\n",
    "\n",
    "class Card:\n",
    "    \"\"\"Represents a standard playing card.\n",
    "    \n",
    "    Attributes:\n",
    "      suit: integer 0-3\n",
    "      rank: integer 1-13\n",
    "    \"\"\"\n",
    "### In order to print Card objects in a way that people can easily read, we need a mapping\n",
    "### from the integer codes to the corresponding ranks and suits. A natural way to do that is\n",
    "### with lists of strings. We assign these lists to class attributes suit_names and rank_names:\n",
    "\n",
    "    suit_names = [\"Clubs\", \"Diamonds\", \"Hearts\", \"Spades\"]\n",
    "    rank_names = [None, \"Ace\", \"2\", \"3\", \"4\", \"5\", \"6\", \"7\", \n",
    "              \"8\", \"9\", \"10\", \"Jack\", \"Queen\", \"King\"]\n",
    "\n",
    "    def __init__(self, suit=0, rank=2):\n",
    "        self.suit = suit\n",
    "        self.rank = rank\n",
    "\n",
    "    def __str__(self):\n",
    "        \"\"\"Returns a human-readable string representation.\"\"\"\n",
    "        return '%s of %s' % (Card.rank_names[self.rank],\n",
    "                             Card.suit_names[self.suit])\n",
    "\n",
    "### test which card is stronger than the other:    \n",
    "    def __eq__(self, other):\n",
    "        \"\"\"Checks whether self and other have the same rank and suit.\n",
    "\n",
    "        returns: boolean\n",
    "        \"\"\"\n",
    "        return self.suit == other.suit and self.rank == other.rank\n",
    "\n",
    "    def __lt__(self, other):\n",
    "        \"\"\"Compares this card to other, first by suit, then rank.\n",
    "\n",
    "        returns: boolean\n",
    "        \"\"\"\n",
    "        t1 = self.suit, self.rank\n",
    "        t2 = other.suit, other.rank\n",
    "        return t1 < t2"
   ]
  },
  {
   "cell_type": "code",
   "execution_count": 46,
   "metadata": {},
   "outputs": [
    {
     "name": "stdout",
     "output_type": "stream",
     "text": [
      "Jack of Hearts\n"
     ]
    }
   ],
   "source": [
    "# let's see it in practice:\n",
    "\n",
    "card1 = Card(2, 11)\n",
    "\n",
    "print( card1)"
   ]
  },
  {
   "cell_type": "code",
   "execution_count": 47,
   "metadata": {},
   "outputs": [
    {
     "name": "stdout",
     "output_type": "stream",
     "text": [
      "2 of Diamonds\n",
      "False\n"
     ]
    }
   ],
   "source": [
    "# make another card and test if it is stronger than the first one:\n",
    "card2 = Card(1, 2)\n",
    "\n",
    "print( card2)\n",
    "\n",
    "print( card2 > card1)"
   ]
  },
  {
   "cell_type": "code",
   "execution_count": 48,
   "metadata": {},
   "outputs": [],
   "source": [
    "# Make a class deck that at the init method creates the attribute cards and generates the standard \n",
    "# set of fifty-two cards:\n",
    "\n",
    "import random\n",
    "\n",
    "class Deck:\n",
    "    \"\"\"Represents a deck of cards.\n",
    "\n",
    "    Attributes:\n",
    "      cards: list of Card objects.\n",
    "    \"\"\"\n",
    "    \n",
    "    def __init__( self ):\n",
    "        \"\"\"Initializes the Deck with 52 cards.\n",
    "        \"\"\"\n",
    "        self.cards = []\n",
    "        for suit in range( 4 ):\n",
    "            for rank in range( 1, 14 ):\n",
    "                card = Card( suit, rank )   # --> call the class card() and make your full set of cards\n",
    "                self.cards.append( card )\n",
    "\n",
    "    def __str__( self ):\n",
    "        \"\"\"Returns a string representation of the deck.\n",
    "        \"\"\"\n",
    "        res = []                        #--> create a list where we store our Deck card names\n",
    "        for card in self.cards:         #--> loop over cards and append to list\n",
    "            res.append( str( card ) )\n",
    "        return '\\n'.join( res )         #--> use function join() to join the names with a \\n between them\n",
    "\n",
    "    \n",
    "# define all the actions you will do with cards : \n",
    "    def add_card( self, card ):\n",
    "        \"\"\"Adds a card to the deck.\n",
    "\n",
    "        card: Card\n",
    "        \"\"\"\n",
    "        self.cards.append( card )\n",
    "\n",
    "    def remove_card( self, card ):\n",
    "        \"\"\"Removes a card from the deck or raises exception if it is not there.\n",
    "        \n",
    "        card: Card\n",
    "        \"\"\"\n",
    "        self.cards.remove( card )\n",
    "        \n",
    "    def pop_card( self, i = -1 ):\n",
    "        \"\"\"Removes and returns a card from the deck.\n",
    "\n",
    "        i: index of the card to pop; by default, pops the last card.\n",
    "        \"\"\"\n",
    "        return self.cards.pop( i )\n",
    "\n",
    "    def shuffle( self ):\n",
    "        \"\"\"Shuffles the cards in this deck.\"\"\"\n",
    "        random.shuffle( self.cards )\n",
    "\n",
    "    def sort( self ):\n",
    "        \"\"\"Sorts the cards in ascending order.\"\"\"\n",
    "        self.cards.sort()\n",
    "\n",
    "    def move_cards( self, hand, num ):\n",
    "        \"\"\"Moves the given number of cards from the deck into the Hand.\n",
    "\n",
    "        hand: destination Hand object\n",
    "        num: integer number of cards to move\n",
    "        \"\"\"\n",
    "        for i in range( num ):\n",
    "            hand.add_card( self.pop_card() )\n"
   ]
  },
  {
   "cell_type": "code",
   "execution_count": 49,
   "metadata": {},
   "outputs": [
    {
     "name": "stdout",
     "output_type": "stream",
     "text": [
      "Ace of Clubs\n",
      "2 of Clubs\n",
      "3 of Clubs\n",
      "4 of Clubs\n",
      "5 of Clubs\n",
      "6 of Clubs\n",
      "7 of Clubs\n",
      "8 of Clubs\n",
      "9 of Clubs\n",
      "10 of Clubs\n",
      "Jack of Clubs\n",
      "Queen of Clubs\n",
      "King of Clubs\n",
      "Ace of Diamonds\n",
      "2 of Diamonds\n",
      "3 of Diamonds\n",
      "4 of Diamonds\n",
      "5 of Diamonds\n",
      "6 of Diamonds\n",
      "7 of Diamonds\n",
      "8 of Diamonds\n",
      "9 of Diamonds\n",
      "10 of Diamonds\n",
      "Jack of Diamonds\n",
      "Queen of Diamonds\n",
      "King of Diamonds\n",
      "Ace of Hearts\n",
      "2 of Hearts\n",
      "3 of Hearts\n",
      "4 of Hearts\n",
      "5 of Hearts\n",
      "6 of Hearts\n",
      "7 of Hearts\n",
      "8 of Hearts\n",
      "9 of Hearts\n",
      "10 of Hearts\n",
      "Jack of Hearts\n",
      "Queen of Hearts\n",
      "King of Hearts\n",
      "Ace of Spades\n",
      "2 of Spades\n",
      "3 of Spades\n",
      "4 of Spades\n",
      "5 of Spades\n",
      "6 of Spades\n",
      "7 of Spades\n",
      "8 of Spades\n",
      "9 of Spades\n",
      "10 of Spades\n",
      "Jack of Spades\n",
      "Queen of Spades\n",
      "King of Spades\n"
     ]
    }
   ],
   "source": [
    "# print the full deck of cards:\n",
    "deck = Deck()\n",
    "\n",
    "print( deck )"
   ]
  },
  {
   "cell_type": "markdown",
   "metadata": {},
   "source": [
    "#### Now let's create a child class Hand that will use the information from parent class Deck to create a hand of cards:"
   ]
  },
  {
   "cell_type": "code",
   "execution_count": 50,
   "metadata": {},
   "outputs": [],
   "source": [
    "class Hand(Deck):\n",
    "    \"\"\"Represents a hand of playing cards.\"\"\"\n",
    "    \n",
    "    def __init__(self, label=''):         # --> it has its own init, which overrides the one from Deck\n",
    "        self.cards = []\n",
    "        self.label = label\n"
   ]
  },
  {
   "cell_type": "code",
   "execution_count": 51,
   "metadata": {},
   "outputs": [
    {
     "name": "stdout",
     "output_type": "stream",
     "text": [
      "[]\n"
     ]
    }
   ],
   "source": [
    "my_hand = Hand('new hand')\n",
    "\n",
    "print( my_hand.cards )\n"
   ]
  },
  {
   "cell_type": "code",
   "execution_count": 52,
   "metadata": {},
   "outputs": [
    {
     "name": "stdout",
     "output_type": "stream",
     "text": [
      "King of Spades\n"
     ]
    }
   ],
   "source": [
    "# we can add cards to our hand:\n",
    "deck = Deck()\n",
    "card = deck.pop_card()\n",
    "\n",
    "my_hand.add_card(card)\n",
    "print(my_hand)"
   ]
  },
  {
   "cell_type": "code",
   "execution_count": 53,
   "metadata": {},
   "outputs": [
    {
     "name": "stdout",
     "output_type": "stream",
     "text": [
      "King of Spades\n",
      "Queen of Spades\n"
     ]
    }
   ],
   "source": [
    "card = deck.pop_card()  # take another card (remember it's always from bottom here )\n",
    "\n",
    "my_hand.add_card(card)\n",
    "print(my_hand)"
   ]
  },
  {
   "cell_type": "code",
   "execution_count": 54,
   "metadata": {},
   "outputs": [
    {
     "name": "stdout",
     "output_type": "stream",
     "text": [
      "<class '__main__.Deck'>\n",
      "9 of Clubs\n",
      "King of Clubs\n",
      "2 of Diamonds\n",
      "6 of Spades\n",
      "10 of Spades\n"
     ]
    }
   ],
   "source": [
    "def find_defining_class(obj, method_name):\n",
    "    \"\"\"Finds and returns the class object that will provide \n",
    "    the definition of method_name (as a string) if it is\n",
    "    invoked on obj.\n",
    "\n",
    "    obj: any python object\n",
    "    method_name: string method name\n",
    "    \"\"\"\n",
    "    for ty in type(obj).mro():\n",
    "        if method_name in ty.__dict__:\n",
    "            return ty\n",
    "    return None\n",
    "\n",
    "\n",
    "# if we are in the main code do the following:\n",
    "\n",
    "if __name__ == '__main__':\n",
    "    deck = Deck()\n",
    "    deck.shuffle()\n",
    "\n",
    "    hand = Hand()\n",
    "    print(find_defining_class(hand, 'shuffle'))\n",
    "\n",
    "    deck.move_cards(hand, 5)\n",
    "    hand.sort()\n",
    "    print(hand)"
   ]
  },
  {
   "cell_type": "markdown",
   "metadata": {},
   "source": [
    "# ---------------------------------"
   ]
  },
  {
   "cell_type": "markdown",
   "metadata": {},
   "source": [
    "### an interlude on the \"_ _ main _ _\":  "
   ]
  },
  {
   "cell_type": "markdown",
   "metadata": {},
   "source": [
    "### You might have seen this before, sometimes printed in an error: \n",
    "\n",
    "Traceback (innermost last): <br>\n",
    "File \"test.py\", line 13, in _ _ main _ _ <br>\n",
    "File \"test.py\", line 5, in cat_twice <br>\n",
    "print_twice(cat) <br>\n",
    "\n",
    "source: ThinkPython2"
   ]
  },
  {
   "cell_type": "markdown",
   "metadata": {},
   "source": [
    "### the code tells you it encountered more than one errors, one in cat_twice and one in main (or < module > in Jupyter); as a reminder these were the codes\n",
    "\n"
   ]
  },
  {
   "cell_type": "code",
   "execution_count": 57,
   "metadata": {},
   "outputs": [
    {
     "name": "stdout",
     "output_type": "stream",
     "text": [
      "Bing tiddle tiddle bang.\n",
      "Bing tiddle tiddle bang.\n"
     ]
    },
    {
     "ename": "NameError",
     "evalue": "name 'cat' is not defined",
     "output_type": "error",
     "traceback": [
      "\u001b[0;31m---------------------------------------------------------------------------\u001b[0m",
      "\u001b[0;31mNameError\u001b[0m                                 Traceback (most recent call last)",
      "\u001b[0;32m<ipython-input-57-1c8cc067b90e>\u001b[0m in \u001b[0;36m<module>\u001b[0;34m\u001b[0m\n\u001b[1;32m     10\u001b[0m \u001b[0mline1\u001b[0m \u001b[0;34m=\u001b[0m \u001b[0;34m'Bing tiddle '\u001b[0m\u001b[0;34m\u001b[0m\u001b[0;34m\u001b[0m\u001b[0m\n\u001b[1;32m     11\u001b[0m \u001b[0mline2\u001b[0m \u001b[0;34m=\u001b[0m \u001b[0;34m'tiddle bang.'\u001b[0m\u001b[0;34m\u001b[0m\u001b[0;34m\u001b[0m\u001b[0m\n\u001b[0;32m---> 12\u001b[0;31m \u001b[0mcat_twice\u001b[0m\u001b[0;34m(\u001b[0m\u001b[0mline1\u001b[0m\u001b[0;34m,\u001b[0m \u001b[0mline2\u001b[0m\u001b[0;34m)\u001b[0m\u001b[0;34m\u001b[0m\u001b[0;34m\u001b[0m\u001b[0m\n\u001b[0m",
      "\u001b[0;32m<ipython-input-57-1c8cc067b90e>\u001b[0m in \u001b[0;36mcat_twice\u001b[0;34m(part1, part2)\u001b[0m\n\u001b[1;32m      6\u001b[0m \u001b[0;32mdef\u001b[0m \u001b[0mcat_twice\u001b[0m\u001b[0;34m(\u001b[0m\u001b[0mpart1\u001b[0m\u001b[0;34m,\u001b[0m \u001b[0mpart2\u001b[0m\u001b[0;34m)\u001b[0m\u001b[0;34m:\u001b[0m\u001b[0;34m\u001b[0m\u001b[0;34m\u001b[0m\u001b[0m\n\u001b[1;32m      7\u001b[0m     \u001b[0mcat\u001b[0m \u001b[0;34m=\u001b[0m \u001b[0mpart1\u001b[0m \u001b[0;34m+\u001b[0m \u001b[0mpart2\u001b[0m\u001b[0;34m\u001b[0m\u001b[0;34m\u001b[0m\u001b[0m\n\u001b[0;32m----> 8\u001b[0;31m     \u001b[0mprint_twice\u001b[0m\u001b[0;34m(\u001b[0m\u001b[0mcat\u001b[0m\u001b[0;34m)\u001b[0m\u001b[0;34m\u001b[0m\u001b[0;34m\u001b[0m\u001b[0m\n\u001b[0m\u001b[1;32m      9\u001b[0m \u001b[0;34m\u001b[0m\u001b[0m\n\u001b[1;32m     10\u001b[0m \u001b[0mline1\u001b[0m \u001b[0;34m=\u001b[0m \u001b[0;34m'Bing tiddle '\u001b[0m\u001b[0;34m\u001b[0m\u001b[0;34m\u001b[0m\u001b[0m\n",
      "\u001b[0;32m<ipython-input-57-1c8cc067b90e>\u001b[0m in \u001b[0;36mprint_twice\u001b[0;34m(bruce)\u001b[0m\n\u001b[1;32m      2\u001b[0m     \u001b[0mprint\u001b[0m\u001b[0;34m(\u001b[0m\u001b[0mbruce\u001b[0m\u001b[0;34m)\u001b[0m\u001b[0;34m\u001b[0m\u001b[0;34m\u001b[0m\u001b[0m\n\u001b[1;32m      3\u001b[0m     \u001b[0mprint\u001b[0m\u001b[0;34m(\u001b[0m\u001b[0mbruce\u001b[0m\u001b[0;34m)\u001b[0m\u001b[0;34m\u001b[0m\u001b[0;34m\u001b[0m\u001b[0m\n\u001b[0;32m----> 4\u001b[0;31m     \u001b[0mprint\u001b[0m\u001b[0;34m(\u001b[0m\u001b[0mcat\u001b[0m\u001b[0;34m)\u001b[0m\u001b[0;34m\u001b[0m\u001b[0;34m\u001b[0m\u001b[0m\n\u001b[0m\u001b[1;32m      5\u001b[0m \u001b[0;34m\u001b[0m\u001b[0m\n\u001b[1;32m      6\u001b[0m \u001b[0;32mdef\u001b[0m \u001b[0mcat_twice\u001b[0m\u001b[0;34m(\u001b[0m\u001b[0mpart1\u001b[0m\u001b[0;34m,\u001b[0m \u001b[0mpart2\u001b[0m\u001b[0;34m)\u001b[0m\u001b[0;34m:\u001b[0m\u001b[0;34m\u001b[0m\u001b[0;34m\u001b[0m\u001b[0m\n",
      "\u001b[0;31mNameError\u001b[0m: name 'cat' is not defined"
     ]
    }
   ],
   "source": [
    "def print_twice(bruce):\n",
    "    print(bruce)\n",
    "    print(bruce)\n",
    "    print(cat)\n",
    "    \n",
    "def cat_twice(part1, part2):\n",
    "    cat = part1 + part2\n",
    "    print_twice(cat)\n",
    "    \n",
    "line1 = 'Bing tiddle '\n",
    "line2 = 'tiddle bang.'\n",
    "cat_twice(line1, line2)"
   ]
  },
  {
   "cell_type": "code",
   "execution_count": 58,
   "metadata": {},
   "outputs": [
    {
     "name": "stdout",
     "output_type": "stream",
     "text": [
      "Bing tiddle tiddle bang.\n",
      "Bing tiddle tiddle bang.\n"
     ]
    },
    {
     "ename": "NameError",
     "evalue": "name 'cat' is not defined",
     "output_type": "error",
     "traceback": [
      "\u001b[0;31m---------------------------------------------------------------------------\u001b[0m",
      "\u001b[0;31mNameError\u001b[0m                                 Traceback (most recent call last)",
      "\u001b[0;32m<ipython-input-58-9502010936b5>\u001b[0m in \u001b[0;36m<module>\u001b[0;34m\u001b[0m\n\u001b[1;32m      7\u001b[0m     \u001b[0mline1\u001b[0m \u001b[0;34m=\u001b[0m \u001b[0;34m'Bing tiddle '\u001b[0m\u001b[0;34m\u001b[0m\u001b[0;34m\u001b[0m\u001b[0m\n\u001b[1;32m      8\u001b[0m     \u001b[0mline2\u001b[0m \u001b[0;34m=\u001b[0m \u001b[0;34m'tiddle bang.'\u001b[0m\u001b[0;34m\u001b[0m\u001b[0;34m\u001b[0m\u001b[0m\n\u001b[0;32m----> 9\u001b[0;31m     \u001b[0mcat_twice\u001b[0m\u001b[0;34m(\u001b[0m\u001b[0mline1\u001b[0m\u001b[0;34m,\u001b[0m \u001b[0mline2\u001b[0m\u001b[0;34m)\u001b[0m\u001b[0;34m\u001b[0m\u001b[0;34m\u001b[0m\u001b[0m\n\u001b[0m",
      "\u001b[0;32m~/phz3150/notebooks/random_prints.py\u001b[0m in \u001b[0;36mcat_twice\u001b[0;34m(part1, part2)\u001b[0m\n\u001b[1;32m      6\u001b[0m \u001b[0;32mdef\u001b[0m \u001b[0mcat_twice\u001b[0m\u001b[0;34m(\u001b[0m\u001b[0mpart1\u001b[0m\u001b[0;34m,\u001b[0m \u001b[0mpart2\u001b[0m\u001b[0;34m)\u001b[0m\u001b[0;34m:\u001b[0m\u001b[0;34m\u001b[0m\u001b[0;34m\u001b[0m\u001b[0m\n\u001b[1;32m      7\u001b[0m     \u001b[0mcat\u001b[0m \u001b[0;34m=\u001b[0m \u001b[0mpart1\u001b[0m \u001b[0;34m+\u001b[0m \u001b[0mpart2\u001b[0m\u001b[0;34m\u001b[0m\u001b[0;34m\u001b[0m\u001b[0m\n\u001b[0;32m----> 8\u001b[0;31m     \u001b[0mprint_twice\u001b[0m\u001b[0;34m(\u001b[0m\u001b[0mcat\u001b[0m\u001b[0;34m)\u001b[0m\u001b[0;34m\u001b[0m\u001b[0;34m\u001b[0m\u001b[0m\n\u001b[0m",
      "\u001b[0;32m~/phz3150/notebooks/random_prints.py\u001b[0m in \u001b[0;36mprint_twice\u001b[0;34m(bruce)\u001b[0m\n\u001b[1;32m      2\u001b[0m     \u001b[0mprint\u001b[0m\u001b[0;34m(\u001b[0m\u001b[0mbruce\u001b[0m\u001b[0;34m)\u001b[0m\u001b[0;34m\u001b[0m\u001b[0;34m\u001b[0m\u001b[0m\n\u001b[1;32m      3\u001b[0m     \u001b[0mprint\u001b[0m\u001b[0;34m(\u001b[0m\u001b[0mbruce\u001b[0m\u001b[0;34m)\u001b[0m\u001b[0;34m\u001b[0m\u001b[0;34m\u001b[0m\u001b[0m\n\u001b[0;32m----> 4\u001b[0;31m     \u001b[0mprint\u001b[0m\u001b[0;34m(\u001b[0m \u001b[0mcat\u001b[0m \u001b[0;34m)\u001b[0m\u001b[0;34m\u001b[0m\u001b[0;34m\u001b[0m\u001b[0m\n\u001b[0m\u001b[1;32m      5\u001b[0m \u001b[0;34m\u001b[0m\u001b[0m\n\u001b[1;32m      6\u001b[0m \u001b[0;32mdef\u001b[0m \u001b[0mcat_twice\u001b[0m\u001b[0;34m(\u001b[0m\u001b[0mpart1\u001b[0m\u001b[0;34m,\u001b[0m \u001b[0mpart2\u001b[0m\u001b[0;34m)\u001b[0m\u001b[0;34m:\u001b[0m\u001b[0;34m\u001b[0m\u001b[0;34m\u001b[0m\u001b[0m\n",
      "\u001b[0;31mNameError\u001b[0m: name 'cat' is not defined"
     ]
    }
   ],
   "source": [
    "## put them in random_prints.py and add a line to try to access cat from print_twice:\n",
    "## then call from my_main_code.py; or here:\n",
    "\n",
    "if __name__ == \"__main__\":       # if we are in the main part of the code:\n",
    "    from random_prints import *\n",
    "\n",
    "    line1 = 'Bing tiddle '\n",
    "    line2 = 'tiddle bang.'\n",
    "    cat_twice(line1, line2)"
   ]
  },
  {
   "cell_type": "code",
   "execution_count": null,
   "metadata": {},
   "outputs": [],
   "source": [
    "### The __name__ in Python is a special variable that defines the name of the class \n",
    "### or the current module from which it gets invoked....here it tells you which parts had bugs"
   ]
  },
  {
   "cell_type": "code",
   "execution_count": 57,
   "metadata": {},
   "outputs": [],
   "source": [
    "### DON'T RUN THIS IT WILL CRASH; IT'S JUST FOR SHOWING THE SYNTAX:\n",
    "\n",
    "#you can use this to create code that will only be run when they are the main code:\n",
    "\n",
    "#e.g., :\n",
    "# define stuff to run always here such as classes / functions that you can import elsewhere:\n",
    "def main_runs():\n",
    "    ........\n",
    "\n",
    "# define stuff that will only run when not called via 'import' here\n",
    "if __name__ == \"__main__\":\n",
    "\n",
    "    ..... main_runs()\n",
    "    ..........."
   ]
  },
  {
   "cell_type": "markdown",
   "metadata": {},
   "source": [
    "# ---------------------------------"
   ]
  },
  {
   "cell_type": "code",
   "execution_count": 59,
   "metadata": {},
   "outputs": [],
   "source": [
    "#Let's go back to Inheritance now; there are also cases where you might encounter \n",
    "# multilevel inheritance (parent, child, grandchild); e.g., :\n",
    "\n",
    "class my_basket :\n",
    "    \n",
    "    def __init__ ( self, items = 0 ) :\n",
    "        self.items = items\n",
    "        \n",
    "    def print_basket( self ):\n",
    "        return \"My basket has \" + str(self.items) + \" items.\" \n",
    "            \n",
    "        \n",
    "class my_liquids_basket ( my_basket ):\n",
    "    \n",
    "    def __init__(self, items, liquids = 0): \n",
    "        my_basket.__init__( self, items )    # you need to let your child class know that parent initiated\n",
    "        self.liquids = liquids \n",
    "        \n",
    "    def my_liquids ( self ):\n",
    "        return \"My baskets has \"+ str(self.liquids) +\" bottles.\"\n",
    "    \n",
    "    \n",
    "class prices( my_liquids_basket ):\n",
    "    \n",
    "    def __init__(self, items, liquids, price = 0 ):\n",
    "        my_liquids_basket.__init__( self, items, liquids ) # let grandchild know child is initiated \n",
    "        self.price = price \n",
    "        \n",
    "    def my_prices( self ) :\n",
    "        total_price = self.price * self.liquids\n",
    "        \n",
    "        return \"I will pay \", str(total_price), \" for it.\"\n",
    "    "
   ]
  },
  {
   "cell_type": "code",
   "execution_count": 60,
   "metadata": {},
   "outputs": [
    {
     "name": "stdout",
     "output_type": "stream",
     "text": [
      "My basket has 10 items.\n",
      "My baskets has 20 bottles.\n",
      "('I will pay ', '100', ' for it.')\n"
     ]
    }
   ],
   "source": [
    "q = prices (10, 20, 5)\n",
    "\n",
    "print( q.print_basket() )   # get the 10 items\n",
    "print( q.my_liquids() )     # get the 20 bottles\n",
    "print( q.my_prices() )      # at $5 each it is 100$ (for liquids)\n"
   ]
  },
  {
   "cell_type": "code",
   "execution_count": null,
   "metadata": {},
   "outputs": [],
   "source": []
  },
  {
   "cell_type": "code",
   "execution_count": 61,
   "metadata": {},
   "outputs": [
    {
     "name": "stdout",
     "output_type": "stream",
     "text": [
      "09:10:00\n"
     ]
    }
   ],
   "source": [
    "### you remember class Time from the top of the file?\n",
    "\n",
    "qtime = Time()\n",
    "qtime.hour = 9\n",
    "qtime.minute = 10\n",
    "print( qtime )"
   ]
  },
  {
   "cell_type": "code",
   "execution_count": 62,
   "metadata": {},
   "outputs": [
    {
     "name": "stdout",
     "output_type": "stream",
     "text": [
      "It is day:  10\n",
      "It is day:  10  at  09:12:00\n"
     ]
    }
   ],
   "source": [
    "# make a new class that is a child of timeclass \n",
    "\n",
    "class Timecard( Time ):\n",
    "    \n",
    "    def __init__(self, hour = 0 , minute = 0, second =0 , day = 0 ):\n",
    "        \n",
    "        Time.__init__(self, hour, minute, second)\n",
    "        \n",
    "        self.day = day\n",
    "        \n",
    "    def print_my_date( self ):\n",
    "        print( 'It is day: ', str( self.day) )\n",
    "\n",
    "        return self.day\n",
    "        \n",
    "tc = Timecard()\n",
    "tc.day = 10 \n",
    "tc.hour = 9 \n",
    "tc.minute = 12\n",
    "\n",
    "qq = tc.print_my_date()\n",
    "\n",
    "print( \"It is day: \" , qq , \" at \", tc )"
   ]
  },
  {
   "cell_type": "code",
   "execution_count": null,
   "metadata": {},
   "outputs": [],
   "source": []
  },
  {
   "cell_type": "code",
   "execution_count": 63,
   "metadata": {},
   "outputs": [],
   "source": [
    "### another example of inheritance:\n",
    "\n",
    "#make class polygon that defines the number of sides a polygon has \n",
    "class Polygon:\n",
    "    # initiate for unknown number of sides:\n",
    "    \n",
    "    def __init__( self, number_sides ):\n",
    "        self.num = number_sides\n",
    "        self.sides = []\n",
    "        for i in range( number_sides ) :\n",
    "            self.sides.append( 0 )\n",
    "\n",
    "    # asks for length of each side \n",
    "    def inputSides( self ):\n",
    "        \n",
    "        self.sides = []\n",
    "        for i in range( self.num ) :\n",
    "            q = float( input( \"Enter side \" + str( i+1 )+\" : \")) \n",
    "            self.sides.append( q )\n",
    " \n",
    "    # print what the polygon is:\n",
    "    \n",
    "    def kind_of_polygon( self ):\n",
    "        \n",
    "        if self.num == 3:\n",
    "            print( \"You got a triangle.\" )\n",
    "        elif self.num == 4:\n",
    "            print( \"You got a square.\" )\n",
    "        elif self.num < 3:\n",
    "            print( \"wrong number of sides! \" )\n",
    "        else:\n",
    "            print( \"Other polygon\" )"
   ]
  },
  {
   "cell_type": "code",
   "execution_count": 64,
   "metadata": {},
   "outputs": [],
   "source": [
    "# let's use it to make a child class triangle:\n",
    "class Triangle( Polygon ):\n",
    "    def __init__( self ):\n",
    "        Polygon.__init__( self, 3 )\n",
    "\n",
    "        \n",
    "    def findArea(self):\n",
    "        a, b, c = self.sides\n",
    "        # calculate the surface using Heron's formula  (e.g., https://www.mathopenref.com/heronsformula.html):\n",
    "        s = (a + b + c) / 2\n",
    "        area = np.sqrt( s * (s-a) * (s-b) * (s-c) ) \n",
    "        print('The area of the triangle is: ', area)"
   ]
  },
  {
   "cell_type": "code",
   "execution_count": 65,
   "metadata": {},
   "outputs": [],
   "source": [
    "t = Triangle() "
   ]
  },
  {
   "cell_type": "code",
   "execution_count": 66,
   "metadata": {},
   "outputs": [
    {
     "name": "stdout",
     "output_type": "stream",
     "text": [
      "Enter side 1 : 3\n",
      "Enter side 2 : 2\n",
      "Enter side 3 : 5\n"
     ]
    }
   ],
   "source": [
    "t.inputSides()"
   ]
  },
  {
   "cell_type": "code",
   "execution_count": 67,
   "metadata": {},
   "outputs": [
    {
     "name": "stdout",
     "output_type": "stream",
     "text": [
      "You got a triangle.\n"
     ]
    }
   ],
   "source": [
    "t.kind_of_polygon()"
   ]
  },
  {
   "cell_type": "code",
   "execution_count": 68,
   "metadata": {},
   "outputs": [
    {
     "name": "stdout",
     "output_type": "stream",
     "text": [
      "The area of the triangle is:  0.0\n"
     ]
    }
   ],
   "source": [
    "t.findArea()"
   ]
  },
  {
   "cell_type": "code",
   "execution_count": 69,
   "metadata": {},
   "outputs": [],
   "source": [
    "# let's use it to make a child class square:\n",
    "class Square( Polygon ):\n",
    "    def __init__( self ):\n",
    "        Polygon.__init__( self, 4 )\n",
    "\n",
    "        \n",
    "    def findArea(self):\n",
    "        a, b, c, d = self.sides\n",
    "        # calculate the surface: \n",
    "        area = a * b  \n",
    "        print('The area of the square is: ', area)"
   ]
  },
  {
   "cell_type": "code",
   "execution_count": 70,
   "metadata": {},
   "outputs": [],
   "source": [
    "s = Square()"
   ]
  },
  {
   "cell_type": "code",
   "execution_count": 71,
   "metadata": {},
   "outputs": [
    {
     "name": "stdout",
     "output_type": "stream",
     "text": [
      "Enter side 1 : 4\n",
      "Enter side 2 : 4\n",
      "Enter side 3 : 4\n",
      "Enter side 4 : 4\n"
     ]
    }
   ],
   "source": [
    "s.inputSides()"
   ]
  },
  {
   "cell_type": "code",
   "execution_count": 72,
   "metadata": {},
   "outputs": [
    {
     "name": "stdout",
     "output_type": "stream",
     "text": [
      "You got a square.\n"
     ]
    }
   ],
   "source": [
    "s.kind_of_polygon()"
   ]
  },
  {
   "cell_type": "code",
   "execution_count": 73,
   "metadata": {},
   "outputs": [
    {
     "name": "stdout",
     "output_type": "stream",
     "text": [
      "The area of the square is:  16.0\n"
     ]
    }
   ],
   "source": [
    "s.findArea()"
   ]
  },
  {
   "cell_type": "code",
   "execution_count": null,
   "metadata": {},
   "outputs": [],
   "source": []
  },
  {
   "cell_type": "code",
   "execution_count": null,
   "metadata": {},
   "outputs": [],
   "source": []
  },
  {
   "cell_type": "code",
   "execution_count": null,
   "metadata": {},
   "outputs": [],
   "source": []
  },
  {
   "cell_type": "code",
   "execution_count": null,
   "metadata": {},
   "outputs": [],
   "source": []
  },
  {
   "cell_type": "code",
   "execution_count": null,
   "metadata": {},
   "outputs": [],
   "source": [
    "\"\"\"This module contains a code example related to\n",
    "Think Python, 2nd Edition\n",
    "by Allen Downey\n",
    "http://thinkpython2.com\n",
    "Copyright 2015 Allen Downey\n",
    "License: http://creativecommons.org/licenses/by/4.0/\n",
    "\"\"\"\n",
    "\n",
    "from __future__ import print_function, division\n",
    "\n",
    "import sys\n",
    "import string\n",
    "import random\n",
    "\n",
    "# global variables\n",
    "suffix_map = {}        # map from prefixes to a list of suffixes\n",
    "prefix = ()            # current tuple of words\n",
    "\n",
    "\n",
    "def process_file(filename, order=2):\n",
    "    \"\"\"Reads a file and performs Markov analysis.\n",
    "    filename: string\n",
    "    order: integer number of words in the prefix\n",
    "    returns: map from prefix to list of possible suffixes.\n",
    "    \"\"\"\n",
    "    fp = open(filename)\n",
    "    skip_gutenberg_header(fp)\n",
    "\n",
    "    for line in fp:\n",
    "        if line.startswith('*** END OF THIS'): \n",
    "            break\n",
    "\n",
    "        for word in line.rstrip().split():\n",
    "            process_word(word, order)\n",
    "\n",
    "\n",
    "def skip_gutenberg_header(fp):\n",
    "    \"\"\"Reads from fp until it finds the line that ends the header.\n",
    "    fp: open file object\n",
    "    \"\"\"\n",
    "    for line in fp:\n",
    "        if line.startswith('*** START OF THIS'):\n",
    "            break\n",
    "\n",
    "\n",
    "def process_word(word, order=2):\n",
    "    \"\"\"Processes each word.\n",
    "    word: string\n",
    "    order: integer\n",
    "    During the first few iterations, all we do is store up the words; \n",
    "    after that we start adding entries to the dictionary.\n",
    "    \"\"\"\n",
    "    global prefix\n",
    "    if len(prefix) < order:\n",
    "        prefix += (word,)\n",
    "        return\n",
    "\n",
    "    try:\n",
    "        suffix_map[prefix].append(word)\n",
    "    except KeyError:\n",
    "        # if there is no entry for this prefix, make one\n",
    "        suffix_map[prefix] = [word]\n",
    "\n",
    "    prefix = shift(prefix, word)\n",
    "\n",
    "\n",
    "def random_text(n=100):\n",
    "    \"\"\"Generates random wordsfrom the analyzed text.\n",
    "    Starts with a random prefix from the dictionary.\n",
    "    n: number of words to generate\n",
    "    \"\"\"\n",
    "    # choose a random prefix (not weighted by frequency)\n",
    "    start = random.choice(list(suffix_map.keys()))\n",
    "    \n",
    "    for i in range(n):\n",
    "        suffixes = suffix_map.get(start, None)\n",
    "        if suffixes == None:\n",
    "            # if the start isn't in map, we got to the end of the\n",
    "            # original text, so we have to start again.\n",
    "            random_text(n-i)\n",
    "            return\n",
    "\n",
    "        # choose a random suffix\n",
    "        word = random.choice(suffixes)\n",
    "        print(word, end=' ')\n",
    "        start = shift(start, word)\n",
    "\n",
    "\n",
    "def shift(t, word):\n",
    "    \"\"\"Forms a new tuple by removing the head and adding word to the tail.\n",
    "    t: tuple of strings\n",
    "    word: string\n",
    "    Returns: tuple of strings\n",
    "    \"\"\"\n",
    "    return t[1:] + (word,)\n",
    "\n",
    "\n",
    "def main(script, filename='158-0.txt', n=100, order=2):\n",
    "    try:\n",
    "        n = int(n)\n",
    "        order = int(order)\n",
    "    except ValueError:\n",
    "        print('Usage: %d filename [# of words] [prefix length]' % script)\n",
    "    else: \n",
    "        process_file(filename, order)\n",
    "        random_text(n)\n",
    "        print()\n",
    "\n",
    "\n",
    "if __name__ == '__main__':\n",
    "    main(*sys.argv)"
   ]
  },
  {
   "cell_type": "code",
   "execution_count": null,
   "metadata": {},
   "outputs": [],
   "source": []
  },
  {
   "cell_type": "code",
   "execution_count": null,
   "metadata": {},
   "outputs": [],
   "source": []
  },
  {
   "cell_type": "markdown",
   "metadata": {},
   "source": [
    "### Practicum:"
   ]
  },
  {
   "cell_type": "markdown",
   "metadata": {},
   "source": [
    "### 2. Read in file random_data_pickle.pickle (see last week's demo for how to do it). If you know that it contains 3 columns, how do you unpickle the data into variable x,y, z in one line? Plot your y- z vs x."
   ]
  },
  {
   "cell_type": "code",
   "execution_count": 74,
   "metadata": {},
   "outputs": [],
   "source": []
  },
  {
   "cell_type": "code",
   "execution_count": 75,
   "metadata": {},
   "outputs": [],
   "source": []
  },
  {
   "cell_type": "code",
   "execution_count": null,
   "metadata": {},
   "outputs": [],
   "source": []
  },
  {
   "cell_type": "code",
   "execution_count": null,
   "metadata": {},
   "outputs": [],
   "source": []
  },
  {
   "cell_type": "code",
   "execution_count": null,
   "metadata": {},
   "outputs": [],
   "source": []
  },
  {
   "cell_type": "markdown",
   "metadata": {},
   "source": [
    "### 3. You have a water-air interface. Light comes in at an angle of 24 deg to the vertical. At what angle will it travel in the water (what is the angle of refraction)? \n",
    "\n",
    "### Make a function snell_angle that takes as input a list with the incoming angle of light, and the two refractive indices of the two materials the light moves to/from. The function should then use Snell's law to calculate the angle of refraction and return that angle. Remember that from Snell's law: $\\frac{\\sin\\theta_1}{\\sin\\theta_2} = \\frac{n2}{n1}$.  \n",
    "\n",
    "### Call the function for light moving from air to water with an angle of incidence of 24 degrees (remember that the refractive indices of water and air are approximately 1.333 and 1).  \n",
    "\n",
    "### What will the angle of refraction be for light moving from air to an acrylic surface ( $n_2$  = 1.49) for the same incidence angle? \n",
    "\n"
   ]
  },
  {
   "cell_type": "code",
   "execution_count": null,
   "metadata": {},
   "outputs": [],
   "source": []
  },
  {
   "cell_type": "code",
   "execution_count": null,
   "metadata": {},
   "outputs": [],
   "source": []
  },
  {
   "cell_type": "code",
   "execution_count": null,
   "metadata": {},
   "outputs": [],
   "source": []
  },
  {
   "cell_type": "code",
   "execution_count": null,
   "metadata": {},
   "outputs": [],
   "source": []
  },
  {
   "cell_type": "code",
   "execution_count": null,
   "metadata": {},
   "outputs": [],
   "source": []
  },
  {
   "cell_type": "markdown",
   "metadata": {},
   "source": [
    "### 4. Get file test_input.dat Make a code that reads it line by line, and: \n",
    "- if the line has more than 50 characters it prints the amount of a-s and w-s the line has and the words that have a c\n",
    "- if the line has less than 24 characters it will print the words that have an e"
   ]
  },
  {
   "cell_type": "code",
   "execution_count": null,
   "metadata": {},
   "outputs": [],
   "source": []
  },
  {
   "cell_type": "code",
   "execution_count": null,
   "metadata": {},
   "outputs": [],
   "source": []
  },
  {
   "cell_type": "markdown",
   "metadata": {},
   "source": [
    "### 5. Let's revisit this sentence:  \"\"\" Deleting an item from a list or array while iterating over it is a Python problem that is well known to any experienced software developer \"\"\" . Make a code that scans only the first 6 words (so “\"Deleting an item from a list”) and prints only the UNIQUE letters in this part of the sentence\n"
   ]
  },
  {
   "cell_type": "code",
   "execution_count": 1,
   "metadata": {},
   "outputs": [],
   "source": [
    "scan_me = \"\"\"Deleting an item from a list\"\"\"\n",
    "\n"
   ]
  },
  {
   "cell_type": "code",
   "execution_count": null,
   "metadata": {},
   "outputs": [],
   "source": []
  },
  {
   "cell_type": "markdown",
   "metadata": {},
   "source": [
    "### 6. In the early 17th century Kepler used observations of the motions of planets in our Solar System to derive his now famous laws of planetary motion. According to these laws, all planets in our Solar system move around in elliptical orbits with the Sun in one focus (1st law), their speed varies along the orbit with the further they are from the Sun the slower they move (2nd law) and their orbits are such that the square of their period is proportional to the cube of their (average) distance to the Sun (3rd law). Here you will test the validity of the 3rd law to planets of our Solar system!\n",
    "\n",
    "\n",
    "### Make a function called kepler_3rd(period) that gets as input the orbital period of a planet in years and returns the orbital distance of a planet to the Sun. This function should use the simple approximation for the 3rd law: $P^2\\sim\\alpha^3$, since it will focus on planets of our Solar system. From Kepler’s 3rd law $\\frac{P^2}{\\alpha^3}= $ constant, so you can deduce that $\\frac{P_1^2}{P_2^2}=\\frac{\\alpha_1^3}{a_2^3}$.  Use this equation in your function. Write an appropriate docstring. \n",
    "\n",
    "\n",
    "### Use the (P,α) properties of our Earth as the reference point (P1,α1). Remember that the period of our Earth is 1 year or 365.25 days and a_orb = 1 AU (1 Astronomical Unit ~ 150,000,000km or 92,967,000 miles).  Make a dictionary planets that  has as keys the names of the planets and as values their orbital period in days or years (see table). Use the dictionary and the function to calculate the distances of all the planets of our Solar system. Save all calculated distances in array a_planet.\n",
    "\n",
    "\n",
    "\n",
    "\n",
    "Planet | Period [days] \n",
    "--|:---------:\n",
    "Mercury\t| 87.96\n",
    "Venus\t| 224.7 \n",
    "Mars\t| 686.97 \n",
    "Jupiter\t| 4332.82 \n",
    "Saturn\t| 10775.6\n",
    "Uranus\t| 30687.15\n",
    "Neptune\t| 60190.03\n",
    "\n",
    "\n",
    "### How do the values you get compare to the actual distances of the planets (0.4 AU ; 0.7 AU ; 1.524 AU ;  5.2 AU ; 9.6 AU ;  19.2 AU and 30.1AU ) ? Make a plot that compares the real distances with the ones you retrieve from Kepler's law. Use the names of the planets as tick labels on the x axis."
   ]
  },
  {
   "cell_type": "code",
   "execution_count": 97,
   "metadata": {},
   "outputs": [],
   "source": []
  },
  {
   "cell_type": "code",
   "execution_count": 115,
   "metadata": {},
   "outputs": [],
   "source": []
  },
  {
   "cell_type": "code",
   "execution_count": 139,
   "metadata": {},
   "outputs": [],
   "source": []
  },
  {
   "cell_type": "code",
   "execution_count": null,
   "metadata": {},
   "outputs": [],
   "source": []
  },
  {
   "cell_type": "code",
   "execution_count": null,
   "metadata": {},
   "outputs": [],
   "source": []
  },
  {
   "cell_type": "code",
   "execution_count": null,
   "metadata": {},
   "outputs": [],
   "source": []
  },
  {
   "cell_type": "code",
   "execution_count": null,
   "metadata": {},
   "outputs": [],
   "source": []
  },
  {
   "cell_type": "code",
   "execution_count": null,
   "metadata": {},
   "outputs": [],
   "source": []
  }
 ],
 "metadata": {
  "kernelspec": {
   "display_name": "Python 3",
   "language": "python",
   "name": "python3"
  },
  "language_info": {
   "codemirror_mode": {
    "name": "ipython",
    "version": 3
   },
   "file_extension": ".py",
   "mimetype": "text/x-python",
   "name": "python",
   "nbconvert_exporter": "python",
   "pygments_lexer": "ipython3",
   "version": "3.7.3"
  }
 },
 "nbformat": 4,
 "nbformat_minor": 2
}
