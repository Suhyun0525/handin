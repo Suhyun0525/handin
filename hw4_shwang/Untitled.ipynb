{
 "cells": [
  {
   "cell_type": "code",
   "execution_count": 1,
   "id": "56121157",
   "metadata": {},
   "outputs": [],
   "source": [
    "my_first_list = []"
   ]
  },
  {
   "cell_type": "code",
   "execution_count": 2,
   "id": "c0bd694d",
   "metadata": {},
   "outputs": [
    {
     "data": {
      "text/plain": [
       "list"
      ]
     },
     "execution_count": 2,
     "metadata": {},
     "output_type": "execute_result"
    }
   ],
   "source": [
    "type( my_first_list )"
   ]
  },
  {
   "cell_type": "code",
   "execution_count": 14,
   "id": "5559c9ec",
   "metadata": {},
   "outputs": [],
   "source": [
    "my_first_list[ 0 : 5 ] = [ 0, 1, 2, 3, 2]\n",
    "my_first_list[ 5 : 11 ] = [ 14, 15, 8, 7, 6, 9 ]"
   ]
  },
  {
   "cell_type": "code",
   "execution_count": 15,
   "id": "6f020258",
   "metadata": {},
   "outputs": [
    {
     "name": "stdout",
     "output_type": "stream",
     "text": [
      "[0, 1, 2, 3, 2, 14, 15, 8, 7, 6, 9]\n"
     ]
    }
   ],
   "source": [
    "print(my_first_list)"
   ]
  },
  {
   "cell_type": "code",
   "execution_count": 16,
   "id": "8a8aadfa",
   "metadata": {},
   "outputs": [
    {
     "data": {
      "text/plain": [
       "14"
      ]
     },
     "execution_count": 16,
     "metadata": {},
     "output_type": "execute_result"
    }
   ],
   "source": [
    "my_first_list[ 5 ]"
   ]
  },
  {
   "cell_type": "code",
   "execution_count": 26,
   "id": "40baf8b2",
   "metadata": {},
   "outputs": [
    {
     "data": {
      "text/plain": [
       "9"
      ]
     },
     "execution_count": 26,
     "metadata": {},
     "output_type": "execute_result"
    }
   ],
   "source": [
    "my_first_list[ 10 ]"
   ]
  },
  {
   "cell_type": "code",
   "execution_count": 33,
   "id": "632934b6",
   "metadata": {},
   "outputs": [
    {
     "name": "stdout",
     "output_type": "stream",
     "text": [
      "[0, 1, 2, 3, 2, 14, 15, 8, 7, 6, 9, 89, 89, 89, 89, 89, 9, 9, 9, 89, 89]\n"
     ]
    }
   ],
   "source": [
    "my_first_list.append( 89 )\n",
    "print( my_first_list )"
   ]
  },
  {
   "cell_type": "code",
   "execution_count": 34,
   "id": "340ab664",
   "metadata": {},
   "outputs": [
    {
     "ename": "NameError",
     "evalue": "name 'true' is not defined",
     "output_type": "error",
     "traceback": [
      "\u001b[1;31m---------------------------------------------------------------------------\u001b[0m",
      "\u001b[1;31mNameError\u001b[0m                                 Traceback (most recent call last)",
      "\u001b[1;32m<ipython-input-34-cd4a3738af4c>\u001b[0m in \u001b[0;36m<module>\u001b[1;34m\u001b[0m\n\u001b[1;32m----> 1\u001b[1;33m \u001b[0mmy_first_list\u001b[0m\u001b[1;33m.\u001b[0m\u001b[0msort\u001b[0m\u001b[1;33m(\u001b[0m\u001b[0mreverse\u001b[0m\u001b[1;33m=\u001b[0m\u001b[0mtrue\u001b[0m \u001b[1;33m)\u001b[0m\u001b[1;33m\u001b[0m\u001b[1;33m\u001b[0m\u001b[0m\n\u001b[0m",
      "\u001b[1;31mNameError\u001b[0m: name 'true' is not defined"
     ]
    }
   ],
   "source": [
    "my_first_list.sort(reverse=true )"
   ]
  },
  {
   "cell_type": "code",
   "execution_count": 41,
   "id": "e1636e68",
   "metadata": {},
   "outputs": [],
   "source": [
    "candy_list = []"
   ]
  },
  {
   "cell_type": "code",
   "execution_count": 42,
   "id": "db60db64",
   "metadata": {},
   "outputs": [
    {
     "data": {
      "text/plain": [
       "list"
      ]
     },
     "execution_count": 42,
     "metadata": {},
     "output_type": "execute_result"
    }
   ],
   "source": [
    "type( candy_list )"
   ]
  },
  {
   "cell_type": "code",
   "execution_count": 43,
   "id": "dd33f03e",
   "metadata": {},
   "outputs": [],
   "source": [
    "candy_list[ 0 : 5 ] = [ 0, 1, 2, 3, 4 ]\n",
    "candy_list[ 5 : 10 ] = [ 5, 6, 7, 8, 9 ]"
   ]
  },
  {
   "cell_type": "code",
   "execution_count": 44,
   "id": "db148c3d",
   "metadata": {},
   "outputs": [
    {
     "name": "stdout",
     "output_type": "stream",
     "text": [
      "[0, 1, 2, 3, 4, 5, 6, 7, 8, 9]\n"
     ]
    }
   ],
   "source": [
    "print( candy_list )"
   ]
  },
  {
   "cell_type": "code",
   "execution_count": 45,
   "id": "220f87cb",
   "metadata": {},
   "outputs": [
    {
     "data": {
      "text/plain": [
       "5"
      ]
     },
     "execution_count": 45,
     "metadata": {},
     "output_type": "execute_result"
    }
   ],
   "source": [
    "candy_list[ 5 ]"
   ]
  },
  {
   "cell_type": "code",
   "execution_count": 46,
   "id": "f2a00c8b",
   "metadata": {},
   "outputs": [
    {
     "data": {
      "text/plain": [
       "9"
      ]
     },
     "execution_count": 46,
     "metadata": {},
     "output_type": "execute_result"
    }
   ],
   "source": [
    "candy_list[ 9 ]"
   ]
  },
  {
   "cell_type": "code",
   "execution_count": 47,
   "id": "15e4a6c4",
   "metadata": {},
   "outputs": [],
   "source": [
    "candy_list.append( 55 )"
   ]
  },
  {
   "cell_type": "code",
   "execution_count": 48,
   "id": "ba65e16f",
   "metadata": {},
   "outputs": [
    {
     "name": "stdout",
     "output_type": "stream",
     "text": [
      "[0, 1, 2, 3, 4, 5, 6, 7, 8, 9, 55]\n"
     ]
    }
   ],
   "source": [
    "print( candy_list )"
   ]
  },
  {
   "cell_type": "code",
   "execution_count": 52,
   "id": "7e4fa248",
   "metadata": {},
   "outputs": [],
   "source": [
    "candy_list[2]=7"
   ]
  },
  {
   "cell_type": "code",
   "execution_count": 53,
   "id": "4d325425",
   "metadata": {},
   "outputs": [
    {
     "name": "stdout",
     "output_type": "stream",
     "text": [
      "[0, 1, 7, 3, 4, 5, 6, 7, 8, 9, 55]\n"
     ]
    }
   ],
   "source": [
    "print( candy_list )"
   ]
  },
  {
   "cell_type": "code",
   "execution_count": 54,
   "id": "1fba1fd2",
   "metadata": {},
   "outputs": [],
   "source": [
    "candy_list.append( [3,6,9])"
   ]
  },
  {
   "cell_type": "code",
   "execution_count": 55,
   "id": "cd3d3afb",
   "metadata": {},
   "outputs": [
    {
     "name": "stdout",
     "output_type": "stream",
     "text": [
      "[0, 1, 7, 3, 4, 5, 6, 7, 8, 9, 55, [3, 6, 9]]\n"
     ]
    }
   ],
   "source": [
    "print(candy_list)"
   ]
  },
  {
   "cell_type": "code",
   "execution_count": 57,
   "id": "c029769d",
   "metadata": {},
   "outputs": [],
   "source": [
    "chocolate_list = [ 1,2,3,4]\n",
    "strawberry_list = chocolate_list"
   ]
  },
  {
   "cell_type": "code",
   "execution_count": 58,
   "id": "74bc540e",
   "metadata": {},
   "outputs": [
    {
     "name": "stdout",
     "output_type": "stream",
     "text": [
      "[1, 2, 3, 4] [1, 2, 3, 4]\n"
     ]
    }
   ],
   "source": [
    "print(chocolate_list,strawberry_list)"
   ]
  },
  {
   "cell_type": "code",
   "execution_count": 59,
   "id": "2492a0c1",
   "metadata": {},
   "outputs": [],
   "source": [
    "chocolate_list.append(7)"
   ]
  },
  {
   "cell_type": "code",
   "execution_count": 60,
   "id": "8bdd98e5",
   "metadata": {},
   "outputs": [
    {
     "name": "stdout",
     "output_type": "stream",
     "text": [
      "[1, 2, 3, 4, 7] [1, 2, 3, 4, 7]\n"
     ]
    }
   ],
   "source": [
    "print(chocolate_list,strawberry_list)"
   ]
  },
  {
   "cell_type": "code",
   "execution_count": 61,
   "id": "b2284a70",
   "metadata": {},
   "outputs": [],
   "source": [
    "import copy\n",
    "cake_list = copy.copy(chocolate_list)"
   ]
  },
  {
   "cell_type": "code",
   "execution_count": 62,
   "id": "0c96ec28",
   "metadata": {},
   "outputs": [],
   "source": [
    "chocolate_list.remove(4)"
   ]
  },
  {
   "cell_type": "code",
   "execution_count": 63,
   "id": "e4970f47",
   "metadata": {},
   "outputs": [
    {
     "name": "stdout",
     "output_type": "stream",
     "text": [
      "[1, 2, 3, 7] [1, 2, 3, 7] [1, 2, 3, 4, 7]\n"
     ]
    }
   ],
   "source": [
    "print(chocolate_list, strawberry_list, cake_list)"
   ]
  },
  {
   "cell_type": "code",
   "execution_count": 64,
   "id": "c5fe19c0",
   "metadata": {},
   "outputs": [
    {
     "data": {
      "text/plain": [
       "[3, 4]"
      ]
     },
     "execution_count": 64,
     "metadata": {},
     "output_type": "execute_result"
    }
   ],
   "source": [
    "cake_list[2:4]"
   ]
  },
  {
   "cell_type": "code",
   "execution_count": 65,
   "id": "3c2c2f90",
   "metadata": {},
   "outputs": [
    {
     "data": {
      "text/plain": [
       "[2, 3, 4, 7]"
      ]
     },
     "execution_count": 65,
     "metadata": {},
     "output_type": "execute_result"
    }
   ],
   "source": [
    "cake_list[1:5]"
   ]
  },
  {
   "cell_type": "code",
   "execution_count": 66,
   "id": "4ea8dbef",
   "metadata": {},
   "outputs": [],
   "source": [
    "God_I_love_you_list=[1,2,3,4]\n",
    "Jesus_I_love_you_tuple=[1,2,3,4]"
   ]
  },
  {
   "cell_type": "code",
   "execution_count": 67,
   "id": "26ed35a3",
   "metadata": {},
   "outputs": [
    {
     "data": {
      "text/plain": [
       "(list, list)"
      ]
     },
     "execution_count": 67,
     "metadata": {},
     "output_type": "execute_result"
    }
   ],
   "source": [
    "type(God_I_love_you_list), type(Jesus_I_love_you_tuple)"
   ]
  },
  {
   "cell_type": "code",
   "execution_count": 70,
   "id": "e8b27174",
   "metadata": {},
   "outputs": [],
   "source": [
    "velocity_list = list( range(1,100,10) )"
   ]
  },
  {
   "cell_type": "code",
   "execution_count": 71,
   "id": "d572b01c",
   "metadata": {},
   "outputs": [
    {
     "data": {
      "text/plain": [
       "81"
      ]
     },
     "execution_count": 71,
     "metadata": {},
     "output_type": "execute_result"
    }
   ],
   "source": [
    "velocity_list[8]"
   ]
  },
  {
   "cell_type": "code",
   "execution_count": 72,
   "id": "7354ea43",
   "metadata": {},
   "outputs": [
    {
     "data": {
      "text/plain": [
       "[51, 61, 71]"
      ]
     },
     "execution_count": 72,
     "metadata": {},
     "output_type": "execute_result"
    }
   ],
   "source": [
    "velocity_list[5:8]"
   ]
  },
  {
   "cell_type": "code",
   "execution_count": 73,
   "id": "162fe037",
   "metadata": {},
   "outputs": [
    {
     "ename": "SyntaxError",
     "evalue": "invalid syntax (<ipython-input-73-5fd13e55679f>, line 1)",
     "output_type": "error",
     "traceback": [
      "\u001b[1;36m  File \u001b[1;32m\"<ipython-input-73-5fd13e55679f>\"\u001b[1;36m, line \u001b[1;32m1\u001b[0m\n\u001b[1;33m    v_list = [ 1 : 100, 10]\u001b[0m\n\u001b[1;37m                 ^\u001b[0m\n\u001b[1;31mSyntaxError\u001b[0m\u001b[1;31m:\u001b[0m invalid syntax\n"
     ]
    }
   ],
   "source": [
    "v_list = [ 1 : 100, 10]"
   ]
  },
  {
   "cell_type": "code",
   "execution_count": 78,
   "id": "ec5ab53e",
   "metadata": {},
   "outputs": [
    {
     "ename": "ModuleNotFoundError",
     "evalue": "No module named 'hw4_shwang.ipynb'",
     "output_type": "error",
     "traceback": [
      "\u001b[1;31m---------------------------------------------------------------------------\u001b[0m",
      "\u001b[1;31mModuleNotFoundError\u001b[0m                       Traceback (most recent call last)",
      "\u001b[1;32m<ipython-input-78-b686e71fb849>\u001b[0m in \u001b[0;36m<module>\u001b[1;34m\u001b[0m\n\u001b[1;32m----> 1\u001b[1;33m \u001b[1;32mimport\u001b[0m \u001b[0mhw4_shwang\u001b[0m\u001b[1;33m.\u001b[0m\u001b[0mipynb\u001b[0m \u001b[1;32mas\u001b[0m \u001b[0mplt\u001b[0m\u001b[1;33m\u001b[0m\u001b[1;33m\u001b[0m\u001b[0m\n\u001b[0m",
      "\u001b[1;31mModuleNotFoundError\u001b[0m: No module named 'hw4_shwang.ipynb'"
     ]
    }
   ],
   "source": [
    "import hw4_shwang.ipynb as plt"
   ]
  },
  {
   "cell_type": "code",
   "execution_count": null,
   "id": "c1672566",
   "metadata": {},
   "outputs": [],
   "source": []
  }
 ],
 "metadata": {
  "kernelspec": {
   "display_name": "Python 3",
   "language": "python",
   "name": "python3"
  },
  "language_info": {
   "codemirror_mode": {
    "name": "ipython",
    "version": 3
   },
   "file_extension": ".py",
   "mimetype": "text/x-python",
   "name": "python",
   "nbconvert_exporter": "python",
   "pygments_lexer": "ipython3",
   "version": "3.7.11"
  }
 },
 "nbformat": 4,
 "nbformat_minor": 5
}
