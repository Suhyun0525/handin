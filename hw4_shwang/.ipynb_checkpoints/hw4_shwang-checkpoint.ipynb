{
 "cells": [
  {
   "cell_type": "markdown",
   "id": "ba65b576",
   "metadata": {},
   "source": [
    "# Suhyun Hwang"
   ]
  },
  {
   "cell_type": "markdown",
   "id": "d3430963",
   "metadata": {},
   "source": [
    "# Homework 4"
   ]
  },
  {
   "cell_type": "markdown",
   "id": "9f22b193",
   "metadata": {},
   "source": [
    "# Tuesday Sep 14, 2021 "
   ]
  },
  {
   "cell_type": "markdown",
   "id": "e1d8a8ff",
   "metadata": {},
   "source": [
    "#### Problem 2:\n",
    "\n",
    "#### We have a body of mass m(kg). When a force F(N) acts on it, according to Newton’s second law, the body will get an acceleration a(m/s2). Remember that F=ma. Write an expression that 1. Calculate F for the following mass and acceleration pairs: \n",
    "\n",
    "m [kg]  |  a [m/s**2]\n",
    "-------:|:------------:\n",
    "10      |5\n",
    "15      |10\n",
    "20      |5\n",
    "40      |3"
   ]
  },
  {
   "cell_type": "code",
   "execution_count": 1,
   "id": "569ed6e5",
   "metadata": {},
   "outputs": [
    {
     "name": "stdout",
     "output_type": "stream",
     "text": [
      "Problem 2\n"
     ]
    }
   ],
   "source": [
    "print ( 'Problem 2' )\n",
    "#Write the expression: F = m * a"
   ]
  },
  {
   "cell_type": "code",
   "execution_count": 21,
   "id": "1089abb7",
   "metadata": {},
   "outputs": [],
   "source": [
    "def force_calculator(mass, acc):\n",
    "    force = (mass * acc)\n",
    "    return force"
   ]
  },
  {
   "cell_type": "code",
   "execution_count": 12,
   "id": "8b94e987",
   "metadata": {},
   "outputs": [],
   "source": [
    "def force_to_acceleration(mass, force):\n",
    "    acc = (force / mass) \n",
    "    return acc"
   ]
  },
  {
   "cell_type": "code",
   "execution_count": 24,
   "id": "d10f75f4",
   "metadata": {},
   "outputs": [
    {
     "name": "stdout",
     "output_type": "stream",
     "text": [
      "50\n",
      "150\n",
      "100\n",
      "120\n"
     ]
    }
   ],
   "source": [
    "force = force_calculator(10, 5)\n",
    "print (force)\n",
    "force = force_calculator(15, 10)\n",
    "print (force)\n",
    "force = force_calculator(20, 5)\n",
    "print (force)\n",
    "force = force_calculator(40, 3)\n",
    "print (force)"
   ]
  },
  {
   "cell_type": "code",
   "execution_count": 20,
   "id": "077bdb0b",
   "metadata": {},
   "outputs": [
    {
     "name": "stdout",
     "output_type": "stream",
     "text": [
      "0.6666666666666666\n",
      "0.14666666666666667\n",
      "3.0\n"
     ]
    }
   ],
   "source": [
    "acc = force_to_acceleration(150, 100)\n",
    "print (acc)\n",
    "acc = force_to_acceleration(150, 22)\n",
    "print (acc)\n",
    "acc = force_to_acceleration(150, 450)\n",
    "print (acc)"
   ]
  }
 ],
 "metadata": {
  "kernelspec": {
   "display_name": "Python 3",
   "language": "python",
   "name": "python3"
  },
  "language_info": {
   "codemirror_mode": {
    "name": "ipython",
    "version": 3
   },
   "file_extension": ".py",
   "mimetype": "text/x-python",
   "name": "python",
   "nbconvert_exporter": "python",
   "pygments_lexer": "ipython3",
   "version": "3.7.11"
  }
 },
 "nbformat": 4,
 "nbformat_minor": 5
}
