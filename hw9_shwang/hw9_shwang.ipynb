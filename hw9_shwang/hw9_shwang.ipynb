{
 "cells": [
  {
   "cell_type": "markdown",
   "id": "a2cf7117",
   "metadata": {},
   "source": [
    "# Homework 9"
   ]
  },
  {
   "cell_type": "markdown",
   "id": "efe68026",
   "metadata": {},
   "source": [
    "# Suhyun Hwang"
   ]
  },
  {
   "cell_type": "markdown",
   "id": "28a4c9ef",
   "metadata": {},
   "source": [
    "# 28 Oct 2021"
   ]
  },
  {
   "cell_type": "markdown",
   "id": "a836e64d",
   "metadata": {},
   "source": [
    "#### Problem 2"
   ]
  },
  {
   "cell_type": "code",
   "execution_count": 36,
   "id": "0febe3ff",
   "metadata": {},
   "outputs": [
    {
     "name": "stdout",
     "output_type": "stream",
     "text": [
      "Problem 2\n"
     ]
    }
   ],
   "source": [
    "print('Problem 2')"
   ]
  },
  {
   "cell_type": "code",
   "execution_count": 2,
   "id": "6ff7f267",
   "metadata": {},
   "outputs": [],
   "source": [
    "import numpy as np"
   ]
  },
  {
   "cell_type": "code",
   "execution_count": 3,
   "id": "05df76ce",
   "metadata": {},
   "outputs": [],
   "source": [
    "sports = np.array([1500,40000,10000])"
   ]
  },
  {
   "cell_type": "code",
   "execution_count": 4,
   "id": "a43ce528",
   "metadata": {},
   "outputs": [],
   "source": [
    "athletes = {'Mary': 0,'John': 1,'Peter': 2,'Mafalda': 3,'Paul': 4,'Lionel': 5} "
   ]
  },
  {
   "cell_type": "code",
   "execution_count": 5,
   "id": "07f8c00d",
   "metadata": {},
   "outputs": [],
   "source": [
    "athletes2 = { 0: 'Mary', 1: 'John', 2: 'Peter', 3: 'Mafalda', 4: 'Paul', 5: 'Lionel'} "
   ]
  },
  {
   "cell_type": "code",
   "execution_count": 6,
   "id": "f48bca0a",
   "metadata": {},
   "outputs": [],
   "source": [
    "athletes_times = np.array([[1,1.204, 6.6, 0.32], [2,1.212, 6.5, 0.36],[3,1.14,6.6,0.38],\n",
    "                           [4,1.12,6.2,0.38],[5,1.24,5.6,0.4],[6,1.201,6.0,0.3]])"
   ]
  },
  {
   "cell_type": "code",
   "execution_count": 12,
   "id": "edd6819b",
   "metadata": {},
   "outputs": [
    {
     "name": "stdout",
     "output_type": "stream",
     "text": [
      "1.204 6.6 0.32\n",
      "1.212 6.5 0.36\n",
      "1.14 6.6 0.38\n",
      "1.12 6.2 0.38\n",
      "1.24 5.6 0.4\n",
      "1.201 6.0 0.3\n"
     ]
    }
   ],
   "source": [
    "for i in range(0, 6):\n",
    "    print(athletes_times[i, 1], athletes_times[i, 2], athletes_times[i, 3] )"
   ]
  },
  {
   "cell_type": "code",
   "execution_count": 14,
   "id": "1b741bb9",
   "metadata": {},
   "outputs": [
    {
     "name": "stdout",
     "output_type": "stream",
     "text": [
      "3\n",
      "3\n",
      "3\n",
      "3\n",
      "3\n",
      "3\n"
     ]
    }
   ],
   "source": [
    "for i in range(0, 6):\n",
    "    for j in [i:4]:\n",
    "        print(j[4])"
   ]
  },
  {
   "cell_type": "code",
   "execution_count": 13,
   "id": "82678e2f",
   "metadata": {},
   "outputs": [
    {
     "name": "stdout",
     "output_type": "stream",
     "text": [
      "[2.    1.212 6.5   0.36 ]\n"
     ]
    }
   ],
   "source": [
    "print(athletes_times[1])"
   ]
  },
  {
   "cell_type": "code",
   "execution_count": null,
   "id": "7bd0cf2e",
   "metadata": {},
   "outputs": [],
   "source": [
    "for i in range(0, 6):\n",
    "    print(my_data[i, 1], my_data[i, 2], my_data[i, 3] )"
   ]
  },
  {
   "cell_type": "code",
   "execution_count": 230,
   "id": "e8aa2a6c",
   "metadata": {},
   "outputs": [],
   "source": [
    "athletes_times = np.array([[1,1.204, 6.6, 0.32], [2,1.212, 6.5, 0.36],[3,1.14,6.6,0.38],\n",
    "                           [4,1.12,6.2,0.38],[5,1.24,5.6,0.4],[6,1.201,6.0,0.3]])"
   ]
  },
  {
   "cell_type": "code",
   "execution_count": 231,
   "id": "6842048b",
   "metadata": {},
   "outputs": [],
   "source": [
    "def triathlon_time(sports,athletes_times):\n",
    "    \"\"\"Function that takes input as \n",
    "    \"\"\"\n",
    "    total_time = np.empty(6, dtype=object) \n",
    "    for i in range(0, 6):\n",
    "        \n",
    "        swim = sports[0] / athletes_times[i, 1]\n",
    "        bike = sports[1] / athletes_times[i, 2] \n",
    "        run = sports[2] / athletes_times[i, 3]\n",
    "        total_time[i] = (swim + bike + run)\n",
    "    \n",
    "    min_time = np.min(total_time)\n",
    "    for i in range(len(total_time)):\n",
    "        if total_time[i] == min_time:\n",
    "            min_ID = i\n",
    "            \n",
    "        \n",
    "    max_time = np.max(total_time)\n",
    "    for i in range(len(total_time)):\n",
    "        if total_time[i] == max_time:\n",
    "            max_ID = i\n",
    "    \n",
    "    min_time_hours = float(min_time / 3600)\n",
    "    max_time_hours = float(max_time / 3600)\n",
    "    \n",
    "    min_time_hours = round(min_time_hours, 1)\n",
    "    max_time_hours = round(max_time_hours, 1)\n",
    "    \n",
    "    print(athletes2[min_ID], \"will finish first in\", min_time_hours, \"hours and\", athletes2[max_ID], \"will finish last in\", max_time_hours, \"hours\")"
   ]
  },
  {
   "cell_type": "code",
   "execution_count": 232,
   "id": "59377c66",
   "metadata": {},
   "outputs": [
    {
     "name": "stdout",
     "output_type": "stream",
     "text": [
      "Paul will finish first in 9.3 hours and Lionel will finish last in 11.5 hours\n"
     ]
    }
   ],
   "source": [
    "triathlon_time(sports, athletes_times)"
   ]
  },
  {
   "cell_type": "code",
   "execution_count": null,
   "id": "b010b1dc",
   "metadata": {},
   "outputs": [],
   "source": []
  },
  {
   "cell_type": "code",
   "execution_count": 233,
   "id": "aeb01b6b",
   "metadata": {},
   "outputs": [],
   "source": [
    "sports = {}\n",
    "sports[\"swim\"] = 1500\n",
    "sports[\"bike\"] = 40000\n",
    "sports[\"run\"] = 10000"
   ]
  },
  {
   "cell_type": "code",
   "execution_count": 234,
   "id": "83253b00",
   "metadata": {},
   "outputs": [],
   "source": [
    "athletes_times = {}\n",
    "athletes_times[\"Mary\"] = [1.204, 6.6, 0.32]\n",
    "athletes_times[\"John\"] = [1.212, 6.5, 0.36]\n",
    "athletes_times[\"Peter\"] = [1.14, 6.6, 0.38]\n",
    "athletes_times[\"Mafalda\"] = [1.12, 6.20, 0.38]\n",
    "athletes_times[\"Paul\"] = [1.24, 5.6, 0.4]\n",
    "athletes_times[\"Lionel\"] = [1.201, 6.0, 0.3]"
   ]
  },
  {
   "cell_type": "code",
   "execution_count": 235,
   "id": "f2dfcb4e",
   "metadata": {},
   "outputs": [],
   "source": [
    "athletes2 = { 0: 'Mary', 1: 'John', 2: 'Peter', 3: 'Mafalda', 4: 'Paul', 5: 'Lionel'} "
   ]
  },
  {
   "cell_type": "code",
   "execution_count": 236,
   "id": "8f74f777",
   "metadata": {},
   "outputs": [],
   "source": [
    "def triathlon_time_dict(sports,athletes_times):\n",
    "    athleteTotTime = np.empty(6, dtype=object) \n",
    "    temp = ((sports[\"swim\"] / athletes_times[\"Mary\"][0]) + (sports[\"bike\"] / athletes_times[\"Mary\"][1]) + (sports[\"run\"] / athletes_times[\"Mary\"][2]))\n",
    "    temp = round(temp / 3600, 1)\n",
    "    athleteTotTime[0] = temp\n",
    "    temp = ((sports[\"swim\"] / athletes_times[\"John\"][0]) + (sports[\"bike\"] / athletes_times[\"John\"][1]) + (sports[\"run\"] / athletes_times[\"John\"][2]))\n",
    "    temp = round(temp / 3600, 1)\n",
    "    athleteTotTime[1] = temp\n",
    "    temp = ((sports[\"swim\"] / athletes_times[\"Peter\"][0]) + (sports[\"bike\"] / athletes_times[\"Peter\"][1]) + (sports[\"run\"] / athletes_times[\"Peter\"][2]))\n",
    "    temp = round(temp / 3600, 1)\n",
    "    athleteTotTime[2] = temp\n",
    "    temp = ((sports[\"swim\"] / athletes_times[\"Mafalda\"][0]) + (sports[\"bike\"] / athletes_times[\"Mafalda\"][1]) + (sports[\"run\"] / athletes_times[\"Mafalda\"][2]))\n",
    "    temp = round(temp / 3600, 1)\n",
    "    athleteTotTime[3] = temp\n",
    "    temp = ((sports[\"swim\"] / athletes_times[\"Paul\"][0]) + (sports[\"bike\"] / athletes_times[\"Paul\"][1]) + (sports[\"run\"] / athletes_times[\"Paul\"][2]))\n",
    "    temp = round(temp / 3600, 1)\n",
    "    athleteTotTime[4] = temp\n",
    "    temp = ((sports[\"swim\"] / athletes_times[\"Lionel\"][0]) + (sports[\"bike\"] / athletes_times[\"Lionel\"][1]) + (sports[\"run\"] / athletes_times[\"Lionel\"][2]))\n",
    "    temp = round(temp / 3600, 1)\n",
    "    athleteTotTime[5] = temp\n",
    "    \n",
    "    min_time = np.min(athleteTotTime)\n",
    "    for i in range(len(athleteTotTime)):\n",
    "        if athleteTotTime[i] == min_time:\n",
    "            min_ID = i\n",
    "    max_time = np.max(athleteTotTime)\n",
    "    for i in range(len(athleteTotTime)):\n",
    "        if athleteTotTime[i] == max_time:\n",
    "            max_ID = i\n",
    "    print(athletes2[min_ID], \"will finish first in\", min_time, \"hours and\", athletes2[max_ID], \"will finish last in\", max_time, \"hours\")"
   ]
  },
  {
   "cell_type": "code",
   "execution_count": 237,
   "id": "2ed2afd2",
   "metadata": {
    "scrolled": true
   },
   "outputs": [
    {
     "name": "stdout",
     "output_type": "stream",
     "text": [
      "Paul will finish first in 9.3 hours and Lionel will finish last in 11.5 hours\n"
     ]
    }
   ],
   "source": [
    "triathlon_time_dict(sports,athletes_times)"
   ]
  },
  {
   "cell_type": "markdown",
   "id": "c10cb717",
   "metadata": {},
   "source": [
    "#### Problem 3"
   ]
  },
  {
   "cell_type": "code",
   "execution_count": 81,
   "id": "890b1a8e",
   "metadata": {},
   "outputs": [
    {
     "name": "stdout",
     "output_type": "stream",
     "text": [
      "Problem 3\n"
     ]
    }
   ],
   "source": [
    "print(\"Problem 3\")"
   ]
  },
  {
   "cell_type": "markdown",
   "id": "29d06799",
   "metadata": {},
   "source": [
    "#### Class : MAC 2312 \n",
    "#### Section : 7\n",
    "#### Homework 6.1 \n",
    "#### Problem 12"
   ]
  },
  {
   "cell_type": "markdown",
   "id": "60dccb49",
   "metadata": {},
   "source": [
    "Sketch the region enclosed by the given curves \n",
    "\n",
    "y = sqrt(x), y = (x/2), x = 9"
   ]
  },
  {
   "cell_type": "code",
   "execution_count": 180,
   "id": "f36a1460",
   "metadata": {},
   "outputs": [],
   "source": [
    "import matplotlib.pyplot as plt\n",
    "import numpy as np"
   ]
  },
  {
   "cell_type": "code",
   "execution_count": 195,
   "id": "7035df70",
   "metadata": {},
   "outputs": [],
   "source": [
    "def plotter(x, fx, gx):\n",
    "    plt.plot(x, fx)\n",
    "    plt.plot(x, gx)\n",
    "    plt.axvline(9)\n",
    "    plt.xlim(0,10)\n",
    "    plt.ylim(0,5)\n",
    "    plt.show()"
   ]
  },
  {
   "cell_type": "code",
   "execution_count": 196,
   "id": "afe27ec7",
   "metadata": {},
   "outputs": [],
   "source": [
    "def plotFiller(x, fx, gx):\n",
    "    plt.fill_between(x , fx, gx, where = [(x > -1) and (x <= 9) for x in x])"
   ]
  },
  {
   "cell_type": "code",
   "execution_count": 197,
   "id": "68bdfe62",
   "metadata": {},
   "outputs": [
    {
     "name": "stderr",
     "output_type": "stream",
     "text": [
      "C:\\Users\\bless\\miniconda3\\lib\\site-packages\\ipykernel_launcher.py:2: RuntimeWarning: invalid value encountered in sqrt\n",
      "  \n"
     ]
    },
    {
     "data": {
      "image/png": "[encoded data removed]",
      "text/plain": [
       "<Figure size 640x480 with 1 Axes>"
      ]
     },
     "metadata": {},
     "output_type": "display_data"
    }
   ],
   "source": [
    "x = np.linspace(-1, 10, 100)\n",
    "fx = np.sqrt(x)\n",
    "gx = x/2\n",
    "plotter(x, fx, gx)\n",
    "plotFiller(x, fx, gx)\n"
   ]
  },
  {
   "cell_type": "code",
   "execution_count": null,
   "id": "eb0b7674",
   "metadata": {},
   "outputs": [],
   "source": []
  }
 ],
 "metadata": {
  "kernelspec": {
   "display_name": "Python 3",
   "language": "python",
   "name": "python3"
  },
  "language_info": {
   "codemirror_mode": {
    "name": "ipython",
    "version": 3
   },
   "file_extension": ".py",
   "mimetype": "text/x-python",
   "name": "python",
   "nbconvert_exporter": "python",
   "pygments_lexer": "ipython3",
   "version": "3.7.11"
  }
 },
 "nbformat": 4,
 "nbformat_minor": 5
}
