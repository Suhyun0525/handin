{
 "cells": [
  {
   "cell_type": "code",
   "execution_count": 1,
   "metadata": {},
   "outputs": [],
   "source": [
    "import numpy as np\n",
    "import matplotlib.pyplot as plt"
   ]
  },
  {
   "cell_type": "markdown",
   "metadata": {},
   "source": [
    "##### Import numpy and pyplot. Create a numpy array x that goes from 1 up to and including 100 (last element must be 100.0) with a step of 0.5. Create array y that is the log10 of x and array z that is equal to the square root of x. Plot y(x) and z(x) in the same plot. Manually specify different colors, line styles, line thicknesses markers (and their size) and tickmarks for your plot. Add titles to your plot axis. Make sure they are legible. Save it as a pdf file using the appropriate naming conventions (i.e., hw5_.....pdf). "
   ]
  },
  {
   "cell_type": "code",
   "execution_count": 3,
   "metadata": {},
   "outputs": [
    {
     "name": "stdout",
     "output_type": "stream",
     "text": [
      "Problem 2:\n",
      "\n"
     ]
    },
    {
     "data": {
      "image/png": "[encoded data removed]",
      "text/plain": [
       "<Figure size 576x576 with 1 Axes>"
      ]
     },
     "metadata": {
      "needs_background": "light"
     },
     "output_type": "display_data"
    }
   ],
   "source": [
    "\n",
    "print(\"Problem 2:\\n\")\n",
    "\n",
    "#Create anumpy array x that goes from 1 up to and including 100 (last elementmustbe 100.0)with a step of 0.5. \n",
    "\n",
    "x = np.arange( 1, 100.4, 0.5 )\n",
    "y = np.log10( x )\n",
    "z = np.sqrt ( x )\n",
    "\n",
    "\n",
    "plt.figure( figsize = ( 8, 8 ) )\n",
    "\n",
    "plt.plot( x, y, color = 'red' , linestyle = '-', marker = 'o', markersize = 5, \n",
    "        linewidth = 4 , label = 'log' )\n",
    "plt.plot( x, z, color = 'blue' , linestyle = '-.', marker = 'd', markersize = 5, \n",
    "        linewidth = 4 , label = 'sqrt' )\n",
    "\n",
    "plt.xlabel( 'x'   , fontsize = 30 )\n",
    "plt.ylabel( 'y, z', fontsize = 30 )\n",
    "\n",
    "plt.title( 'Problem 2' , fontsize = 30 )\n",
    "plt.yticks( fontsize = 30 )\n",
    "plt.xticks( fontsize = 30 )\n",
    "plt.tick_params(axis='both',which='major',length=12, width=2,direction='in')\n",
    "\n",
    "#plt.savefig( 'hw5_problem2_myname.pdf', format = 'pdf', \n",
    "#            dpi = 1200, bbox_inches = 'tight', pad_inches = 0.3 )"
   ]
  },
  {
   "cell_type": "markdown",
   "metadata": {},
   "source": [
    "#### Create an array q that has the values: 45 24  5 30  3 67 33 60 65 13 82 75 21 77 67  8 86 62 23 70 11 70 21 15  84 51  6 79 78 66  2 93 49 74 23 85 25 38  1 89 . Print the array. Print the locations where q  is larger than 50. Print in one command the elements of q that are larger than 50 and smaller than 70. "
   ]
  },
  {
   "cell_type": "code",
   "execution_count": 4,
   "metadata": {},
   "outputs": [
    {
     "name": "stdout",
     "output_type": "stream",
     "text": [
      "Problem 3: \n",
      "\n"
     ]
    }
   ],
   "source": [
    "print( 'Problem 3: \\n')\n",
    "\n",
    "q = np.array([ 45, 24, 5, 30, 3, 67, 33, 60, 65, 13, 82, 75, 21, 77,\n",
    "              67, 8, 86, 62, 23, 70, 11, 70, 21, 15, 84, 51, 6, 79, 78, \n",
    "              66, 2, 93, 49, 74, 23, 85, 25, 38, 1, 89])"
   ]
  },
  {
   "cell_type": "code",
   "execution_count": 9,
   "metadata": {},
   "outputs": [
    {
     "name": "stdout",
     "output_type": "stream",
     "text": [
      "[45 24  5 30  3 67 33 60 65 13 82 75 21 77 67  8 86 62 23 70 11 70 21 15\n",
      " 84 51  6 79 78 66  2 93 49 74 23 85 25 38  1 89]\n",
      "(array([ 5,  7,  8, 10, 11, 13, 14, 16, 17, 19, 21, 24, 25, 27, 28, 29, 31,\n",
      "       33, 35, 39]),)\n",
      "[67 60 65 67 62 51 66]\n",
      "[67 60 65 67 62 51 66]\n"
     ]
    }
   ],
   "source": [
    "print( q )\n",
    "\n",
    "print( np.where( q > 50 ) )\n",
    "\n",
    "print( q[ (q > 50) & (q < 70 ) ] ) \n",
    "# or:\n",
    "print( q[ np.where( (q > 50) & (q < 70 ) ) ] )  "
   ]
  },
  {
   "cell_type": "markdown",
   "metadata": {},
   "source": [
    "#### Make a list test_list out of z. Print the 12th up to and including the 14th elements of the list. Change element 28 of the list to be 42.0. Does it work? Why/ why not? Explain. \n",
    "\n"
   ]
  },
  {
   "cell_type": "code",
   "execution_count": 38,
   "metadata": {},
   "outputs": [],
   "source": [
    "test_list = list( z )"
   ]
  },
  {
   "cell_type": "code",
   "execution_count": 39,
   "metadata": {},
   "outputs": [
    {
     "name": "stdout",
     "output_type": "stream",
     "text": [
      "[2.5495097567963922, 2.6457513110645907, 2.7386127875258306, 2.8284271247461903]\n"
     ]
    }
   ],
   "source": [
    "print( test_list[ 11: 14 ])"
   ]
  },
  {
   "cell_type": "code",
   "execution_count": 40,
   "metadata": {},
   "outputs": [],
   "source": [
    "test_list[ 28 ] = 42."
   ]
  },
  {
   "cell_type": "code",
   "execution_count": null,
   "metadata": {},
   "outputs": [],
   "source": [
    "##yes it works because lists are mutable"
   ]
  },
  {
   "cell_type": "markdown",
   "metadata": {},
   "source": [
    "#### Make a tuple test_tuple out of z . Print the 20th element of test_tuple. Change element 21 of test_tuple to be 44.0. Does it work? Why/ why not? Explain."
   ]
  },
  {
   "cell_type": "code",
   "execution_count": 20,
   "metadata": {},
   "outputs": [],
   "source": [
    "test_tuple = tuple( z )"
   ]
  },
  {
   "cell_type": "code",
   "execution_count": 21,
   "metadata": {},
   "outputs": [
    {
     "name": "stdout",
     "output_type": "stream",
     "text": [
      "3.24037034920393\n"
     ]
    }
   ],
   "source": [
    "print( test_tuple[ 19 ] )"
   ]
  },
  {
   "cell_type": "code",
   "execution_count": 22,
   "metadata": {},
   "outputs": [
    {
     "ename": "TypeError",
     "evalue": "'tuple' object does not support item assignment",
     "output_type": "error",
     "traceback": [
      "\u001b[0;31m---------------------------------------------------------------------------\u001b[0m",
      "\u001b[0;31mTypeError\u001b[0m                                 Traceback (most recent call last)",
      "\u001b[0;32m<ipython-input-22-f64116f9e73e>\u001b[0m in \u001b[0;36m<module>\u001b[0;34m\u001b[0m\n\u001b[0;32m----> 1\u001b[0;31m \u001b[0mtest_tuple\u001b[0m\u001b[0;34m[\u001b[0m \u001b[0;36m21\u001b[0m \u001b[0;34m]\u001b[0m \u001b[0;34m=\u001b[0m \u001b[0;36m44.\u001b[0m \u001b[0;31m## doesn't work because tuples are immutable\u001b[0m\u001b[0;34m\u001b[0m\u001b[0;34m\u001b[0m\u001b[0m\n\u001b[0m",
      "\u001b[0;31mTypeError\u001b[0m: 'tuple' object does not support item assignment"
     ]
    }
   ],
   "source": [
    "test_tuple[ 21 ] = 44. ## doesn't work because tuples are immutable"
   ]
  },
  {
   "cell_type": "code",
   "execution_count": 23,
   "metadata": {},
   "outputs": [],
   "source": [
    "# what would have worked is to make a new tuple as:\n",
    "\n",
    "# give another name just to compare with initial, can use same name as well:\n",
    "test_tuple_2 = test_tuple[ 0: 21 ] + (44.,) + test_tuple[ 22: ] "
   ]
  },
  {
   "cell_type": "code",
   "execution_count": 27,
   "metadata": {},
   "outputs": [
    {
     "data": {
      "text/plain": [
       "[<matplotlib.lines.Line2D at 0x7ff90e511d68>]"
      ]
     },
     "execution_count": 27,
     "metadata": {},
     "output_type": "execute_result"
    },
    {
     "data": {
      "image/png": "[encoded data removed]",
      "text/plain": [
       "<Figure size 432x288 with 1 Axes>"
      ]
     },
     "metadata": {
      "needs_background": "light"
     },
     "output_type": "display_data"
    }
   ],
   "source": [
    "plt.plot( test_tuple, linestyle = 'none'   , marker = 'o'   )\n",
    "plt.plot( test_tuple_2, linestyle = 'none'   , marker = 'p' )"
   ]
  },
  {
   "cell_type": "markdown",
   "metadata": {},
   "source": [
    "#### Create a list of strings word_list that contains the words ‘twinkle’, ‘twinkle’, ‘little’, ‘star’. Scan every word (one by one is fine, we haven’t talked about for loops yet) of your list and find out which words contain a ‘e’ and which words contain an ‘a’, and the index of the letter ‘e’ and ‘a’ in the word (e.g., in Mary ‘a’ is on 1). Is word ‘star’ or ‘bright’ in your word_list? Write the code to test it."
   ]
  },
  {
   "cell_type": "code",
   "execution_count": 31,
   "metadata": {},
   "outputs": [
    {
     "name": "stdout",
     "output_type": "stream",
     "text": [
      "The indexes of letter e on the words are: \n",
      "For twinkle : 6\n",
      "For twinkle : 6\n",
      "For little : 5\n",
      "For little : -1\n",
      "The indexes of letter a on the words are: \n",
      "For twinkle : -1\n",
      "For twinkle : -1\n",
      "For little : -1\n",
      "For star : 2\n"
     ]
    }
   ],
   "source": [
    "word_list = [ 'twinkle', 'twinkle', 'little', 'star' ]\n",
    "\n",
    "print('The indexes of letter e on the words are: ')\n",
    "print( 'For', word_list[ 0 ], ':', word_list[ 0 ].find( 'e' ) )\n",
    "print( 'For', word_list[ 1 ], ':', word_list[ 1 ].find( 'e' ) )\n",
    "print( 'For', word_list[ 2 ], ':',word_list[ 2 ].find( 'e' ) )\n",
    "print( 'For', word_list[ 3 ], ':',word_list[ 3 ].find( 'e' ) )\n",
    "\n",
    "\n",
    "print('The indexes of letter a on the words are: ')\n",
    "print( 'For', word_list[ 0 ], ':',word_list[ 0 ].find( 'a' ) )\n",
    "print( 'For', word_list[ 1 ], ':',word_list[ 1 ].find( 'a' ) )\n",
    "print( 'For', word_list[ 2 ], ':',word_list[ 2 ].find( 'a' ) )\n",
    "print( 'For', word_list[ 3 ], ':',word_list[ 3 ].find( 'a' ) )"
   ]
  },
  {
   "cell_type": "code",
   "execution_count": 37,
   "metadata": {},
   "outputs": [
    {
     "name": "stdout",
     "output_type": "stream",
     "text": [
      "False\n",
      "False\n",
      "False\n",
      "True\n",
      " \n",
      "False\n",
      "False\n",
      "False\n",
      "False\n"
     ]
    }
   ],
   "source": [
    "#slower way, test one by one all words,\n",
    "print( 'star' == word_list[ 0 ] ) \n",
    "print( 'star' == word_list[ 1 ] ) \n",
    "print( 'star' == word_list[ 2 ] ) \n",
    "print( 'star' == word_list[ 3 ] ) \n",
    "\n",
    "print(' ')\n",
    "\n",
    "print( 'bright' == word_list[ 0 ] ) \n",
    "print( 'bright' == word_list[ 1 ] ) \n",
    "print( 'bright' == word_list[ 2 ] ) \n",
    "print( 'bright' == word_list[ 3 ] ) "
   ]
  },
  {
   "cell_type": "code",
   "execution_count": 33,
   "metadata": {},
   "outputs": [
    {
     "name": "stdout",
     "output_type": "stream",
     "text": [
      "yes star is there\n"
     ]
    }
   ],
   "source": [
    "if 'star' in word_list:\n",
    "    print( 'yes star is there')\n",
    "if 'bright' in word_list:\n",
    "    print('yes bright is there')"
   ]
  },
  {
   "cell_type": "markdown",
   "metadata": {},
   "source": [
    "#### Recall the quadratic formula x=\\frac{-b\\pm\\sqrt{b^2-4ac}}{2a}, which solves for the roots of  ax^2+bx+c=0. Write a function that calculates and returns a list containing both of the roots, given the three coefficients. Be sure to include a docstring! What does it need to include? Calculate the roots of x^2-x-12\\ =0, returning them directly into two variables. Print them. "
   ]
  },
  {
   "cell_type": "code",
   "execution_count": 42,
   "metadata": {},
   "outputs": [
    {
     "name": "stdout",
     "output_type": "stream",
     "text": [
      "Problem 4 \n",
      "\n"
     ]
    }
   ],
   "source": [
    "print('Problem 4 \\n')\n",
    "\n",
    "\n",
    "def quadratic(a,b,c):\n",
    "    \"\"\"Solves the quadratic formula a*x^2 + b*x + c and returns the roots of x (x1, x2). \n",
    "    Input: a , b, c \n",
    "    Output: x1 = -b + np.sqrt( b **2 - 4 * a * c) \n",
    "            x2 = -b + np.sqrt( b **2 - 4 * a * c) \"\"\"\n",
    "    \n",
    "    x1 = - b + np.sqrt( b **2 - 4 * a * c)\n",
    "    x1 = x1 /(2*a)\n",
    "    \n",
    "    x2 = - b - np.sqrt( b **2 - 4 * a * c)\n",
    "    x2 = x2 /(2*a)\n",
    "    \n",
    "    return [x1,x2]\n",
    "\n"
   ]
  },
  {
   "cell_type": "code",
   "execution_count": 43,
   "metadata": {},
   "outputs": [
    {
     "name": "stdout",
     "output_type": "stream",
     "text": [
      "Call the quadratic function and find the roots to  x^2 - x - 12=0 : \n",
      "\n",
      "4.0 -3.0\n"
     ]
    }
   ],
   "source": [
    "#Calculate the roots of x^2 - x - 12=0, returning them directly into two variables. Print them\n",
    "\n",
    "print('Call the quadratic function and find the roots to  x^2 - x - 12=0 : \\n')\n",
    "\n",
    "x1, x2 = quadratic(1, -1, -12)\n",
    "\n",
    "print (x1, x2)\n",
    "\n"
   ]
  },
  {
   "cell_type": "code",
   "execution_count": null,
   "metadata": {},
   "outputs": [],
   "source": []
  },
  {
   "cell_type": "code",
   "execution_count": null,
   "metadata": {},
   "outputs": [],
   "source": []
  }
 ],
 "metadata": {
  "kernelspec": {
   "display_name": "Python 3",
   "language": "python",
   "name": "python3"
  },
  "language_info": {
   "codemirror_mode": {
    "name": "ipython",
    "version": 3
   },
   "file_extension": ".py",
   "mimetype": "text/x-python",
   "name": "python",
   "nbconvert_exporter": "python",
   "pygments_lexer": "ipython3",
   "version": "3.7.11"
  }
 },
 "nbformat": 4,
 "nbformat_minor": 2
}
