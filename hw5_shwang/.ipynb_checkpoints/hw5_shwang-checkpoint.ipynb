{
 "cells": [
  {
   "cell_type": "markdown",
   "id": "10c58e1a",
   "metadata": {},
   "source": [
    "# Suhyun Hwang"
   ]
  },
  {
   "cell_type": "markdown",
   "id": "bd9691df",
   "metadata": {},
   "source": [
    "# Homework 5"
   ]
  },
  {
   "cell_type": "markdown",
   "id": "60c1b6f6",
   "metadata": {},
   "source": [
    "# Thursday Sep 23, 2021"
   ]
  },
  {
   "cell_type": "code",
   "execution_count": 9,
   "id": "79b493cf",
   "metadata": {},
   "outputs": [],
   "source": [
    "import numpy as np"
   ]
  },
  {
   "cell_type": "markdown",
   "id": "0f453464",
   "metadata": {},
   "source": [
    "#### Problem 1 : "
   ]
  },
  {
   "cell_type": "code",
   "execution_count": 10,
   "id": "c18ebf5d",
   "metadata": {},
   "outputs": [
    {
     "name": "stdout",
     "output_type": "stream",
     "text": [
      "Problem 1\n"
     ]
    }
   ],
   "source": [
    "print ( 'Problem 1' )"
   ]
  },
  {
   "cell_type": "markdown",
   "id": "93fd6b54",
   "metadata": {},
   "source": [
    "#### Problem 2 : "
   ]
  },
  {
   "cell_type": "code",
   "execution_count": 13,
   "id": "f33425ac",
   "metadata": {},
   "outputs": [
    {
     "name": "stdout",
     "output_type": "stream",
     "text": [
      "Problem 2\n"
     ]
    }
   ],
   "source": [
    "print ( 'Problem 2')"
   ]
  },
  {
   "cell_type": "code",
   "execution_count": 16,
   "id": "720f4ceb",
   "metadata": {},
   "outputs": [],
   "source": [
    "velocity_list = list( range(0, 100, 10) )\n",
    "time_list = list( range(0, 1000, 100) )"
   ]
  },
  {
   "cell_type": "code",
   "execution_count": 17,
   "id": "d9b87bcd",
   "metadata": {},
   "outputs": [
    {
     "name": "stdout",
     "output_type": "stream",
     "text": [
      "[0, 10, 20, 30, 40, 50, 60, 70, 80, 90]\n"
     ]
    }
   ],
   "source": [
    "print ( velocity_list )"
   ]
  },
  {
   "cell_type": "code",
   "execution_count": 18,
   "id": "c7f0000e",
   "metadata": {},
   "outputs": [
    {
     "name": "stdout",
     "output_type": "stream",
     "text": [
      "[0, 100, 200, 300, 400, 500, 600, 700, 800, 900]\n"
     ]
    }
   ],
   "source": [
    "print ( time_list )"
   ]
  },
  {
   "cell_type": "code",
   "execution_count": 19,
   "id": "4566ef4a",
   "metadata": {},
   "outputs": [
    {
     "data": {
      "text/plain": [
       "[30, 40]"
      ]
     },
     "execution_count": 19,
     "metadata": {},
     "output_type": "execute_result"
    }
   ],
   "source": [
    "velocity_list[ 3 : 5 ]"
   ]
  },
  {
   "cell_type": "code",
   "execution_count": 20,
   "id": "1428b537",
   "metadata": {},
   "outputs": [
    {
     "data": {
      "text/plain": [
       "80"
      ]
     },
     "execution_count": 20,
     "metadata": {},
     "output_type": "execute_result"
    }
   ],
   "source": [
    "velocity_list[ 8 ]"
   ]
  },
  {
   "cell_type": "code",
   "execution_count": 37,
   "id": "8f8815f9",
   "metadata": {},
   "outputs": [],
   "source": [
    "import acc"
   ]
  },
  {
   "cell_type": "code",
   "execution_count": 41,
   "id": "227ccbe5",
   "metadata": {},
   "outputs": [
    {
     "name": "stdout",
     "output_type": "stream",
     "text": [
      "<module 'acc' from 'C:\\\\Users\\\\bless\\\\Desktop\\\\phz3150\\\\handin\\\\hw5_shwang\\\\acc.py'>\n"
     ]
    }
   ],
   "source": [
    "print ( acc )"
   ]
  },
  {
   "cell_type": "code",
   "execution_count": null,
   "id": "8d5f1e4a",
   "metadata": {},
   "outputs": [],
   "source": []
  }
 ],
 "metadata": {
  "kernelspec": {
   "display_name": "Python 3",
   "language": "python",
   "name": "python3"
  },
  "language_info": {
   "codemirror_mode": {
    "name": "ipython",
    "version": 3
   },
   "file_extension": ".py",
   "mimetype": "text/x-python",
   "name": "python",
   "nbconvert_exporter": "python",
   "pygments_lexer": "ipython3",
   "version": "3.7.11"
  }
 },
 "nbformat": 4,
 "nbformat_minor": 5
}
