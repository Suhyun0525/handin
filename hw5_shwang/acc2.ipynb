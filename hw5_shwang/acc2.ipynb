{
 "cells": [
  {
   "cell_type": "code",
   "execution_count": 3,
   "id": "84e709d6",
   "metadata": {},
   "outputs": [],
   "source": [
    "def acceleration(u1, u2, t1, t2):\n",
    "    \"\"\"Function hat takes the different speeds (u1,u2) of a body at times t1 and t2 and \n",
    "    calculates the acceleration of the body\"\"\"\n",
    "\n",
    "    a = (u2 - u1) / (t2 - t1)\n",
    "    return a"
   ]
  },
  {
   "cell_type": "code",
   "execution_count": null,
   "id": "13e070e3",
   "metadata": {},
   "outputs": [],
   "source": []
  }
 ],
 "metadata": {
  "kernelspec": {
   "display_name": "Python 3",
   "language": "python",
   "name": "python3"
  },
  "language_info": {
   "codemirror_mode": {
    "name": "ipython",
    "version": 3
   },
   "file_extension": ".py",
   "mimetype": "text/x-python",
   "name": "python",
   "nbconvert_exporter": "python",
   "pygments_lexer": "ipython3",
   "version": "3.7.11"
  }
 },
 "nbformat": 4,
 "nbformat_minor": 5
}
